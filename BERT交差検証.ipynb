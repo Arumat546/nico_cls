{
  "nbformat": 4,
  "nbformat_minor": 0,
  "metadata": {
    "colab": {
      "name": "BERT交差検証.ipynb",
      "provenance": [],
      "collapsed_sections": [],
      "toc_visible": true,
      "machine_shape": "hm",
      "mount_file_id": "1LvR5qVkcz4T_xgaV8lWRF18yxrCf0BXc",
      "authorship_tag": "ABX9TyNRVPxGAQeNs0mgyVZAfGRO",
      "include_colab_link": true
    },
    "kernelspec": {
      "name": "python3",
      "display_name": "Python 3"
    },
    "accelerator": "GPU"
  },
  "cells": [
    {
      "cell_type": "markdown",
      "metadata": {
        "id": "view-in-github",
        "colab_type": "text"
      },
      "source": [
        "<a href=\"https://colab.research.google.com/github/Arumat546/nico_cls/blob/main/BERT%E4%BA%A4%E5%B7%AE%E6%A4%9C%E8%A8%BC.ipynb\" target=\"_parent\"><img src=\"https://colab.research.google.com/assets/colab-badge.svg\" alt=\"Open In Colab\"/></a>"
      ]
    },
    {
      "cell_type": "code",
      "metadata": {
        "colab": {
          "base_uri": "https://localhost:8080/"
        },
        "id": "Ejxdprn3cNBA",
        "outputId": "f50e8ce7-2280-4062-80e9-ddb5ad816aab"
      },
      "source": [
        "%cd /content/drive/MyDrive/Google Colab/niconico_dataset_add_smid/5_15"
      ],
      "execution_count": 6,
      "outputs": [
        {
          "output_type": "stream",
          "text": [
            "/content/drive/MyDrive/Google Colab/niconico_dataset_add_smid/5_15\n"
          ],
          "name": "stdout"
        }
      ]
    },
    {
      "cell_type": "code",
      "metadata": {
        "id": "DSTdrUo2TCsQ"
      },
      "source": [
        "#複数のtsvを同一データフレームに格納\n",
        "import pandas as pd\n",
        "import glob\n",
        "from sklearn.model_selection import KFold\n",
        "import csv\n",
        "\n",
        "path = \"/content/drive/My Drive/Google Colab/niconico_dataset_add_smid/DAT  ASET/6mix\" # use your path\n",
        "all_files = glob.glob(path + \"/*.tsv\")#tsv\n",
        "#all_files = glob.glob(path + \"/*.csv\")#csv\n",
        " \n",
        "list_dataset = []\n",
        " \n",
        "for filename in all_files:\n",
        "    df2 = pd.read_table(filename, header=None)#tsv\n",
        "    #df2 = pd.read_csv(filename)#csv\n",
        "    list_dataset.append(df2)\n",
        " \n",
        "df = pd.concat(list_dataset, axis=0, ignore_index=True)\n",
        "#df = pd.read_table(\"/content/drive/MyDrive/Google Colab/niconico_dataset_add_smid/5_15/8mix\",header=None)\n",
        "#データのシャッフル\n",
        "df = df.sample(frac=1, random_state=45).reset_index(drop=True)\n",
        "df.head()\n",
        "\n",
        "#交差検証(trainとtest)\n",
        "kf = KFold(4, shuffle=True)\n",
        "\n",
        "\n",
        "kfcount=1\n",
        "for train, test in kf.split(df):\n",
        "     train_df = df.iloc[train]\n",
        "     test_df = df.iloc[test]\n",
        "     print('(train)', train_df)\n",
        "     print('(test)', test_df)\n",
        "     print('-----')\n",
        "\n",
        "     if kfcount == 1:\n",
        "       test_df.to_csv(\"./tr1.tsv\", sep='\\t', index=False, header=None)\n",
        "       train_df.to_csv(\"./te1.tsv\", sep='\\t', index=False, header=None)\n",
        "     elif kfcount == 2:\n",
        "       test_df.to_csv(\"./te2.tsv\", sep='\\t', index=False, header=None)\n",
        "       train_df.to_csv(\"./tr2.tsv\", sep='\\t', index=False, header=None)\n",
        "     elif kfcount == 3:\n",
        "       test_df.to_csv(\"./te3.tsv\", sep='\\t', index=False, header=None)\n",
        "       train_df.to_csv(\"./tr3.tsv\", sep='\\t', index=False, header=None)\n",
        "     elif kfcount == 4:\n",
        "       test_df.to_csv(\"./te4.tsv\", sep='\\t', index=False, header=None)\n",
        "       train_df.to_csv(\"./tr4.tsv\", sep='\\t', index=False, header=None)\n",
        "     elif kfcount == 5:\n",
        "        test_df.to_csv(\"./te5.tsv\", sep='\\t', index=False, header=None)\n",
        "        train_df.to_csv(\"./tr5.tsv\", sep='\\t', index=False, header=None)\n",
        "     kfcount=kfcount+1\n"
      ],
      "execution_count": null,
      "outputs": []
    },
    {
      "cell_type": "code",
      "metadata": {
        "id": "yrKz1OCQWrjV"
      },
      "source": [
        "# MeCabとtransformersの用意\n",
        "%%capture\n",
        "!apt install aptitude swig\n",
        "!aptitude install mecab libmecab-dev mecab-ipadic-utf8 git make curl xz-utils file -y\n",
        "!pip install mecab-python3==0.996.5\n",
        "!pip install unidic-lite\n",
        "!pip install transformers==3.5.1\n",
        "!pip install fugashi\n",
        "!pip install ipadic\n",
        "!pip install torch==1.4.0\n",
        "!pip install torchtext==0.3.1\n",
        "import ipadic\n",
        "import torch\n",
        "import torchtext \n",
        "import torch.nn.functional as F\n",
        "from transformers.modeling_bert import BertModel\n",
        "from transformers.tokenization_bert_japanese import BertJapaneseTokenizer\n",
        "from transformers import BertJapaneseTokenizer, BertForMaskedLM\n",
        "# 日本語BERTの分かち書き用tokenizer\n",
        "tokenizer = BertJapaneseTokenizer.from_pretrained('cl-tohoku/bert-base-japanese-whole-word-masking')"
      ],
      "execution_count": 8,
      "outputs": []
    },
    {
      "cell_type": "code",
      "metadata": {
        "id": "V5Bws93caLWL",
        "colab": {
          "base_uri": "https://localhost:8080/"
        },
        "outputId": "bb25c2ba-8953-4b66-8d54-3021e703613a"
      },
      "source": [
        "CTE=\"6カテゴリ\"\n",
        "trdata=\"tr1.tsv\"\n",
        "tedata=\"te1.tsv\""
      ],
      "execution_count": 3,
      "outputs": [
        {
          "output_type": "stream",
          "text": [
            "/content/drive/MyDrive/Google Colab/niconico_dataset_add_smid/4_19\n"
          ],
          "name": "stdout"
        }
      ]
    },
    {
      "cell_type": "code",
      "metadata": {
        "id": "rcuujF5PS65x",
        "colab": {
          "base_uri": "https://localhost:8080/",
          "height": 287
        },
        "outputId": "bd1d0974-9f5c-4a5e-9161-2cb3c9e8722e"
      },
      "source": [
        "!pip install -q gwpy\n",
        "\n",
        "# 乱数シードの固定\n",
        "import os\n",
        "import random\n",
        "import numpy as np\n",
        "\n",
        "SEED_VALUE = 1234  # これはなんでも良い\n",
        "os.environ['PYTHONHASHSEED'] = str(SEED_VALUE)\n",
        "random.seed(SEED_VALUE)\n",
        "np.random.seed(SEED_VALUE)\n",
        "torch.manual_seed(SEED_VALUE)  # PyTorchを使う場合"
      ],
      "execution_count": 2,
      "outputs": [
        {
          "output_type": "stream",
          "text": [
            "\u001b[K     |████████████████████████████████| 1.4MB 6.7MB/s \n",
            "\u001b[K     |████████████████████████████████| 61kB 9.1MB/s \n",
            "\u001b[K     |████████████████████████████████| 61kB 7.3MB/s \n",
            "\u001b[K     |████████████████████████████████| 3.2MB 17.9MB/s \n",
            "\u001b[?25h  Building wheel for ligo-segments (setup.py) ... \u001b[?25l\u001b[?25hdone\n"
          ],
          "name": "stdout"
        },
        {
          "output_type": "error",
          "ename": "NameError",
          "evalue": "ignored",
          "traceback": [
            "\u001b[0;31m---------------------------------------------------------------------------\u001b[0m",
            "\u001b[0;31mNameError\u001b[0m                                 Traceback (most recent call last)",
            "\u001b[0;32m<ipython-input-2-ebd1fb148fe5>\u001b[0m in \u001b[0;36m<module>\u001b[0;34m()\u001b[0m\n\u001b[1;32m     10\u001b[0m \u001b[0mrandom\u001b[0m\u001b[0;34m.\u001b[0m\u001b[0mseed\u001b[0m\u001b[0;34m(\u001b[0m\u001b[0mSEED_VALUE\u001b[0m\u001b[0;34m)\u001b[0m\u001b[0;34m\u001b[0m\u001b[0;34m\u001b[0m\u001b[0m\n\u001b[1;32m     11\u001b[0m \u001b[0mnp\u001b[0m\u001b[0;34m.\u001b[0m\u001b[0mrandom\u001b[0m\u001b[0;34m.\u001b[0m\u001b[0mseed\u001b[0m\u001b[0;34m(\u001b[0m\u001b[0mSEED_VALUE\u001b[0m\u001b[0;34m)\u001b[0m\u001b[0;34m\u001b[0m\u001b[0;34m\u001b[0m\u001b[0m\n\u001b[0;32m---> 12\u001b[0;31m \u001b[0mtorch\u001b[0m\u001b[0;34m.\u001b[0m\u001b[0mmanual_seed\u001b[0m\u001b[0;34m(\u001b[0m\u001b[0mSEED_VALUE\u001b[0m\u001b[0;34m)\u001b[0m  \u001b[0;31m# PyTorchを使う場合\u001b[0m\u001b[0;34m\u001b[0m\u001b[0;34m\u001b[0m\u001b[0m\n\u001b[0m",
            "\u001b[0;31mNameError\u001b[0m: name 'torch' is not defined"
          ]
        }
      ]
    },
    {
      "cell_type": "code",
      "metadata": {
        "id": "Wr8HQqXzWu24"
      },
      "source": [
        "%%capture\n",
        "CTE=\"8カテゴリ\"\n",
        "trdata=\"tr1.tsv\"\n",
        "tedata=\"te1.tsv\"\n",
        "# データを読み込んだときに、読み込んだ内容に対して行う処理を定義\n",
        "max_length = 512  # 東北大学_日本語版の最大の単語数（サブワード数）は512\n",
        "\n",
        "def tokenizer_512(input_text):\n",
        "    \"\"\"torchtextのtokenizerとして扱えるように、512単語のpytorchでのencodeを定義。ここで[0]を指定し忘れないように\"\"\"\n",
        "    return tokenizer.encode(input_text, max_length=512, return_tensors='pt')[0]\n",
        "\n",
        "TEXT = torchtext.data.Field(sequential=True, tokenize=tokenizer_512, use_vocab=False, lower=False, include_lengths=True, batch_first=True, fix_length=max_length, pad_token=0)\n",
        "# 注意：tokenize=tokenizer.encodeと、.encodeをつけます。padding[PAD]のindexが0なので、0を指定します。\n",
        "LABEL = torchtext.data.Field(sequential=False, use_vocab=False)\n",
        "\n",
        "# 各tsvファイルを読み込み、分かち書きをしてdatasetにします\n",
        "##########################################################################################################################################################################\n",
        "dataset_train_eval, dataset_test = torchtext.data.TabularDataset.splits(path='.', train=trdata, test=tedata, format='tsv', fields=[('content', TEXT), ('category', LABEL)])\n",
        "##########################################################################################################################################################################\n",
        "\n",
        "# torchtext.data.Datasetのsplit関数で訓練データと検証データを分ける\n",
        "dataset_train, dataset_eval = dataset_train_eval.split(split_ratio=0.8, random_state=random.seed(1234))\n",
        "\n",
        "# datasetの長さを確認してみる\n",
        "print(dataset_train.__len__())\n",
        "print(dataset_eval.__len__())\n",
        "print(dataset_test.__len__())\n",
        "\n",
        "# DataLoaderを作成します（torchtextの文脈では単純にiteraterと呼ばれています）\n",
        "batch_size = 32  # BERTでは16、32あたりを使用する\n",
        "\n",
        "dl_train = torchtext.data.Iterator(\n",
        "    dataset_train, batch_size=batch_size, train=True)\n",
        "\n",
        "dl_eval = torchtext.data.Iterator(\n",
        "    dataset_eval, batch_size=batch_size, train=False, sort=False)\n",
        "\n",
        "dl_test = torchtext.data.Iterator(\n",
        "    dataset_test, batch_size=batch_size, train=False, sort=False)\n",
        "\n",
        "# 辞書オブジェクトにまとめる\n",
        "dataloaders_dict = {\"train\": dl_train, \"val\": dl_eval}\n",
        "\n",
        "from torch import nn\n",
        "# BERTの日本語学習済みパラメータのモデル\n",
        "model = BertModel.from_pretrained('cl-tohoku/bert-base-japanese-whole-word-masking')\n",
        "class BertForNico(nn.Module):\n",
        "    '''BERTモデルに3クラスを判定する部分をつなげたモデル'''\n",
        "\n",
        "    def __init__(self):\n",
        "        super(BertForNico, self).__init__()\n",
        "\n",
        "        # BERTモジュール\n",
        "        self.bert = model  # 日本語学習済みのBERTモデル\n",
        "\n",
        "        # headにクラス予測を追加\n",
        "        # 入力はBERTの出力特徴量の次元768、出力は3クラス\n",
        "        self.cls = nn.Linear(in_features=768, out_features=9)###############################################################################################クラス数注意！！！！！！！！！！！！！！！\n",
        "\n",
        "        # 重み初期化処理\n",
        "        nn.init.normal_(self.cls.weight, std=0.02)\n",
        "        nn.init.normal_(self.cls.bias, 0)\n",
        "\n",
        "    def forward(self, input_ids):\n",
        "        '''\n",
        "        input_ids： [batch_size, sequence_length]の文章の単語IDの羅列\n",
        "        '''\n",
        "\n",
        "        # BERTの基本モデル部分の順伝搬\n",
        "        # 順伝搬させる\n",
        "        result = self.bert(input_ids)  # reult は、sequence_output, pooled_output\n",
        "\n",
        "        # sequence_outputの先頭の単語ベクトルを抜き出す\n",
        "        vec_0 = result[0]  # 最初の0がsequence_outputを示す\n",
        "        vec_0 = vec_0[:, 0, :]  # 全バッチ。先頭0番目の単語の全768要素\n",
        "        vec_0 = vec_0.view(-1, 768)  # sizeを[batch_size, hidden_size]に変換\n",
        "        output = self.cls(vec_0)  # 全結合層\n",
        "\n",
        "        return output\n",
        "# モデル構築\n",
        "net = BertForNico()\n",
        "# 訓練モードに設定\n",
        "net.train()\n",
        "# 勾配計算を最後のBertLayerモジュールと追加した分類アダプターのみ実行\n",
        "\n",
        "# 1. まず全部を、勾配計算Falseにしてしまう\n",
        "for param in net.parameters():\n",
        "    param.requires_grad = False\n",
        "\n",
        "# 2. BertLayerモジュールの最後を勾配計算ありに変更\n",
        "for param in net.bert.encoder.layer[-1].parameters():\n",
        "    param.requires_grad = True\n",
        "\n",
        "# 3. 識別器を勾配計算ありに変更\n",
        "for param in net.cls.parameters():\n",
        "    param.requires_grad = True\n",
        "\n",
        "# 最適化手法の設定\n",
        "import torch.optim as optim\n",
        "\n",
        "# BERTの元の部分はファインチューニング\n",
        "optimizer = optim.Adam([\n",
        "    {'params': net.bert.encoder.layer[-1].parameters(), 'lr': 5e-5},\n",
        "    {'params': net.cls.parameters(), 'lr': 1e-4}\n",
        "])\n",
        "\n",
        "# 損失関数の設定\n",
        "criterion = nn.CrossEntropyLoss()\n",
        "# nn.LogSoftmax()を計算してからnn.NLLLoss(negative log likelihood loss)を計算\n",
        "# 棄却有りのとき\n",
        "\n",
        "#正解率記録用リスト\n",
        "EpAc_train = []\n",
        "EpAc_val = []\n",
        "\n",
        "def train_model(net, dataloaders_dict, criterion, optimizer, num_epochs):\n",
        "\n",
        "    # GPUが使えるかを確認\n",
        "    device = torch.device(\"cuda:0\" if torch.cuda.is_available() else \"cpu\")\n",
        "    print(\"使用デバイス：\", device)\n",
        "    print('-----start-------')\n",
        "\n",
        "    # ネットワークをGPUへ\n",
        "    net.to(device)\n",
        "\n",
        "    # ネットワークがある程度固定であれば、高速化させる\n",
        "    torch.backends.cudnn.benchmark = True\n",
        "\n",
        "    # ミニバッチのサイズ\n",
        "    batch_size = dataloaders_dict[\"train\"].batch_size\n",
        "\n",
        "    # epochのループ\n",
        "    for epoch in range(num_epochs):\n",
        "        # epochごとの訓練と検証のループ\n",
        "        for phase in ['train', 'val']:\n",
        "            if phase == 'train':\n",
        "                net.train()  # モデルを訓練モードに\n",
        "            else:\n",
        "                net.eval()   # モデルを検証モードに\n",
        "\n",
        "            epoch_loss = 0.0  # epochの損失和\n",
        "            epoch_corrects = 0  # epochの正解数\n",
        "            iteration = 1\n",
        "\n",
        "            # データローダーからミニバッチを取り出すループ\n",
        "            for batch in (dataloaders_dict[phase]):\n",
        "                # batchはTextとLableの辞書型変数\n",
        "\n",
        "                # GPUが使えるならGPUにデータを送る\n",
        "                inputs = batch.content[0].to(device)  # 文章\n",
        "                labels = batch.category.to(device)  # ラベル\n",
        "\n",
        "                # optimizerを初期化\n",
        "                optimizer.zero_grad()\n",
        "\n",
        "                # 順伝搬（forward）計算\n",
        "                with torch.set_grad_enabled(phase == 'train'):\n",
        "\n",
        "                    # BERTに入力\n",
        "                    outputs = net(inputs)\n",
        "   \n",
        "                    # 損失を計算(DG考慮)\n",
        "                    if epoch >= pretrain:\n",
        "                      outputs = F.softmax(outputs,dim=1)\n",
        "\n",
        "                      outputs, reservation = outputs[:,:-1], outputs[:,-1] #[全行、最後以外全列],[全行、最後の列]\n",
        "\n",
        "                    #unsqeeze(1)でonehotベクトル化\n",
        "                    #labelsの要素が1のとこと同じ要素をoutputsから取り出す\n",
        "                      gain = torch.gather(outputs,dim=1,index=labels.unsqueeze(1)).squeeze() \n",
        "\n",
        "                      doubling_rate = (gain.add(reservation.div(reward))).log()\n",
        "           \n",
        "                      loss = -doubling_rate.mean()\n",
        "\n",
        "                    else:\n",
        "                      loss = criterion(outputs[:,:-1],labels)\n",
        "\n",
        "                    _, preds = torch.max(outputs, 1)  # ラベルを予測　_は出力の最大値、predsは出力の最大位置（クラス）\n",
        "\n",
        "                    # 訓練時はバックプロパゲーション\n",
        "                    if phase == 'train':\n",
        "                        loss.backward()\n",
        "                        optimizer.step()\n",
        "\n",
        "                        if (iteration % 10 == 0):  # 10iterに1度、lossを表示\n",
        "                            acc = (torch.sum(preds == labels.data)\n",
        "                                   ).double()/batch_size\n",
        "                            print('イテレーション {} || Loss: {:.4f} || 10iter. || 本イテレーションの正解率：{}'.format(\n",
        "                                iteration, loss.item(),  acc))\n",
        "\n",
        "                    iteration += 1\n",
        "\n",
        "                    # 損失と正解数の合計を更新\n",
        "                    epoch_loss += loss.item() * batch_size\n",
        "                    epoch_corrects += torch.sum(preds == labels.data)\n",
        "\n",
        "            # epochごとのlossと正解率\n",
        "            epoch_loss = epoch_loss / len(dataloaders_dict[phase].dataset)\n",
        "            epoch_acc = epoch_corrects.double(\n",
        "            ) / len(dataloaders_dict[phase].dataset)\n",
        "\n",
        "            #正解率をリストに格納\n",
        "            if phase == 'train':\n",
        "              EpAc_train.append(epoch_acc)\n",
        "            \n",
        "            else :\n",
        "              EpAc_val.append(epoch_acc)\n",
        "\n",
        "            print('Epoch {}/{} | {:^5} |  Loss: {:.4f} Acc: {:.4f}'.format(epoch+1, num_epochs,\n",
        "                                                                           phase, epoch_loss, epoch_acc))\n",
        "    return net"
      ],
      "execution_count": 5,
      "outputs": []
    },
    {
      "cell_type": "markdown",
      "metadata": {
        "id": "AfBJQQO1bWbd"
      },
      "source": [
        "## **検証**"
      ]
    },
    {
      "cell_type": "code",
      "metadata": {
        "id": "PBfsTYaMZdy6",
        "colab": {
          "base_uri": "https://localhost:8080/"
        },
        "outputId": "de3425a0-53ce-4e89-e8b2-e88dc11e0366"
      },
      "source": [
        "# 学習・検証 139minutes\n",
        "num_epochs = 9\n",
        "pretrain = 3\n",
        "reward =  7.7  #棄却度を決めるハイパーパラメータ\n",
        "\n",
        "net_trained = train_model(net, dataloaders_dict,\n",
        "                          criterion, optimizer, num_epochs=num_epochs)#10epochで2.8時間"
      ],
      "execution_count": 6,
      "outputs": [
        {
          "output_type": "stream",
          "text": [
            "使用デバイス： cuda:0\n",
            "-----start-------\n"
          ],
          "name": "stdout"
        }
      ]
    },
    {
      "cell_type": "code",
      "metadata": {
        "id": "gXDYMrC3kB0_"
      },
      "source": [
        ""
      ],
      "execution_count": null,
      "outputs": []
    },
    {
      "cell_type": "markdown",
      "metadata": {
        "id": "1hHoDgkIo9jS"
      },
      "source": [
        "ここまで\n"
      ]
    },
    {
      "cell_type": "code",
      "metadata": {
        "id": "sT7f5fkXjEti",
        "colab": {
          "base_uri": "https://localhost:8080/",
          "height": 295
        },
        "outputId": "91c0f8db-ba1f-4cb0-adba-ef0247922364"
      },
      "source": [
        "#グラフを描画\n",
        "import numpy as np\n",
        "import matplotlib.pyplot as plt\n",
        "from matplotlib import rcParams\n",
        "\n",
        "epoch = [\"1\",\"2\",\"3\",\"4\",\"5\",\"6\",\"7\",\"8\",\"9\"]\n",
        "#EpAc_train = [0.60, 0.65, 0.66, 0.70, 0.68]\n",
        "#EpAc_val = [0.63, 0.67, 0.68, 0.72, 0.68]\n",
        "\n",
        "plt.title(\"transition\")\n",
        "plt.xlabel(\"epoch\")\n",
        "plt.ylabel(\"accuracy\")\n",
        "plt.plot(epoch, EpAc_train, label = \"train\")\n",
        "plt.plot(epoch, EpAc_val, label = \"val\")\n",
        "plt.legend(loc = \"upper left\")\n",
        "plt.grid(True)\n",
        "plt.show()\n"
      ],
      "execution_count": null,
      "outputs": [
        {
          "output_type": "display_data",
          "data": {
            "image/png": "[encoded data removed]",
            "text/plain": [
              "<Figure size 432x288 with 1 Axes>"
            ]
          },
          "metadata": {
            "tags": [],
            "needs_background": "light"
          }
        }
      ]
    },
    {
      "cell_type": "code",
      "metadata": {
        "id": "dIHBMZ-KcenK"
      },
      "source": [
        "#自作テストデータで検証する場合\n",
        "%%capture\n",
        "%cd /content/drive/MyDrive/Google Colab/niconico_dataset_add_smid/TestData/動物\n",
        "tedata=\"カワウソ.tsv\"\n",
        "dataset_train_eval, dataset_test = torchtext.data.TabularDataset.splits(path='.', train='/content/drive/MyDrive/Google Colab/niconico_dataset_add_smid/TestData/動物/damy.tsv', test=tedata, format='tsv', fields=[('content', TEXT), ('category', LABEL)])\n",
        "dl_test = torchtext.data.Iterator(dataset_test, batch_size=batch_size, train=False, sort=False)\n",
        "batch = next(iter(dl_test))"
      ],
      "execution_count": null,
      "outputs": []
    },
    {
      "cell_type": "code",
      "metadata": {
        "id": "u6FQ_sAibJzz",
        "colab": {
          "base_uri": "https://localhost:8080/"
        },
        "outputId": "0c5be102-029a-45aa-d1b5-731b6f7811a4"
      },
      "source": [
        "#提案手法\n",
        "from tqdm import tqdm\n",
        "import numpy as np\n",
        "import pandas as pd\n",
        "import csv\n",
        "expected_coverage = [90,80,70,60,50]\n",
        "text_data=[]\n",
        "abstention_results = []\n",
        "preds_all = np.array([],dtype=int)\n",
        "TEX=[]\n",
        "ABST=[]\n",
        "LAB=[]\n",
        "EXPORT=[]\n",
        "SORT=[]\n",
        "acc_cov=[]\n",
        "abscount=0\n",
        "\n",
        "# テストデータでの正解率を求める\n",
        "device = torch.device(\"cuda:0\" if torch.cuda.is_available() else \"cpu\")\n",
        "\n",
        "net_trained.eval()   # モデルを検証モードに\n",
        "net_trained.to(device)  # GPUが使えるならGPUへ送る\n",
        "\n",
        "# epochの正解数を記録する変数\n",
        "epoch_corrects = 0\n",
        "# for batch in tqdm(dl_test): \n",
        "for batch in dl_test:  # testデータのDataLoader\n",
        "    # batchはTextとLableの辞書オブジェクト\n",
        "    # GPUが使えるならGPUにデータを送る\n",
        "    inputs = batch.content[0].to(device)  # 文章\n",
        "    labels = batch.category.to(device)  # ラベル\n",
        "    #print(batch.content[0])\n",
        "\n",
        "    # 順伝搬（forward）計算\n",
        "    with torch.set_grad_enabled(False):\n",
        "        # BertForNicoに入力\n",
        "      outputs = net_trained(inputs)\n",
        "      values, predictions = torch.max(outputs, 1) \n",
        "      for j in range(len(predictions)):\n",
        "        if predictions[j].cpu().numpy() == 6:\n",
        "          abscount += 1\n",
        "      \n",
        "    #損失計算\n",
        "      outputs = F.softmax(outputs,dim=1)\n",
        "      outputs, reservation = outputs[:,:-1], outputs[:,-1] #[全行、最後以外全列],[全行、最後の列]\n",
        "\n",
        "      abstention_results.extend(zip(list(reservation.cpu().numpy()),list(predictions.eq(labels.data).cpu().numpy()),list(inputs.data.cpu().numpy())))\n",
        "      gain = torch.gather(outputs,dim=1,index=labels.unsqueeze(1)).squeeze()\n",
        "      doubling_rate = (gain.add(reservation.div(reward))).log()\n",
        "\n",
        "      loss = -doubling_rate.mean()\n",
        "      preds_all = np.append(preds_all, predictions.cpu().numpy())\n",
        "      epoch_corrects += torch.sum(predictions == labels.data)  # 正解数の合計を更新\n",
        "\n",
        "#結果をファイル出力\n",
        "df = pd.read_table(tedata,header=None)\n",
        "for i in range(len(dl_test.dataset)):\n",
        "  TEX.append(df.iloc[i,0])\n",
        "  LAB.append(df.iloc[i,1])\n",
        "  ABST.append(abstention_results[i][0])#棄却値をリストに格納\n",
        "EXPORT.extend(zip(TEX,LAB,ABST))\n",
        "#ソート\n",
        "SORT = sorted(EXPORT, reverse=False, key=lambda x: x[2])\n",
        "#出力\n",
        "with open(\"result_n1.tsv\", \"w\") as f:\n",
        "  writer = csv.writer(f, lineterminator='\\n',delimiter='\\t')\n",
        "  writer.writerows(SORT)\n",
        "\n",
        "#棄却判定後の計算\n",
        "#棄権の結果を予約の高低に応じて並べ替える(降順)\n",
        "abstention_results.sort(key = lambda x: x[0], reverse=True)#リストの1列目の要素をキーに並び替える\n",
        "\n",
        "# ソートされた結果の「正しいかどうか」のリストを取得する\n",
        "#map(関数、加工元)…加工元データに関数をかけたものをリスト取得する\n",
        "sorted_correct = list(map(lambda x: int(x[1]), abstention_results))\n",
        "\n",
        "\n",
        "#print(\"sorted_correct\")\n",
        "#print(sorted_correct)\n",
        "\n",
        "size = len(dl_test.dataset)\n",
        "i=0\n",
        "print('accracy of coverage ',end='')\n",
        "for coverage in expected_coverage:\n",
        "  #print('{:.0f}: {:.3f}, '.format(coverage, sum(sorted_correct[int(size*coverage/100):])),end='')\n",
        "  print(coverage)\n",
        "  count1=int(size*(100-coverage)/100) \n",
        "  count2=sum(sorted_correct[count1:])\n",
        "  count3=size-count1 #カバレッジ考慮のデータ数\n",
        "  acc_cov.append(count2/count3)\n",
        "  \n",
        "  print(acc_cov[i])\n",
        "  i+=1\n",
        "  #棄却されたテキストの表示\n",
        "  #if coverage==90:\n",
        "    #for j in range(count1):  \n",
        "      #print(tokenizer.convert_ids_to_tokens(text_data[j]))\n",
        "\n",
        "# 正解率\n",
        "epoch_acc = epoch_corrects.double() / len(dl_test.dataset)\n",
        "print('テストデータ{}個での正解率：{:.4f}'.format(len(dl_test.dataset), epoch_acc))\n",
        "\n",
        "epoch_abs_acc=epoch_corrects.double() / (len(dl_test.dataset)-abscount)\n",
        "print(abscount)\n",
        "#print(preds_all)\n",
        "print(epoch_abs_acc)"
      ],
      "execution_count": null,
      "outputs": [
        {
          "output_type": "stream",
          "text": [
            "accracy of coverage 90\n",
            "0.33447098976109213\n",
            "80\n",
            "0.3769230769230769\n",
            "70\n",
            "0.4298245614035088\n",
            "60\n",
            "0.5025641025641026\n",
            "50\n",
            "0.6012269938650306\n",
            "テストデータ325個での正解率：0.3015\n",
            "208\n",
            "tensor(0.8376, device='cuda:0', dtype=torch.float64)\n"
          ],
          "name": "stdout"
        }
      ]
    },
    {
      "cell_type": "markdown",
      "metadata": {
        "id": "h7FSaOlhSyKu"
      },
      "source": [
        "kokokara\n"
      ]
    },
    {
      "cell_type": "code",
      "metadata": {
        "colab": {
          "base_uri": "https://localhost:8080/"
        },
        "id": "HQJe1z6cY8_o",
        "outputId": "0d27d6df-067d-489f-b2c3-b5676a01b35f"
      },
      "source": [
        "print(cm_normalized)"
      ],
      "execution_count": 59,
      "outputs": [
        {
          "output_type": "stream",
          "text": [
            "[[0.01 0.04 0.04 0.   0.07 0.02 0.82]\n",
            " [ nan  nan  nan  nan  nan  nan  nan]\n",
            " [ nan  nan  nan  nan  nan  nan  nan]\n",
            " [ nan  nan  nan  nan  nan  nan  nan]\n",
            " [ nan  nan  nan  nan  nan  nan  nan]\n",
            " [ nan  nan  nan  nan  nan  nan  nan]\n",
            " [ nan  nan  nan  nan  nan  nan  nan]]\n"
          ],
          "name": "stdout"
        }
      ]
    },
    {
      "cell_type": "code",
      "metadata": {
        "id": "_WR6ILYDJEU9"
      },
      "source": [
        "#実際の動画での検証\n",
        "%%capture\n",
        "%cd /content/drive/MyDrive/Google Colab/niconico_dataset_add_smid/TestData/字数無\n",
        "ca=0\n",
        "CTE=\"ゲーム(前無)\"\n",
        "tedata=\"g3.tsv\"\n",
        "dataset_train_eval, dataset_test = torchtext.data.TabularDataset.splits(path='.', train='/content/drive/MyDrive/Google Colab/niconico_dataset_add_smid/TestData/動物/damy.tsv', test=tedata, format='tsv', fields=[('content', TEXT), ('category', LABEL)])\n",
        "dl_test = torchtext.data.Iterator(dataset_test, batch_size=batch_size, train=False, sort=False)\n",
        "batch = next(iter(dl_test))\n",
        "\n",
        "#提案手法\n",
        "from tqdm import tqdm\n",
        "import numpy as np\n",
        "import pandas as pd\n",
        "\n",
        "expected_coverage = [90,80,70,60,50]\n",
        "text_data=[]\n",
        "abstention_results = []\n",
        "preds_all = np.array([],dtype=int)\n",
        "TEX=[]\n",
        "ABST=[]\n",
        "LAB=[]\n",
        "EXPORT=[]\n",
        "SORT=[]\n",
        "acc_cov=[]\n",
        "abscount=0\n",
        "\n",
        "# テストデータでの正解率を求める\n",
        "device = torch.device(\"cuda:0\" if torch.cuda.is_available() else \"cpu\")\n",
        "\n",
        "net_trained.eval()   # モデルを検証モードに\n",
        "net_trained.to(device)  # GPUが使えるならGPUへ送る\n",
        "\n",
        "# epochの正解数を記録する変数\n",
        "epoch_corrects = 0\n",
        "# for batch in tqdm(dl_test): \n",
        "for batch in dl_test:  # testデータのDataLoader\n",
        "    # batchはTextとLableの辞書オブジェクト\n",
        "    # GPUが使えるならGPUにデータを送る\n",
        "    inputs = batch.content[0].to(device)  # 文章\n",
        "    labels = batch.category.to(device)  # ラベル\n",
        "    #print(batch.content[0])\n",
        "\n",
        "    # 順伝搬（forward）計算\n",
        "    with torch.set_grad_enabled(False):\n",
        "        # BertForNicoに入力\n",
        "      outputs = net_trained(inputs)\n",
        "      values, predictions = torch.max(outputs, 1) \n",
        "      for j in range(len(predictions)):\n",
        "        if predictions[j].cpu().numpy() == 6:\n",
        "          abscount += 1\n",
        "      \n",
        "    #損失計算\n",
        "      outputs = F.softmax(outputs,dim=1)\n",
        "      outputs, reservation = outputs[:,:-1], outputs[:,-1] #[全行、最後以外全列],[全行、最後の列]\n",
        "\n",
        "      abstention_results.extend(zip(list(reservation.cpu().numpy()),list(predictions.eq(labels.data).cpu().numpy()),list(inputs.data.cpu().numpy())))\n",
        "      gain = torch.gather(outputs,dim=1,index=labels.unsqueeze(1)).squeeze()\n",
        "      doubling_rate = (gain.add(reservation.div(reward))).log()\n",
        "\n",
        "      loss = -doubling_rate.mean()\n",
        "      preds_all = np.append(preds_all, predictions.cpu().numpy())\n",
        "      epoch_corrects += torch.sum(predictions == labels.data)  # 正解数の合計を更新\n",
        "\n",
        "#結果をファイル出力\n",
        "df = pd.read_table(tedata,header=None)\n",
        "for i in range(len(dl_test.dataset)):\n",
        "  TEX.append(df.iloc[i,0])\n",
        "  LAB.append(df.iloc[i,1])\n",
        "  ABST.append(abstention_results[i][0])#棄却値をリストに格納\n",
        "EXPORT.extend(zip(TEX,LAB,ABST))\n",
        "#ソート\n",
        "SORT = sorted(EXPORT, reverse=False, key=lambda x: x[2])\n",
        "#出力\n",
        "\n",
        "\n",
        "#棄却判定後の計算\n",
        "#棄権の結果を予約の高低に応じて並べ替える(降順)\n",
        "abstention_results.sort(key = lambda x: x[0], reverse=True)#リストの1列目の要素をキーに並び替える\n",
        "\n",
        "# ソートされた結果の「正しいかどうか」のリストを取得する\n",
        "#map(関数、加工元)…加工元データに関数をかけたものをリスト取得する\n",
        "sorted_correct = list(map(lambda x: int(x[1]), abstention_results))\n",
        "\n",
        "\n",
        "#print(\"sorted_correct\")\n",
        "#print(sorted_correct)\n",
        "\n",
        "size = len(dl_test.dataset)\n",
        "i=0\n",
        "print('accracy of coverage ',end='')\n",
        "for coverage in expected_coverage:\n",
        "  #print('{:.0f}: {:.3f}, '.format(coverage, sum(sorted_correct[int(size*coverage/100):])),end='')\n",
        "  print(coverage)\n",
        "  count1=int(size*(100-coverage)/100) \n",
        "  count2=sum(sorted_correct[count1:])\n",
        "  count3=size-count1 #カバレッジ考慮のデータ数\n",
        "  acc_cov.append(count2/count3)\n",
        "  \n",
        "  print(acc_cov[i])\n",
        "  i+=1\n",
        "  #棄却されたテキストの表示\n",
        "  #if coverage==90:\n",
        "    #for j in range(count1):  \n",
        "      #print(tokenizer.convert_ids_to_tokens(text_data[j]))\n",
        "\n",
        "# 正解率\n",
        "epoch_acc = epoch_corrects.double() / len(dl_test.dataset)\n",
        "print('テストデータ{}個での正解率：{:.4f}'.format(len(dl_test.dataset), epoch_acc))\n",
        "\n",
        "epoch_abs_acc=epoch_corrects.double() / (len(dl_test.dataset)-abscount)\n",
        "print(abscount)\n",
        "#print(preds_all)\n",
        "print(epoch_abs_acc)\n",
        "\n",
        "#推論結果の出力\n",
        "from sklearn.metrics import confusion_matrix\n",
        "from sklearn.metrics import accuracy_score\n",
        "from sklearn.metrics import precision_score\n",
        "from sklearn.metrics import recall_score\n",
        "from sklearn.metrics import f1_score\n",
        "import matplotlib.pyplot as plt\n",
        "import csv\n",
        "from sklearn.metrics import recall_score\n",
        "\n",
        "df = pd.Cov = pd.read_csv(tedata, sep='\\t',names=[\"content\", \"category\", \"predict\"])\n",
        "net_trained.eval()  #推論モードに\n",
        "\n",
        "for index, row in df.iterrows():\n",
        "    df.at[index, \"predict\"] = preds_all[index]  # GPU環境の場合は「.cpu().numpy()」としてください。\n",
        "\n",
        "df.to_csv(\"predicted.tsv\", sep='\\t', index=False)\n",
        "#混同行列の表示（評価）\n",
        "from sklearn.metrics import confusion_matrix\n",
        "import seaborn as sns\n",
        "\n",
        "#有効数字\n",
        "np.set_printoptions(precision=2)\n",
        "\n",
        "y_true =[]\n",
        "y_pred =[]\n",
        "df = pd.read_csv(\"predicted.tsv\",  sep='\\t',engine=\"python\", encoding=\"utf-8\")\n",
        "for index, row in df.iterrows():\n",
        "    if row['category'] == 0:\n",
        "        y_true.append(\"POLITICS\")\n",
        "    if row['category'] ==1:\n",
        "        y_true.append(\"COOK\")\n",
        "    if row['category'] ==2:\n",
        "        y_true.append(\"ANIMAL\")\n",
        "    if row['category'] ==3:\n",
        "        y_true.append(\"TRAIN\")\n",
        "    if row['category'] ==4:\n",
        "        y_true.append(\"SPORT\")\n",
        "    if row['category'] ==5:\n",
        "        y_true.append(\"GAME\")    \n",
        "    if row['category'] ==6:\n",
        "        y_true.append(\"ABSTENTION\")     \n",
        "    if row['predict'] ==0.0:\n",
        "        y_pred.append(\"POLITICS\")\n",
        "    if row['predict'] ==1.0:\n",
        "        y_pred.append(\"COOK\")\n",
        "    if row['predict'] ==2.0:\n",
        "        y_pred.append(\"ANIMAL\")\n",
        "    if row['predict'] ==3.0:\n",
        "        y_pred.append(\"TRAIN\")\n",
        "    if row['predict'] ==4.0:\n",
        "        y_pred.append(\"SPORT\")\n",
        "    if row['predict'] ==5.0:\n",
        "        y_pred.append(\"GAME\")\n",
        "    if row['predict'] ==6.0:\n",
        "        y_pred.append(\"ABSTENTION\")\n",
        "\n",
        "\n",
        "print(len(y_true))\n",
        "print(len(y_pred))\n",
        "\n",
        "\n",
        "# 混同行列(confusion matrix)の取得\n",
        "labels = [\"POLITICS\", \"COOK\", \"ANIMAL\",\"TRAIN\",\"SPORT\",\"GAME\",\"ABSTENTION\"]\n",
        "cm = confusion_matrix(y_true, y_pred, labels=labels)\n",
        "\n",
        "cm_normalized = cm.astype('float') / cm.sum(axis=1)[:, np.newaxis]\n",
        "\n",
        "# # データフレームに変換\n",
        "# cm_labeled = pd.DataFrame(cm_normalized, columns=labels, index=labels)\n",
        "\n",
        "# # 結果の表示\n",
        "# #cm_labeled\n",
        "# plt.figure(figsize=(15, 15))\n",
        "# sns.set(font_scale=2.5,font=\"Times New Roman\") \n",
        "# sns.set_style(\"darkgrid\", {'font.family':'serif', 'font.serif':'Times New Roman'})\n",
        "# sns.heatmap(cm_labeled,annot=True,cmap='Blues', fmt=\"1.2f\",square=True)\n",
        "# plt.xlabel('Predicted Label', fontsize = 35) # x-axis label with fontsize 15\n",
        "# plt.ylabel('True Label', fontsize = 35) # y-axis label with fontsize 15\n",
        "\n",
        "# plt.show()\n",
        "\n",
        "print(cm_normalized)\n",
        "#tsvに出力\n",
        "\n",
        "with open(\"/content/drive/MyDrive/Google Colab/niconico_dataset_add_smid/realvideo.tsv\",\"a\") as f:\n",
        "  writer = csv.writer(f,delimiter='\\t')\n",
        "  \n",
        "  writer.writerow([CTE,tedata,len(dl_test.dataset),abscount,epoch_abs_acc.cpu().numpy(),cm_normalized[ca][0],cm_normalized[ca][1],cm_normalized[ca][2],cm_normalized[ca][3],cm_normalized[ca][4],cm_normalized[ca][5],cm_normalized[ca][6]])\n",
        "\n",
        "\n"
      ],
      "execution_count": 58,
      "outputs": []
    },
    {
      "cell_type": "markdown",
      "metadata": {
        "id": "01tS5Z5ISqFc"
      },
      "source": [
        "kokomade\n"
      ]
    },
    {
      "cell_type": "code",
      "metadata": {
        "colab": {
          "base_uri": "https://localhost:8080/"
        },
        "id": "ng5tNeXJz2MN",
        "outputId": "d27f22b6-0598-40c9-aff7-242679c9e9c6"
      },
      "source": [
        "#推論結果の出力\n",
        "from sklearn.metrics import confusion_matrix\n",
        "from sklearn.metrics import accuracy_score\n",
        "from sklearn.metrics import precision_score\n",
        "from sklearn.metrics import recall_score\n",
        "from sklearn.metrics import f1_score\n",
        "import matplotlib.pyplot as plt\n",
        "import numpy as np\n",
        "import pandas as pd\n",
        "from sklearn.metrics import recall_score\n",
        "\n",
        "df = pd.Cov = pd.read_csv(tedata, sep='\\t',names=[\"content\", \"category\", \"predict\"])\n",
        "net_trained.eval()  #推論モードに\n",
        "\n",
        "for index, row in df.iterrows():\n",
        "    df.at[index, \"predict\"] = preds_all[index]  # GPU環境の場合は「.cpu().numpy()」としてください。\n",
        "\n",
        "df.to_csv(\"predicted.tsv\", sep='\\t', index=False)\n",
        "#混同行列の表示（評価）\n",
        "from sklearn.metrics import confusion_matrix\n",
        "import seaborn as sns\n",
        "\n",
        "#有効数字\n",
        "np.set_printoptions(precision=2)\n",
        "\n",
        "y_true =[]\n",
        "y_pred =[]\n",
        "df = pd.read_csv(\"predicted.tsv\",  sep='\\t',engine=\"python\", encoding=\"utf-8\")\n",
        "for index, row in df.iterrows():\n",
        "    if row['category'] == 0:\n",
        "        y_true.append(\"POLITICS\")\n",
        "    if row['category'] ==1:\n",
        "        y_true.append(\"COOK\")\n",
        "    if row['category'] ==2:\n",
        "        y_true.append(\"ANIMAL\")\n",
        "    if row['category'] ==3:\n",
        "        y_true.append(\"TRAIN\")\n",
        "    if row['category'] ==4:\n",
        "        y_true.append(\"SPORT\")\n",
        "    if row['category'] ==5:\n",
        "        y_true.append(\"GAME\")    \n",
        "    if row['category'] ==6:\n",
        "        y_true.append(\"ABSTENTION\")     \n",
        "    if row['predict'] ==0.0:\n",
        "        y_pred.append(\"POLITICS\")\n",
        "    if row['predict'] ==1.0:\n",
        "        y_pred.append(\"COOK\")\n",
        "    if row['predict'] ==2.0:\n",
        "        y_pred.append(\"ANIMAL\")\n",
        "    if row['predict'] ==3.0:\n",
        "        y_pred.append(\"TRAIN\")\n",
        "    if row['predict'] ==4.0:\n",
        "        y_pred.append(\"SPORT\")\n",
        "    if row['predict'] ==5.0:\n",
        "        y_pred.append(\"GAME\")\n",
        "    if row['predict'] ==6.0:\n",
        "        y_pred.append(\"ABSTENTION\")\n",
        "\n",
        "\n",
        "print(len(y_true))\n",
        "print(len(y_pred))\n",
        "\n",
        "\n",
        "# 混同行列(confusion matrix)の取得\n",
        "labels = [\"POLITICS\", \"COOK\", \"ANIMAL\",\"TRAIN\",\"SPORT\",\"GAME\",\"ABSTENTION\"]\n",
        "cm = confusion_matrix(y_true, y_pred, labels=labels)\n",
        "\n",
        "cm_normalized = cm.astype('float') / cm.sum(axis=1)[:, np.newaxis]\n",
        "\n",
        "# データフレームに変換\n",
        "cm_labeled = pd.DataFrame(cm_normalized, columns=labels, index=labels)\n",
        "\n",
        "# 結果の表示\n",
        "#cm_labeled\n",
        "plt.figure(figsize=(15, 15))\n",
        "sns.set(font_scale=2.5,font=\"Times New Roman\") \n",
        "sns.set_style(\"darkgrid\", {'font.family':'serif', 'font.serif':'Times New Roman'})\n",
        "sns.heatmap(cm_labeled,annot=True,cmap='Blues', fmt=\"1.2f\",square=True)\n",
        "plt.xlabel('Predicted Label', fontsize = 35) # x-axis label with fontsize 15\n",
        "plt.ylabel('True Label', fontsize = 35) # y-axis label with fontsize 15\n",
        "\n",
        "plt.show()\n"
      ],
      "execution_count": null,
      "outputs": [
        {
          "output_type": "stream",
          "text": [
            "931\n",
            "931\n",
            "[[0.89 0.01 0.01 0.01 0.02 0.   0.07]\n",
            " [ nan  nan  nan  nan  nan  nan  nan]\n",
            " [ nan  nan  nan  nan  nan  nan  nan]\n",
            " [ nan  nan  nan  nan  nan  nan  nan]\n",
            " [ nan  nan  nan  nan  nan  nan  nan]\n",
            " [ nan  nan  nan  nan  nan  nan  nan]\n",
            " [ nan  nan  nan  nan  nan  nan  nan]]\n"
          ],
          "name": "stdout"
        },
        {
          "output_type": "stream",
          "text": [
            "/usr/local/lib/python3.7/dist-packages/ipykernel_launcher.py:68: RuntimeWarning: invalid value encountered in true_divide\n"
          ],
          "name": "stderr"
        }
      ]
    },
    {
      "cell_type": "code",
      "metadata": {
        "id": "6utzDzyEICr7",
        "colab": {
          "base_uri": "https://localhost:8080/"
        },
        "outputId": "e5b72bc3-b539-4280-f126-6dbbfcf16ff6"
      },
      "source": [
        "#各種推論計算結果の表示\n",
        "y_true =[]\n",
        "y_pred =[]\n",
        "\n",
        "df = pd.read_csv(\"predicted.tsv\", sep='\\t', engine=\"python\", encoding=\"utf-8\")\n",
        "for index, row in df.iterrows():\n",
        "    y_true.append(row[\"category\"])\n",
        "    y_pred.append(row[\"predict\"])\n",
        "\n",
        "_pred = [\n",
        "    round(float(val)) for val in y_pred\n",
        "]\n",
        "\n",
        "\n",
        "\n",
        "ALL=5000#全データ数\n",
        "\n",
        "\n",
        "\n",
        "\n",
        "TG_ALL=0#対象カテゴリ全データ数\n",
        "TG_ABS=0#対象カテゴリの棄権データ数\n",
        "PR_ALL=0#対象カテゴリを推測したデータ数\n",
        "TP=0#対象カテゴリの推測が正解したデータ数\n",
        "\n",
        "#ラベル0 : 対象カテゴリクラス\n",
        "#ラベル2 : 棄権クラス\n",
        "for i in range(len(y_true)):\n",
        "  if y_true[i]==0:\n",
        "    TG_ALL+=1\n",
        "  if y_pred[i]==6 and y_true[i]==0:\n",
        "    TG_ABS+=1\n",
        "  if y_pred[i]==0 and y_true[i]==0:\n",
        "    TP+=1\n",
        "  if y_pred[i]==0 :\n",
        "    PR_ALL+=1\n",
        "\n",
        "RECALL=TP/(TG_ALL-TG_ABS)\n",
        "PRECISION=TP/PR_ALL\n",
        "F1=2*RECALL*PRECISION/(RECALL+PRECISION)\n",
        "\n",
        "\n",
        "\n",
        "print(\"棄却数：{}\".format(abscount))\n",
        "absdiv=len(dl_test.dataset)-abscount\n",
        "ACCURACY=epoch_corrects.double() /absdiv\n",
        "print(\"Accuracy(正解率)：{}\".format(ACCURACY))   \n",
        "\n",
        "print(\"Recall(再現率)：{}\".format(RECALL))\n",
        "print(\"Precision(適合率)：{}\".format(PRECISION))\n",
        "print(\"F1score：{}\".format(F1))"
      ],
      "execution_count": null,
      "outputs": [
        {
          "output_type": "stream",
          "text": [
            "棄却数：8074\n",
            "Accuracy(正解率)：0.7597458850707479\n",
            "Recall(再現率)：0.8329637841832964\n",
            "Precision(適合率)：0.8119596541786743\n",
            "F1score：0.8223276176577893\n"
          ],
          "name": "stdout"
        }
      ]
    },
    {
      "cell_type": "code",
      "metadata": {
        "id": "RewmmhUX5ViE"
      },
      "source": [
        "#tsvに出力\n",
        "import csv\n",
        "%cd /content/drive/MyDrive/Google Colab/niconico_dataset_add_smid\n",
        "with open(\"/content/drive/MyDrive/Google Colab/niconico_dataset_add_smid/TestResult.tsv\",\"a\") as f:\n",
        "  writer = csv.writer(f,delimiter='\\t')\n",
        "  \n",
        "  writer.writerow([CTE,trdata,reward,num_epochs,EpAc_train[-1].cpu().numpy(),EpAc_val[-1].cpu().numpy(),abscount,ACCURACY.cpu().numpy(),RECALL,PRECISION,F1,epoch_acc.cpu().numpy(),acc_cov[0],acc_cov[1],acc_cov[2],acc_cov[3],acc_cov[4]])"
      ],
      "execution_count": null,
      "outputs": []
    },
    {
      "cell_type": "markdown",
      "metadata": {
        "id": "Bw-QbdgEbSxV"
      },
      "source": [
        "## **描画**"
      ]
    },
    {
      "cell_type": "code",
      "metadata": {
        "id": "ogkHfaPBVyjd"
      },
      "source": [
        "#棄却考慮した新たなデータセット作成\n",
        "df = pd.read_csv(\"predicted_n.tsv\",  sep='\\t',engine=\"python\", encoding=\"utf-8\")\n",
        "\n",
        "df_org = df.copy()\n",
        "\n",
        "# for index, row in df.iterrows():\n",
        "#   df_org.drop(row['predict']=6.0, inplace=True)\n",
        "df_org=df[df.predict != 6.0]\n",
        "df2=df_org.drop('predict', axis=1)\n",
        "\n",
        "df2.to_csv(\"tr_n.tsv\", sep='\\t', index=False)"
      ],
      "execution_count": null,
      "outputs": []
    },
    {
      "cell_type": "code",
      "metadata": {
        "id": "DJglx33F22jO"
      },
      "source": [
        "#グラフを描画\n",
        "# import numpy as np\n",
        "# import matplotlib.pyplot as plt\n",
        "# from matplotlib import rcParams\n",
        "\n",
        "# epoch = [\"1\", \"2\", \"3\",\"4\",\"5\",\"6\",\"7\",\"8\",\"9\"]\n",
        "# #EpAc_train = [0.60, 0.65, 0.66, 0.70, 0.68]\n",
        "# #EpAc_val = [0.63, 0.67, 0.68, 0.72, 0.68]\n",
        "\n",
        "# plt.title(\"transition\")\n",
        "# plt.xlabel(\"epoch\")\n",
        "# plt.ylabel(\"accuracy\")\n",
        "# plt.plot(epoch, EpAc_train, label = \"train\")\n",
        "# plt.plot(epoch, EpAc_val, label = \"val\")\n",
        "# plt.legend(loc = \"upper left\")\n",
        "# plt.grid(True)\n",
        "# plt.show()\n"
      ],
      "execution_count": null,
      "outputs": []
    },
    {
      "cell_type": "code",
      "metadata": {
        "id": "g-35d8iaQSJn",
        "colab": {
          "base_uri": "https://localhost:8080/"
        },
        "outputId": "47eebc5a-051b-4b93-fbf0-74a8052efad9"
      },
      "source": [
        "print(EpAc_train)\n",
        "print(EpAc_val)"
      ],
      "execution_count": null,
      "outputs": [
        {
          "output_type": "stream",
          "text": [
            "[tensor(0.1622, device='cuda:0', dtype=torch.float64), tensor(0.3888, device='cuda:0', dtype=torch.float64), tensor(0.4067, device='cuda:0', dtype=torch.float64), tensor(0.4566, device='cuda:0', dtype=torch.float64), tensor(0.4606, device='cuda:0', dtype=torch.float64), tensor(0.4714, device='cuda:0', dtype=torch.float64), tensor(0.4758, device='cuda:0', dtype=torch.float64), tensor(0.4845, device='cuda:0', dtype=torch.float64), tensor(0.4848, device='cuda:0', dtype=torch.float64)]\n",
            "[tensor(0.4171, device='cuda:0', dtype=torch.float64), tensor(0.4488, device='cuda:0', dtype=torch.float64), tensor(0.4434, device='cuda:0', dtype=torch.float64), tensor(0.4748, device='cuda:0', dtype=torch.float64), tensor(0.4890, device='cuda:0', dtype=torch.float64), tensor(0.4884, device='cuda:0', dtype=torch.float64), tensor(0.5061, device='cuda:0', dtype=torch.float64), tensor(0.4927, device='cuda:0', dtype=torch.float64), tensor(0.5106, device='cuda:0', dtype=torch.float64)]\n"
          ],
          "name": "stdout"
        }
      ]
    },
    {
      "cell_type": "code",
      "metadata": {
        "id": "Jrle04Il9-_o",
        "colab": {
          "base_uri": "https://localhost:8080/"
        },
        "outputId": "12cd0591-180a-492a-c620-2ab14556efd0"
      },
      "source": [
        "# # #保存済みモデルを使う場合\n",
        "%cd /content/drive/MyDrive/Google Colab/niconico_dataset_add_smid\n",
        "net_trained.load_state_dict(torch.load(\"model_bert5.7_all.pth\"))"
      ],
      "execution_count": 7,
      "outputs": [
        {
          "output_type": "stream",
          "text": [
            "/content/drive/MyDrive/Google Colab/niconico_dataset_add_smid\n"
          ],
          "name": "stdout"
        },
        {
          "output_type": "execute_result",
          "data": {
            "text/plain": [
              "<All keys matched successfully>"
            ]
          },
          "metadata": {
            "tags": []
          },
          "execution_count": 7
        }
      ]
    },
    {
      "cell_type": "markdown",
      "metadata": {
        "id": "TP3O-YWPbNNp"
      },
      "source": [
        "## **テスト**"
      ]
    },
    {
      "cell_type": "code",
      "metadata": {
        "id": "iGW0XikapP_y"
      },
      "source": [
        "#棄却度順に文章表示\n",
        "#for j in range(count1):  \n",
        " # print(tokenizer.convert_ids_to_tokens(text_data[j]))"
      ],
      "execution_count": null,
      "outputs": []
    },
    {
      "cell_type": "code",
      "metadata": {
        "id": "TOanX9vWJd8V"
      },
      "source": [
        "# #ABS考慮した評価指標\n",
        "# print(y_true)\n",
        "# print(y_pred)\n",
        "# y_pred = [\n",
        "#     round(float(val)) for val in y_pred\n",
        "# ]\n",
        "\n",
        "# TP=0\n",
        "\n",
        "# ALL=5000\n",
        "# TG_ALL=0\n",
        "# TG_ABS=0\n",
        "# PR_ALL=0\n",
        "\n",
        "# for i in range(len(y_true)):\n",
        "#   if y_true[i]==0:\n",
        "#     TG_ALL+=1\n",
        "#   if y_pred[i]==2 and y_true[i]==0:\n",
        "#     TG_ABS+=1\n",
        "#   if y_pred[i]==0 and y_true[i]==0:\n",
        "#     TP+=1\n",
        "#   if y_pred[i]==0 :\n",
        "#     PR_ALL+=1\n",
        "\n",
        "# RECALL=TP/(TG_ALL-TG_ABS)\n",
        "# PRECISION=TP/PR_ALL\n",
        "\n",
        "# print(\"Recall(再現率)：{}\".format(RECALL))\n",
        "# #print(TP/(TG_ALL-TG_ABS))\n",
        "# print(\"Precision(適合率)：{}\".format(PRECISION))\n",
        "# #print(TP/PR_ALL)\n",
        "# print(\"F1score：\")\n",
        "# print(2*RECALL*PRECISION/(RECALL+PRECISION))\n"
      ],
      "execution_count": null,
      "outputs": []
    },
    {
      "cell_type": "code",
      "metadata": {
        "id": "a7DSWs5lVDhP"
      },
      "source": [
        "#推論結果の出力\n",
        "# %cd /content/drive/My Drive/Google Colab/niconico_dataset_add_smid\n",
        "# from sklearn.metrics import confusion_matrix\n",
        "# from sklearn.metrics import accuracy_score\n",
        "# from sklearn.metrics import precision_score\n",
        "# from sklearn.metrics import recall_score\n",
        "# from sklearn.metrics import f1_score\n",
        "# import matplotlib.pyplot as plt\n",
        "# import numpy as np\n",
        "# import pandas as pd\n",
        "\n",
        "# df = pd.Cov = pd.read_csv(tedata, sep='\\t',names=[\"content\", \"category\", \"predict\"])\n",
        "# net_trained.eval()  #推論モードに\n",
        "\n",
        "# for index, row in df.iterrows():\n",
        "#     df.at[index, \"predict\"] = preds_all[index]  # GPU環境の場合は「.cpu().numpy()」としてください。\n",
        "\n",
        "# df.to_csv(\"predicted.tsv\", sep='\\t', index=False)\n",
        "# #混同行列の表示（評価）\n",
        "# from sklearn.metrics import confusion_matrix\n",
        "# import seaborn as sns\n",
        "\n",
        "# y_true =[]\n",
        "# y_pred =[]\n",
        "# df = pd.read_csv(\"predicted.tsv\",  sep='\\t',engine=\"python\", encoding=\"utf-8\")\n",
        "# for index, row in df.iterrows():\n",
        "#     if row['category'] == 0:\n",
        "#         y_true.append(\"POLITICS\")\n",
        "#     if row['category'] ==1:\n",
        "#         y_true.append(\"COOKING\")\n",
        "#     if row['category'] ==2:\n",
        "#         y_true.append(\"ANIMAL\")\n",
        "#     if row['category'] ==3:\n",
        "#         y_true.append(\"ABSTENTION\")\n",
        "#     if row['predict'] ==0.0:\n",
        "#         y_pred.append(\"POLITICS\")\n",
        "#     if row['predict'] ==1.0:\n",
        "#         y_pred.append(\"COOKING\")\n",
        "#     if row['predict'] ==2.0:\n",
        "#         y_pred.append(\"ANIMAL\")\n",
        "#     if row['predict'] ==3.0:\n",
        "#         y_pred.append(\"ABSTENTION\")\n",
        "\n",
        "# print(len(y_true))\n",
        "# print(len(y_pred))\n",
        "\n",
        "# # 混同行列(confusion matrix)の取得\n",
        "# labels = [\"POLITICS\", \"COOKING\", \"ANIMAL\", \"ABSTENTION\"]\n",
        "# cm = confusion_matrix(y_true, y_pred, labels=labels)\n",
        "# cm_normalized = cm.astype('float') / cm.sum(axis=1)[:, np.newaxis]\n",
        "\n",
        "# # データフレームに変換\n",
        "# cm_labeled = pd.DataFrame(cm_normalized, columns=labels, index=labels)\n",
        "\n",
        "# # 結果の表示\n",
        "# #cm_labeled\n",
        "# sns.set(font_scale=0.7) \n",
        "# sns.heatmap(cm_labeled,annot=True,cmap='Blues',fmt='.2g',square=True)\n",
        "# plt.xlabel('Predicted Label', fontsize = 9) # x-axis label with fontsize 15\n",
        "# plt.ylabel('True Label', fontsize = 9) # y-axis label with fontsize 15\n",
        "\n",
        "# plt.show()\n"
      ],
      "execution_count": null,
      "outputs": []
    },
    {
      "cell_type": "code",
      "metadata": {
        "id": "CDcDtCzMlvqi"
      },
      "source": [
        "# #混同分布からテキスト表示（政治）\n",
        "# s_c =[]\n",
        "# s_p =[]\n",
        "# s_ab =[]\n",
        "# df = pd.read_csv(\"predicted.tsv\",  sep='\\t',engine=\"python\", encoding=\"utf-8\")\n",
        "# for index, row in df.iterrows():\n",
        "#     if row['category'] == 0 and row['predict'] == 1:\n",
        "#         s_c.append(row['content'])\n",
        "#     if row['category'] == 0 and row['predict'] == 2:\n",
        "#         s_p.append(row['content'])\n",
        "#     if row['category'] == 0 and row['predict'] == 3:   \n",
        "#         s_ab.append(row['content'])   \n",
        "\n",
        "# with open('/content/drive/MyDrive/Google Colab/niconico_dataset_add_smid/TestDate/text/安倍.txt', 'w') as f:\n",
        "#     f.write(\"[政治/料理]################################################################\\n\")\n",
        "#     for d in s_c:\n",
        "#         f.write(\"%s\\n\" % d)\n",
        "#     f.write(\"\\n\\n[政治/動物]############################################################\\n\")\n",
        "#     for d in s_p:\n",
        "#         f.write(\"%s\\n\" % d)\n",
        "#     f.write(\"\\n\\n[政治/棄却]############################################################\\n\")\n",
        "#     for d in s_ab:\n",
        "#         f.write(\"%s\\n\" % d)                "
      ],
      "execution_count": null,
      "outputs": []
    },
    {
      "cell_type": "code",
      "metadata": {
        "id": "ujtZu0olzYoy"
      },
      "source": [
        "# #混同分布からテキスト表示（料理）\n",
        "# s_c =[]\n",
        "# s_p =[]\n",
        "# s_ab =[]\n",
        "# df = pd.read_csv(\"predicted.tsv\",  sep='\\t',engine=\"python\", encoding=\"utf-8\")\n",
        "# for index, row in df.iterrows():\n",
        "#     if row['category'] == 1 and row['predict'] == 0:\n",
        "#         s_c.append(row['content'])\n",
        "#     if row['category'] == 1 and row['predict'] == 2:\n",
        "#         s_p.append(row['content'])\n",
        "#     if row['category'] == 1 and row['predict'] == 3:   \n",
        "#         s_ab.append(row['content'])   \n",
        "\n",
        "# with open('/content/drive/MyDrive/Google Colab/niconico_dataset_add_smid/TestDate/text/菜の花.txt', 'w') as f:\n",
        "#     f.write(\"[料理/政治]###############################################################################\\n\")\n",
        "#     for d in s_c:\n",
        "#         f.write(\"%s\\n\" % d)\n",
        "#     f.write(\"\\n\\n[料理/動物]###############################################################################\\n\")\n",
        "#     for d in s_p:\n",
        "#         f.write(\"%s\\n\" % d)\n",
        "#     f.write(\"\\n\\n[料理/棄却]###############################################################################\\n\")\n",
        "#     for d in s_ab:\n",
        "#         f.write(\"%s\\n\" % d)                "
      ],
      "execution_count": null,
      "outputs": []
    },
    {
      "cell_type": "code",
      "metadata": {
        "id": "9iXs0shoyrTc"
      },
      "source": [
        "# #混同分布からテキスト表示（動物）\n",
        "# s_c =[]\n",
        "# s_p =[]\n",
        "# s_ab =[]\n",
        "# df = pd.read_csv(\"predicted.tsv\",  sep='\\t',engine=\"python\", encoding=\"utf-8\")\n",
        "# for index, row in df.iterrows():\n",
        "#     if row['category'] == 2 and row['predict'] == 0:\n",
        "#         s_c.append(row['content'])\n",
        "#     if row['category'] == 2 and row['predict'] == 1:\n",
        "#         s_p.append(row['content'])\n",
        "#     if row['category'] == 2 and row['predict'] == 3:   \n",
        "#         s_ab.append(row['content'])   \n",
        "\n",
        "# with open('/content/drive/MyDrive/Google Colab/niconico_dataset_add_smid/TestDate/text/犬食べた.txt', 'w') as f:\n",
        "#     f.write(\"[動物/政治]###############################################################################\\n\")\n",
        "#     for d in s_c:\n",
        "#         f.write(\"%s\\n\" % d)\n",
        "#     f.write(\"\\n\\n[動物/料理]###############################################################################\\n\")\n",
        "#     for d in s_p:\n",
        "#         f.write(\"%s\\n\" % d)\n",
        "#     f.write(\"\\n\\n[動物/棄却]###############################################################################\\n\")\n",
        "#     for d in s_ab:\n",
        "#         f.write(\"%s\\n\" % d)                "
      ],
      "execution_count": null,
      "outputs": []
    },
    {
      "cell_type": "markdown",
      "metadata": {
        "id": "1Uvzui98ljoY"
      },
      "source": [
        "## **訓練データ作成**"
      ]
    },
    {
      "cell_type": "code",
      "metadata": {
        "id": "_ID8nRVMeWN-"
      },
      "source": [
        "# #テスト分割無し訓練データの生成\n",
        "# import pandas as pd\n",
        "# import glob\n",
        "\n",
        "# path = \"/content/drive/My Drive/Google Colab/niconico_dataset_add_smid/実験\" # use your path\n",
        "# all_files = glob.glob(path + \"/*.csv\")#csv\n",
        "# list_dataset = []\n",
        " \n",
        "# for filename in all_files:\n",
        "#     df2 = pd.read_csv(filename)#csv\n",
        "#     list_dataset.append(df2)\n",
        " \n",
        "# df = pd.concat(list_dataset, axis=0, ignore_index=True)\n",
        "# df = df.sample(frac=1, random_state=45).reset_index(drop=True)\n",
        "\n",
        "# # 分割してtsvファイルで保存する\n",
        "# df.to_csv(\"/content/drive/MyDrive/Google Colab/niconico_dataset_add_smid/TestDate/TRAIN.tsv\", sep='\\t', index=False, header=None)\n",
        "# print(df.shape)"
      ],
      "execution_count": null,
      "outputs": []
    }
  ]
}