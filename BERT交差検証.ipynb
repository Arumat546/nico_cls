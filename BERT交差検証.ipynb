{
  "nbformat": 4,
  "nbformat_minor": 0,
  "metadata": {
    "colab": {
      "name": "BERT交差検証.ipynb",
      "provenance": [],
      "collapsed_sections": [],
      "mount_file_id": "1LvR5qVkcz4T_xgaV8lWRF18yxrCf0BXc",
      "authorship_tag": "ABX9TyNdnZHIr9Zo69oX9kd3cFRG",
      "include_colab_link": true
    },
    "kernelspec": {
      "name": "python3",
      "display_name": "Python 3"
    },
    "accelerator": "GPU"
  },
  "cells": [
    {
      "cell_type": "markdown",
      "metadata": {
        "id": "view-in-github",
        "colab_type": "text"
      },
      "source": [
        "<a href=\"https://colab.research.google.com/github/Arumat546/nico_cls/blob/main/BERT%E4%BA%A4%E5%B7%AE%E6%A4%9C%E8%A8%BC.ipynb\" target=\"_parent\"><img src=\"https://colab.research.google.com/assets/colab-badge.svg\" alt=\"Open In Colab\"/></a>"
      ]
    },
    {
      "cell_type": "code",
      "metadata": {
        "colab": {
          "base_uri": "https://localhost:8080/"
        },
        "id": "rcuujF5PS65x",
        "outputId": "ee6d2ee6-3178-4b3e-fb40-cd414af3e0e4"
      },
      "source": [
        "!pip install -q gwpy\r\n",
        "%cd /content/drive/My Drive/Google Colab/niconico_dataset_add_smid/\r\n",
        "\r\n",
        "# 乱数シードの固定\r\n",
        "import os\r\n",
        "import random\r\n",
        "import numpy as np\r\n",
        "import torch\r\n",
        "\r\n",
        "SEED_VALUE = 1234  # これはなんでも良い\r\n",
        "os.environ['PYTHONHASHSEED'] = str(SEED_VALUE)\r\n",
        "random.seed(SEED_VALUE)\r\n",
        "np.random.seed(SEED_VALUE)\r\n",
        "torch.manual_seed(SEED_VALUE)  # PyTorchを使う場合"
      ],
      "execution_count": 1,
      "outputs": [
        {
          "output_type": "stream",
          "text": [
            "\u001b[K     |████████████████████████████████| 1.4MB 7.8MB/s \n",
            "\u001b[K     |████████████████████████████████| 51kB 7.3MB/s \n",
            "\u001b[K     |████████████████████████████████| 61kB 8.4MB/s \n",
            "\u001b[K     |████████████████████████████████| 2.6MB 28.7MB/s \n",
            "\u001b[?25h  Building wheel for ligo-segments (setup.py) ... \u001b[?25l\u001b[?25hdone\n",
            "/content/drive/My Drive/Google Colab/niconico_dataset_add_smid\n"
          ],
          "name": "stdout"
        },
        {
          "output_type": "execute_result",
          "data": {
            "text/plain": [
              "<torch._C.Generator at 0x7ff03ea3ebb8>"
            ]
          },
          "metadata": {
            "tags": []
          },
          "execution_count": 1
        }
      ]
    },
    {
      "cell_type": "code",
      "metadata": {
        "colab": {
          "base_uri": "https://localhost:8080/",
          "height": 196
        },
        "id": "DSTdrUo2TCsQ",
        "outputId": "3df56c82-3b79-43bc-a461-b86fd4625859"
      },
      "source": [
        "\"\"\"\r\n",
        "#複数のtsvを同一データフレームに格納\r\n",
        "import pandas as pd\r\n",
        "import glob\r\n",
        "from sklearn.model_selection import KFold\r\n",
        "\r\n",
        "path = \"/content/drive/My Drive/Google Colab/niconico_dataset_add_smid/実験\" # use your path\r\n",
        "#all_files = glob.glob(path + \"/*.tsv\")#tsv\r\n",
        "all_files = glob.glob(path + \"/*.csv\")#csv\r\n",
        " \r\n",
        "list_dataset = []\r\n",
        " \r\n",
        "for filename in all_files:\r\n",
        "    #df2 = pd.read_table(filename)#tsv\r\n",
        "    df2 = pd.read_csv(filename)#csv\r\n",
        "    list_dataset.append(df2)\r\n",
        " \r\n",
        "df = pd.concat(list_dataset, axis=0, ignore_index=True)\r\n",
        "#print(df.loc[1000, :])\r\n",
        "\r\n",
        "#データのシャッフル\r\n",
        "df = df.sample(frac=1, random_state=45).reset_index(drop=True)\r\n",
        "df.head()\r\n",
        "\r\n",
        "#交差検証(trainとtest)\r\n",
        "kf = KFold(5, shuffle=True)\r\n",
        "\r\n",
        "kfcount=1\r\n",
        "for train, test in kf.split(df):\r\n",
        "     train_df = df.iloc[train]\r\n",
        "     test_df = df.iloc[test]\r\n",
        "     print('(train)', train_df)\r\n",
        "     print('(test)', test_df)\r\n",
        "     print('-----')\r\n",
        "\r\n",
        "     if kfcount == 1:\r\n",
        "       test_df.to_csv(\"./testcv1.tsv\", sep='\\t', index=False, header=None)\r\n",
        "       train_df.to_csv(\"./traincv1.tsv\", sep='\\t', index=False, header=None)\r\n",
        "     elif kfcount == 2:\r\n",
        "       test_df.to_csv(\"./testcv2.tsv\", sep='\\t', index=False, header=None)\r\n",
        "       train_df.to_csv(\"./traincv2.tsv\", sep='\\t', index=False, header=None)\r\n",
        "     elif kfcount == 3:\r\n",
        "       test_df.to_csv(\"./testcv3.tsv\", sep='\\t', index=False, header=None)\r\n",
        "       train_df.to_csv(\"./traincv3.tsv\", sep='\\t', index=False, header=None)\r\n",
        "     elif kfcount == 4:\r\n",
        "       test_df.to_csv(\"./testcv4.tsv\", sep='\\t', index=False, header=None)\r\n",
        "       train_df.to_csv(\"./traincv4.tsv\", sep='\\t', index=False, header=None)\r\n",
        "     elif kfcount == 5:\r\n",
        "       test_df.to_csv(\"./testcv5.tsv\", sep='\\t', index=False, header=None)\r\n",
        "       train_df.to_csv(\"./traincv5.tsv\", sep='\\t', index=False, header=None)\r\n",
        "     kfcount=kfcount+1\r\n",
        "\"\"\""
      ],
      "execution_count": 2,
      "outputs": [
        {
          "output_type": "execute_result",
          "data": {
            "application/vnd.google.colaboratory.intrinsic+json": {
              "type": "string"
            },
            "text/plain": [
              "'\\n#複数のtsvを同一データフレームに格納\\nimport pandas as pd\\nimport glob\\nfrom sklearn.model_selection import KFold\\n\\npath = \"/content/drive/My Drive/Google Colab/niconico_dataset_add_smid/実験\" # use your path\\n#all_files = glob.glob(path + \"/*.tsv\")#tsv\\nall_files = glob.glob(path + \"/*.csv\")#csv\\n \\nlist_dataset = []\\n \\nfor filename in all_files:\\n    #df2 = pd.read_table(filename)#tsv\\n    df2 = pd.read_csv(filename)#csv\\n    list_dataset.append(df2)\\n \\ndf = pd.concat(list_dataset, axis=0, ignore_index=True)\\n#print(df.loc[1000, :])\\n\\n#データのシャッフル\\ndf = df.sample(frac=1, random_state=45).reset_index(drop=True)\\ndf.head()\\n\\n#交差検証(trainとtest)\\nkf = KFold(5, shuffle=True)\\n\\nkfcount=1\\nfor train, test in kf.split(df):\\n     train_df = df.iloc[train]\\n     test_df = df.iloc[test]\\n     print(\\'(train)\\', train_df)\\n     print(\\'(test)\\', test_df)\\n     print(\\'-----\\')\\n\\n     if kfcount == 1:\\n       test_df.to_csv(\"./testcv1.tsv\", sep=\\'\\t\\', index=False, header=None)\\n       train_df.to_csv(\"./traincv1.tsv\", sep=\\'\\t\\', index=False, header=None)\\n     elif kfcount == 2:\\n       test_df.to_csv(\"./testcv2.tsv\", sep=\\'\\t\\', index=False, header=None)\\n       train_df.to_csv(\"./traincv2.tsv\", sep=\\'\\t\\', index=False, header=None)\\n     elif kfcount == 3:\\n       test_df.to_csv(\"./testcv3.tsv\", sep=\\'\\t\\', index=False, header=None)\\n       train_df.to_csv(\"./traincv3.tsv\", sep=\\'\\t\\', index=False, header=None)\\n     elif kfcount == 4:\\n       test_df.to_csv(\"./testcv4.tsv\", sep=\\'\\t\\', index=False, header=None)\\n       train_df.to_csv(\"./traincv4.tsv\", sep=\\'\\t\\', index=False, header=None)\\n     elif kfcount == 5:\\n       test_df.to_csv(\"./testcv5.tsv\", sep=\\'\\t\\', index=False, header=None)\\n       train_df.to_csv(\"./traincv5.tsv\", sep=\\'\\t\\', index=False, header=None)\\n     kfcount=kfcount+1\\n'"
            ]
          },
          "metadata": {
            "tags": []
          },
          "execution_count": 2
        }
      ]
    },
    {
      "cell_type": "code",
      "metadata": {
        "id": "yrKz1OCQWrjV"
      },
      "source": [
        "# MeCabとtransformersの用意\r\n",
        "%%capture\r\n",
        "!apt install aptitude swig\r\n",
        "!aptitude install mecab libmecab-dev mecab-ipadic-utf8 git make curl xz-utils file -y\r\n",
        "!pip install mecab-python3==0.996.5\r\n",
        "!pip install unidic-lite\r\n",
        "!pip install transformers==3.5.1\r\n",
        "!pip install fugashi\r\n",
        "!pip install ipadic\r\n",
        "import ipadic\r\n",
        "import torch\r\n",
        "import torchtext  # torchtextを使用\r\n",
        "import torch.nn.functional as F\r\n",
        "from transformers.modeling_bert import BertModel\r\n",
        "from transformers.tokenization_bert_japanese import BertJapaneseTokenizer\r\n",
        "from transformers import BertJapaneseTokenizer, BertForMaskedLM\r\n",
        "# 日本語BERTの分かち書き用tokenizerです\r\n",
        "tokenizer = BertJapaneseTokenizer.from_pretrained('cl-tohoku/bert-base-japanese-whole-word-masking')"
      ],
      "execution_count": 2,
      "outputs": []
    },
    {
      "cell_type": "code",
      "metadata": {
        "id": "Wr8HQqXzWu24"
      },
      "source": [
        "%%capture\r\n",
        "%cd /content/drive/My Drive/Google Colab/niconico_dataset_add_smid/TestDate\r\n",
        "# データを読み込んだときに、読み込んだ内容に対して行う処理を定義\r\n",
        "max_length = 512  # 東北大学_日本語版の最大の単語数（サブワード数）は512\r\n",
        "\r\n",
        "def tokenizer_512(input_text):\r\n",
        "    \"\"\"torchtextのtokenizerとして扱えるように、512単語のpytorchでのencodeを定義。ここで[0]を指定し忘れないように\"\"\"\r\n",
        "    return tokenizer.encode(input_text, max_length=512, return_tensors='pt')[0]\r\n",
        "\r\n",
        "TEXT = torchtext.data.Field(sequential=True, tokenize=tokenizer_512, use_vocab=False, lower=False, include_lengths=True, batch_first=True, fix_length=max_length, pad_token=0)\r\n",
        "# 注意：tokenize=tokenizer.encodeと、.encodeをつけます。padding[PAD]のindexが0なので、0を指定します。\r\n",
        "LABEL = torchtext.data.Field(sequential=False, use_vocab=False)\r\n",
        "\r\n",
        "# 各tsvファイルを読み込み、分かち書きをしてdatasetにします\r\n",
        "##########################################################################################################################################################################\r\n",
        "dataset_train_eval, dataset_test = torchtext.data.TabularDataset.splits(path='.', train=trdata, test=tedata, format='tsv', fields=[('content', TEXT), ('category', LABEL)])\r\n",
        "##########################################################################################################################################################################\r\n",
        "\r\n",
        "# torchtext.data.Datasetのsplit関数で訓練データと検証データを分ける\r\n",
        "dataset_train, dataset_eval = dataset_train_eval.split(split_ratio=1.0 - 1800/16200, random_state=random.seed(1234))\r\n",
        "\r\n",
        "# datasetの長さを確認してみる\r\n",
        "print(dataset_train.__len__())\r\n",
        "print(dataset_eval.__len__())\r\n",
        "print(dataset_test.__len__())\r\n",
        "\r\n",
        "# DataLoaderを作成します（torchtextの文脈では単純にiteraterと呼ばれています）\r\n",
        "batch_size = 32  # BERTでは16、32あたりを使用する\r\n",
        "\r\n",
        "dl_train = torchtext.data.Iterator(\r\n",
        "    dataset_train, batch_size=batch_size, train=True)\r\n",
        "\r\n",
        "dl_eval = torchtext.data.Iterator(\r\n",
        "    dataset_eval, batch_size=batch_size, train=False, sort=False)\r\n",
        "\r\n",
        "dl_test = torchtext.data.Iterator(\r\n",
        "    dataset_test, batch_size=batch_size, train=False, sort=False)\r\n",
        "\r\n",
        "# 辞書オブジェクトにまとめる\r\n",
        "dataloaders_dict = {\"train\": dl_train, \"val\": dl_eval}\r\n",
        "\r\n",
        "from torch import nn\r\n",
        "# BERTの日本語学習済みパラメータのモデル\r\n",
        "model = BertModel.from_pretrained('cl-tohoku/bert-base-japanese-whole-word-masking')\r\n",
        "class BertForNico(nn.Module):\r\n",
        "    '''BERTモデルに3クラスを判定する部分をつなげたモデル'''\r\n",
        "\r\n",
        "    def __init__(self):\r\n",
        "        super(BertForNico, self).__init__()\r\n",
        "\r\n",
        "        # BERTモジュール\r\n",
        "        self.bert = model  # 日本語学習済みのBERTモデル\r\n",
        "\r\n",
        "        # headにクラス予測を追加\r\n",
        "        # 入力はBERTの出力特徴量の次元768、出力は3クラス\r\n",
        "        self.cls = nn.Linear(in_features=768, out_features=4)###############################################################################################クラス数注意！！！！！！！！！！！！！！！\r\n",
        "\r\n",
        "        # 重み初期化処理\r\n",
        "        nn.init.normal_(self.cls.weight, std=0.02)\r\n",
        "        nn.init.normal_(self.cls.bias, 0)\r\n",
        "\r\n",
        "    def forward(self, input_ids):\r\n",
        "        '''\r\n",
        "        input_ids： [batch_size, sequence_length]の文章の単語IDの羅列\r\n",
        "        '''\r\n",
        "\r\n",
        "        # BERTの基本モデル部分の順伝搬\r\n",
        "        # 順伝搬させる\r\n",
        "        result = self.bert(input_ids)  # reult は、sequence_output, pooled_output\r\n",
        "\r\n",
        "        # sequence_outputの先頭の単語ベクトルを抜き出す\r\n",
        "        vec_0 = result[0]  # 最初の0がsequence_outputを示す\r\n",
        "        vec_0 = vec_0[:, 0, :]  # 全バッチ。先頭0番目の単語の全768要素\r\n",
        "        vec_0 = vec_0.view(-1, 768)  # sizeを[batch_size, hidden_size]に変換\r\n",
        "        output = self.cls(vec_0)  # 全結合層\r\n",
        "\r\n",
        "        return output\r\n",
        "# モデル構築\r\n",
        "net = BertForNico()\r\n",
        "# 訓練モードに設定\r\n",
        "net.train()\r\n",
        "# 勾配計算を最後のBertLayerモジュールと追加した分類アダプターのみ実行\r\n",
        "\r\n",
        "# 1. まず全部を、勾配計算Falseにしてしまう\r\n",
        "for param in net.parameters():\r\n",
        "    param.requires_grad = False\r\n",
        "\r\n",
        "# 2. BertLayerモジュールの最後を勾配計算ありに変更\r\n",
        "for param in net.bert.encoder.layer[-1].parameters():\r\n",
        "    param.requires_grad = True\r\n",
        "\r\n",
        "# 3. 識別器を勾配計算ありに変更\r\n",
        "for param in net.cls.parameters():\r\n",
        "    param.requires_grad = True\r\n",
        "\r\n",
        "# 最適化手法の設定\r\n",
        "import torch.optim as optim\r\n",
        "\r\n",
        "# BERTの元の部分はファインチューニング\r\n",
        "optimizer = optim.Adam([\r\n",
        "    {'params': net.bert.encoder.layer[-1].parameters(), 'lr': 5e-5},\r\n",
        "    {'params': net.cls.parameters(), 'lr': 1e-4}\r\n",
        "])\r\n",
        "\r\n",
        "# 損失関数の設定\r\n",
        "criterion = nn.CrossEntropyLoss()\r\n",
        "# nn.LogSoftmax()を計算してからnn.NLLLoss(negative log likelihood loss)を計算\r\n",
        "# 棄却有りのとき\r\n",
        "\r\n",
        "#正解率記録用リスト\r\n",
        "EpAc_train = []\r\n",
        "EpAc_val = []\r\n",
        "\r\n",
        "def train_model(net, dataloaders_dict, criterion, optimizer, num_epochs):\r\n",
        "\r\n",
        "    # GPUが使えるかを確認\r\n",
        "    device = torch.device(\"cuda:0\" if torch.cuda.is_available() else \"cpu\")\r\n",
        "    print(\"使用デバイス：\", device)\r\n",
        "    print('-----start-------')\r\n",
        "\r\n",
        "    # ネットワークをGPUへ\r\n",
        "    net.to(device)\r\n",
        "\r\n",
        "    # ネットワークがある程度固定であれば、高速化させる\r\n",
        "    torch.backends.cudnn.benchmark = True\r\n",
        "\r\n",
        "    # ミニバッチのサイズ\r\n",
        "    batch_size = dataloaders_dict[\"train\"].batch_size\r\n",
        "\r\n",
        "    # epochのループ\r\n",
        "    for epoch in range(num_epochs):\r\n",
        "        # epochごとの訓練と検証のループ\r\n",
        "        for phase in ['train', 'val']:\r\n",
        "            if phase == 'train':\r\n",
        "                net.train()  # モデルを訓練モードに\r\n",
        "            else:\r\n",
        "                net.eval()   # モデルを検証モードに\r\n",
        "\r\n",
        "            epoch_loss = 0.0  # epochの損失和\r\n",
        "            epoch_corrects = 0  # epochの正解数\r\n",
        "            iteration = 1\r\n",
        "\r\n",
        "            # データローダーからミニバッチを取り出すループ\r\n",
        "            for batch in (dataloaders_dict[phase]):\r\n",
        "                # batchはTextとLableの辞書型変数\r\n",
        "\r\n",
        "                # GPUが使えるならGPUにデータを送る\r\n",
        "                inputs = batch.content[0].to(device)  # 文章\r\n",
        "                labels = batch.category.to(device)  # ラベル\r\n",
        "\r\n",
        "                # optimizerを初期化\r\n",
        "                optimizer.zero_grad()\r\n",
        "\r\n",
        "                # 順伝搬（forward）計算\r\n",
        "                with torch.set_grad_enabled(phase == 'train'):\r\n",
        "\r\n",
        "                    # BERTに入力\r\n",
        "                    outputs = net(inputs)\r\n",
        "   \r\n",
        "                    # 損失を計算(DG考慮)\r\n",
        "                    if epoch >= pretrain:\r\n",
        "                      outputs = F.softmax(outputs,dim=1)\r\n",
        "\r\n",
        "                      outputs, reservation = outputs[:,:-1], outputs[:,-1] #[全行、最後以外全列],[全行、最後の列]\r\n",
        "\r\n",
        "                    #unsqeeze(1)でonehotベクトル化\r\n",
        "                    #labelsの要素が1のとこと同じ要素をoutputsから取り出す\r\n",
        "                      gain = torch.gather(outputs,dim=1,index=labels.unsqueeze(1)).squeeze() \r\n",
        "\r\n",
        "                      doubling_rate = (gain.add(reservation.div(reward))).log()\r\n",
        "           \r\n",
        "                      loss = -doubling_rate.mean()\r\n",
        "\r\n",
        "                    else:\r\n",
        "                      loss = criterion(outputs[:,:-1],labels)\r\n",
        "\r\n",
        "                    _, preds = torch.max(outputs, 1)  # ラベルを予測　_は出力の最大値、predsは出力の最大位置（クラス）\r\n",
        "\r\n",
        "                    # 訓練時はバックプロパゲーション\r\n",
        "                    if phase == 'train':\r\n",
        "                        loss.backward()\r\n",
        "                        optimizer.step()\r\n",
        "\r\n",
        "                        if (iteration % 10 == 0):  # 10iterに1度、lossを表示\r\n",
        "                            acc = (torch.sum(preds == labels.data)\r\n",
        "                                   ).double()/batch_size\r\n",
        "                            print('イテレーション {} || Loss: {:.4f} || 10iter. || 本イテレーションの正解率：{}'.format(\r\n",
        "                                iteration, loss.item(),  acc))\r\n",
        "\r\n",
        "                    iteration += 1\r\n",
        "\r\n",
        "                    # 損失と正解数の合計を更新\r\n",
        "                    epoch_loss += loss.item() * batch_size\r\n",
        "                    epoch_corrects += torch.sum(preds == labels.data)\r\n",
        "\r\n",
        "            # epochごとのlossと正解率\r\n",
        "            epoch_loss = epoch_loss / len(dataloaders_dict[phase].dataset)\r\n",
        "            epoch_acc = epoch_corrects.double(\r\n",
        "            ) / len(dataloaders_dict[phase].dataset)\r\n",
        "\r\n",
        "            #正解率をリストに格納\r\n",
        "            if phase == 'train':\r\n",
        "              EpAc_train.append(epoch_acc)\r\n",
        "            \r\n",
        "            else :\r\n",
        "              EpAc_val.append(epoch_acc)\r\n",
        "\r\n",
        "            print('Epoch {}/{} | {:^5} |  Loss: {:.4f} Acc: {:.4f}'.format(epoch+1, num_epochs,\r\n",
        "                                                                           phase, epoch_loss, epoch_acc))\r\n",
        "    return net"
      ],
      "execution_count": 4,
      "outputs": []
    },
    {
      "cell_type": "markdown",
      "metadata": {
        "id": "AfBJQQO1bWbd"
      },
      "source": [
        "## **検証**"
      ]
    },
    {
      "cell_type": "code",
      "metadata": {
        "id": "V5Bws93caLWL"
      },
      "source": [
        "trdata=\"damy.tsv\"\r\n",
        "tedata=\"おせち.tsv\""
      ],
      "execution_count": 3,
      "outputs": []
    },
    {
      "cell_type": "code",
      "metadata": {
        "colab": {
          "base_uri": "https://localhost:8080/"
        },
        "id": "PBfsTYaMZdy6",
        "outputId": "cd839a9b-49f4-4bb8-d089-e3f08232c205"
      },
      "source": [
        "# 学習・検証\r\n",
        "num_epochs = 1\r\n",
        "pretrain = 0\r\n",
        "reward =  2.9  #棄却度を決めるハイパーパラメータ\r\n",
        "\r\n",
        "net_trained = train_model(net, dataloaders_dict,\r\n",
        "                          criterion, optimizer, num_epochs=num_epochs)#10epochで2.8時間"
      ],
      "execution_count": 5,
      "outputs": [
        {
          "output_type": "stream",
          "text": [
            "使用デバイス： cuda:0\n",
            "-----start-------\n",
            "Epoch 1/1 | train |  Loss: 1.1774 Acc: 0.3167\n",
            "Epoch 1/1 |  val  |  Loss: 4.3478 Acc: 0.2500\n"
          ],
          "name": "stdout"
        }
      ]
    },
    {
      "cell_type": "markdown",
      "metadata": {
        "id": "Bw-QbdgEbSxV"
      },
      "source": [
        "## **描画**"
      ]
    },
    {
      "cell_type": "code",
      "metadata": {
        "id": "rLXDo4C4a_wX",
        "colab": {
          "base_uri": "https://localhost:8080/",
          "height": 295
        },
        "outputId": "76215109-c30c-46c5-d0ff-0c67082e11f9"
      },
      "source": [
        "#グラフを描画\r\n",
        "import numpy as np\r\n",
        "import matplotlib.pyplot as plt\r\n",
        "from matplotlib import rcParams\r\n",
        "\r\n",
        "epoch = [\"1\", \"2\", \"3\",\"4\",\"5\",\"6\",\"7\",\"8\",\"9\"]\r\n",
        "#EpAc_train = [0.60, 0.65, 0.66, 0.70, 0.68]\r\n",
        "#EpAc_val = [0.63, 0.67, 0.68, 0.72, 0.68]\r\n",
        "\r\n",
        "plt.title(\"transition\")\r\n",
        "plt.xlabel(\"epoch\")\r\n",
        "plt.ylabel(\"accuracy\")\r\n",
        "plt.plot(epoch, EpAc_train, label = \"train\")\r\n",
        "plt.plot(epoch, EpAc_val, label = \"val\")\r\n",
        "plt.legend(loc = \"upper left\")\r\n",
        "plt.grid(True)\r\n",
        "plt.show()\r\n"
      ],
      "execution_count": 6,
      "outputs": [
        {
          "output_type": "display_data",
          "data": {
            "image/png": "[encoded data removed]",
            "text/plain": [
              "<Figure size 432x288 with 1 Axes>"
            ]
          },
          "metadata": {
            "tags": [],
            "needs_background": "light"
          }
        }
      ]
    },
    {
      "cell_type": "code",
      "metadata": {
        "id": "g-35d8iaQSJn",
        "colab": {
          "base_uri": "https://localhost:8080/"
        },
        "outputId": "b0c6c1ba-8bad-43c0-a2a9-062f20a694d4"
      },
      "source": [
        "print(EpAc_train)\r\n",
        "print(EpAc_val)"
      ],
      "execution_count": 7,
      "outputs": [
        {
          "output_type": "stream",
          "text": [
            "[tensor(0.1939, device='cuda:0', dtype=torch.float64), tensor(0.5306, device='cuda:0', dtype=torch.float64), tensor(0.5799, device='cuda:0', dtype=torch.float64), tensor(0.7436, device='cuda:0', dtype=torch.float64), tensor(0.7506, device='cuda:0', dtype=torch.float64), tensor(0.7580, device='cuda:0', dtype=torch.float64), tensor(0.7588, device='cuda:0', dtype=torch.float64), tensor(0.7614, device='cuda:0', dtype=torch.float64), tensor(0.7713, device='cuda:0', dtype=torch.float64)]\n",
            "[tensor(0.6160, device='cuda:0', dtype=torch.float64), tensor(0.6950, device='cuda:0', dtype=torch.float64), tensor(0.6685, device='cuda:0', dtype=torch.float64), tensor(0.7265, device='cuda:0', dtype=torch.float64), tensor(0.7275, device='cuda:0', dtype=torch.float64), tensor(0.7840, device='cuda:0', dtype=torch.float64), tensor(0.7875, device='cuda:0', dtype=torch.float64), tensor(0.7910, device='cuda:0', dtype=torch.float64), tensor(0.7990, device='cuda:0', dtype=torch.float64)]\n"
          ],
          "name": "stdout"
        }
      ]
    },
    {
      "cell_type": "code",
      "metadata": {
        "id": "c-p5AY8s9Usi"
      },
      "source": [
        "#モデルを保存\r\n",
        "model_path = 'model_bert9(3).pth'\r\n",
        "torch.save(net_trained.state_dict(), model_path)"
      ],
      "execution_count": 8,
      "outputs": []
    },
    {
      "cell_type": "code",
      "metadata": {
        "colab": {
          "base_uri": "https://localhost:8080/"
        },
        "id": "Jrle04Il9-_o",
        "outputId": "3e1c962b-18e3-47bc-ec14-2cfc79dc4b2e"
      },
      "source": [
        "#保存済みモデルを使う場合\r\n",
        "net_trained.load_state_dict(torch.load(\"model_bert9(3).pth\"))"
      ],
      "execution_count": 6,
      "outputs": [
        {
          "output_type": "execute_result",
          "data": {
            "text/plain": [
              "<All keys matched successfully>"
            ]
          },
          "metadata": {
            "tags": []
          },
          "execution_count": 6
        }
      ]
    },
    {
      "cell_type": "markdown",
      "metadata": {
        "id": "TP3O-YWPbNNp"
      },
      "source": [
        "## **テスト**"
      ]
    },
    {
      "cell_type": "code",
      "metadata": {
        "id": "iGW0XikapP_y"
      },
      "source": [
        "#棄却度順に文章表示\r\n",
        "for j in range(count1):  \r\n",
        "  print(tokenizer.convert_ids_to_tokens(text_data[j]))"
      ],
      "execution_count": null,
      "outputs": []
    },
    {
      "cell_type": "code",
      "metadata": {
        "id": "u6FQ_sAibJzz",
        "colab": {
          "base_uri": "https://localhost:8080/"
        },
        "outputId": "fa312d60-33bd-425d-ead8-2ca8e8c67404"
      },
      "source": [
        "#提案手法\r\n",
        "from tqdm import tqdm\r\n",
        "import numpy as np\r\n",
        "\r\n",
        "expected_coverage = [99,90,80,70,60]\r\n",
        "text_data=[]\r\n",
        "abstention_results = []\r\n",
        "preds_all = np.array([],dtype=int)\r\n",
        "\r\n",
        "# テストデータでの正解率を求める\r\n",
        "device = torch.device(\"cuda:0\" if torch.cuda.is_available() else \"cpu\")\r\n",
        "\r\n",
        "net_trained.eval()   # モデルを検証モードに\r\n",
        "net_trained.to(device)  # GPUが使えるならGPUへ送る\r\n",
        "\r\n",
        "# epochの正解数を記録する変数\r\n",
        "epoch_corrects = 0\r\n",
        "\r\n",
        "for batch in tqdm(dl_test):  # testデータのDataLoader\r\n",
        "    # batchはTextとLableの辞書オブジェクト\r\n",
        "    # GPUが使えるならGPUにデータを送る\r\n",
        "    inputs = batch.content[0].to(device)  # 文章\r\n",
        "    labels = batch.category.to(device)  # ラベル\r\n",
        "    #print(batch.content[0])\r\n",
        "\r\n",
        "    # 順伝搬（forward）計算\r\n",
        "    with torch.set_grad_enabled(False):\r\n",
        "        # BertForNicoに入力\r\n",
        "      outputs = net_trained(inputs)\r\n",
        "      values, predictions = torch.max(outputs, 1) \r\n",
        "      \r\n",
        "\r\n",
        "\r\n",
        "    #損失計算\r\n",
        "      outputs = F.softmax(outputs,dim=1)\r\n",
        "      outputs, reservation = outputs[:,:-1], outputs[:,-1] #[全行、最後以外全列],[全行、最後の列]\r\n",
        "\r\n",
        "      #abstention_results.extend(zip(list(reservation.cpu().numpy()),list(predictions.eq(labels.data).cpu().numpy(),list(inputs.data.cpu().numpy()))))\r\n",
        "      abstention_results.extend(zip(list(reservation.cpu().numpy()),list(predictions.eq(labels.data).cpu().numpy()),list(inputs.data.cpu().numpy())))\r\n",
        "      gain = torch.gather(outputs,dim=1,index=labels.unsqueeze(1)).squeeze()\r\n",
        "      doubling_rate = (gain.add(reservation.div(reward))).log()\r\n",
        "\r\n",
        "      loss = -doubling_rate.mean()\r\n",
        "      preds_all = np.append(preds_all, predictions.cpu().numpy())\r\n",
        "      epoch_corrects += torch.sum(predictions == labels.data)  # 正解数の合計を更新\r\n",
        "        \r\n",
        "\r\n",
        "#棄却判定後の計算\r\n",
        "#棄権の結果を予約の高低に応じて並べ替える(降順)\r\n",
        "abstention_results.sort(key = lambda x: x[0], reverse=True)#リストの1列目の要素をキーに並び替える\r\n",
        "\r\n",
        "# ソートされた結果の「正しいかどうか」のリストを取得する\r\n",
        "#map(関数、加工元)…加工元データに関数をかけたものをリスト取得する\r\n",
        "sorted_correct = list(map(lambda x: int(x[1]), abstention_results))\r\n",
        "\r\n",
        "#テキストリストを取得\r\n",
        "for i in range(len(dl_test.dataset)):\r\n",
        "  text_data.append(abstention_results[i][2])\r\n",
        "\r\n",
        "#棄却されたテキストの表示\r\n",
        "\r\n",
        "#print(\"sorted_correct\")\r\n",
        "#print(sorted_correct)\r\n",
        "\r\n",
        "size = len(dl_test.dataset)\r\n",
        "\r\n",
        "print('accracy of coverage ',end='')\r\n",
        "for coverage in expected_coverage:\r\n",
        "  #print('{:.0f}: {:.3f}, '.format(coverage, sum(sorted_correct[int(size*coverage/100):])),end='')\r\n",
        "  print(coverage)\r\n",
        "  count1=int(size*(100-coverage)/100) \r\n",
        "  count2=sum(sorted_correct[count1:])\r\n",
        "  count3=size-count1 #カバレッジ考慮のデータ数\r\n",
        "  acc_cov=count2/count3\r\n",
        "  print(acc_cov)\r\n",
        "  #if coverage==90:\r\n",
        "    #for j in range(count1):  \r\n",
        "      #print(tokenizer.convert_ids_to_tokens(text_data[j]))\r\n",
        "\r\n",
        "# 正解率\r\n",
        "epoch_acc = epoch_corrects.double() / len(dl_test.dataset)\r\n",
        "print('テストデータ{}個での正解率：{:.4f}'.format(len(dl_test.dataset), epoch_acc))\r\n",
        "\r\n",
        "#print(preds_all)"
      ],
      "execution_count": 17,
      "outputs": [
        {
          "output_type": "stream",
          "text": [
            "100%|██████████| 8/8 [00:09<00:00,  1.21s/it]"
          ],
          "name": "stderr"
        },
        {
          "output_type": "stream",
          "text": [
            "accracy of coverage 99\n",
            "0.41735537190082644\n",
            "90\n",
            "0.4590909090909091\n",
            "80\n",
            "0.5153061224489796\n",
            "70\n",
            "0.5847953216374269\n",
            "60\n",
            "0.5782312925170068\n",
            "テストデータ244個での正解率：0.4139\n"
          ],
          "name": "stdout"
        },
        {
          "output_type": "stream",
          "text": [
            "\n"
          ],
          "name": "stderr"
        }
      ]
    },
    {
      "cell_type": "code",
      "metadata": {
        "id": "dIHBMZ-KcenK"
      },
      "source": [
        "#自作テストデータで検証する場合\r\n",
        "%%capture\r\n",
        "%cd /content/drive/MyDrive/Google Colab/niconico_dataset_add_smid/TestDate\r\n",
        "testdata=\"菜の花.tsv\"\r\n",
        "dataset_train_eval, dataset_test = torchtext.data.TabularDataset.splits(path='.', train='damy.tsv', test=testdata, format='tsv', fields=[('content', TEXT), ('category', LABEL)])\r\n",
        "dl_test = torchtext.data.Iterator(dataset_test, batch_size=batch_size, train=False, sort=False)\r\n",
        "batch = next(iter(dl_test))"
      ],
      "execution_count": 16,
      "outputs": []
    },
    {
      "cell_type": "code",
      "metadata": {
        "colab": {
          "base_uri": "https://localhost:8080/",
          "height": 338
        },
        "id": "a7DSWs5lVDhP",
        "outputId": "325882ca-a191-4290-89f4-38b5cb3aa35c"
      },
      "source": [
        "#推論結果の出力\r\n",
        "%cd /content/drive/My Drive/Google Colab/niconico_dataset_add_smid/TestDate\r\n",
        "from sklearn.metrics import confusion_matrix\r\n",
        "from sklearn.metrics import accuracy_score\r\n",
        "from sklearn.metrics import precision_score\r\n",
        "from sklearn.metrics import recall_score\r\n",
        "from sklearn.metrics import f1_score\r\n",
        "import pandas as pd\r\n",
        "\r\n",
        "df = pd.Cov = pd.read_csv(testdata, sep='\\t',names=[\"content\", \"category\", \"predict\"])\r\n",
        "net_trained.eval()  #推論モードに\r\n",
        "\r\n",
        "for index, row in df.iterrows():\r\n",
        "    df.at[index, \"predict\"] = preds_all[index]  # GPU環境の場合は「.cpu().numpy()」としてください。\r\n",
        "\r\n",
        "df.to_csv(\"predicted.tsv\", sep='\\t', index=False)\r\n",
        "#混同行列の表示（評価）\r\n",
        "from sklearn.metrics import confusion_matrix\r\n",
        "import seaborn as sns\r\n",
        "\r\n",
        "y_true =[]\r\n",
        "y_pred =[]\r\n",
        "df = pd.read_csv(\"predicted.tsv\",  sep='\\t',engine=\"python\", encoding=\"utf-8\")\r\n",
        "for index, row in df.iterrows():\r\n",
        "    if row['category'] == 0:\r\n",
        "        y_true.append(\"POL\")\r\n",
        "    if row['category'] ==1:\r\n",
        "        y_true.append(\"COOK\")\r\n",
        "    if row['category'] ==2:\r\n",
        "        y_true.append(\"PET\")\r\n",
        "    if row['category'] ==3:\r\n",
        "        y_true.append(\"ABS\")\r\n",
        "    if row['predict'] ==0.0:\r\n",
        "        y_pred.append(\"POL\")\r\n",
        "    if row['predict'] ==1.0:\r\n",
        "        y_pred.append(\"COOK\")\r\n",
        "    if row['predict'] ==2.0:\r\n",
        "        y_pred.append(\"PET\")\r\n",
        "    if row['predict'] ==3.0:\r\n",
        "        y_pred.append(\"ABS\")\r\n",
        "\r\n",
        "print(len(y_true))\r\n",
        "print(len(y_pred))\r\n",
        "\r\n",
        "# 混同行列(confusion matrix)の取得\r\n",
        "labels = [\"POL\", \"COOK\", \"PET\", \"ABS\"]\r\n",
        "cm = confusion_matrix(y_true, y_pred, labels=labels)\r\n",
        "\r\n",
        "# データフレームに変換\r\n",
        "cm_labeled = pd.DataFrame(cm, columns=labels, index=labels)\r\n",
        "\r\n",
        "# 結果の表示\r\n",
        "#cm_labeled\r\n",
        "sns.heatmap(cm_labeled,annot=True,cmap='Blues',fmt='g')\r\n",
        "\r\n"
      ],
      "execution_count": 18,
      "outputs": [
        {
          "output_type": "stream",
          "text": [
            "/content/drive/My Drive/Google Colab/niconico_dataset_add_smid/TestDate\n",
            "244\n",
            "244\n"
          ],
          "name": "stdout"
        },
        {
          "output_type": "execute_result",
          "data": {
            "text/plain": [
              "<matplotlib.axes._subplots.AxesSubplot at 0x7fefa3174ba8>"
            ]
          },
          "metadata": {
            "tags": []
          },
          "execution_count": 18
        },
        {
          "output_type": "display_data",
          "data": {
            "image/png": "[encoded data removed]",
            "text/plain": [
              "<Figure size 432x288 with 2 Axes>"
            ]
          },
          "metadata": {
            "tags": [],
            "needs_background": "light"
          }
        }
      ]
    },
    {
      "cell_type": "code",
      "metadata": {
        "id": "CDcDtCzMlvqi"
      },
      "source": [
        "#混同分布からテキスト表示（政治）\r\n",
        "s_c =[]\r\n",
        "s_p =[]\r\n",
        "s_ab =[]\r\n",
        "df = pd.read_csv(\"predicted.tsv\",  sep='\\t',engine=\"python\", encoding=\"utf-8\")\r\n",
        "for index, row in df.iterrows():\r\n",
        "    if row['category'] == 0 and row['predict'] == 1:\r\n",
        "        s_c.append(row['content'])\r\n",
        "    if row['category'] == 0 and row['predict'] == 2:\r\n",
        "        s_p.append(row['content'])\r\n",
        "    if row['category'] == 0 and row['predict'] == 3:   \r\n",
        "        s_ab.append(row['content'])   \r\n",
        "\r\n",
        "with open('/content/drive/MyDrive/Google Colab/niconico_dataset_add_smid/TestDate/text/日韓1.txt', 'w') as f:\r\n",
        "    f.write(\"[政治/料理]################################################################\\n\")\r\n",
        "    for d in s_c:\r\n",
        "        f.write(\"%s\\n\" % d)\r\n",
        "    f.write(\"\\n\\n[政治/動物]############################################################\\n\")\r\n",
        "    for d in s_p:\r\n",
        "        f.write(\"%s\\n\" % d)\r\n",
        "    f.write(\"\\n\\n[政治/棄却]############################################################\\n\")\r\n",
        "    for d in s_ab:\r\n",
        "        f.write(\"%s\\n\" % d)                "
      ],
      "execution_count": 58,
      "outputs": []
    },
    {
      "cell_type": "code",
      "metadata": {
        "id": "ujtZu0olzYoy"
      },
      "source": [
        "#混同分布からテキスト表示（料理）\r\n",
        "s_c =[]\r\n",
        "s_p =[]\r\n",
        "s_ab =[]\r\n",
        "df = pd.read_csv(\"predicted.tsv\",  sep='\\t',engine=\"python\", encoding=\"utf-8\")\r\n",
        "for index, row in df.iterrows():\r\n",
        "    if row['category'] == 1 and row['predict'] == 0:\r\n",
        "        s_c.append(row['content'])\r\n",
        "    if row['category'] == 1 and row['predict'] == 2:\r\n",
        "        s_p.append(row['content'])\r\n",
        "    if row['category'] == 1 and row['predict'] == 3:   \r\n",
        "        s_ab.append(row['content'])   \r\n",
        "\r\n",
        "with open('/content/drive/MyDrive/Google Colab/niconico_dataset_add_smid/TestDate/text/菜の花.txt', 'w') as f:\r\n",
        "    f.write(\"[料理/政治]###############################################################################\\n\")\r\n",
        "    for d in s_c:\r\n",
        "        f.write(\"%s\\n\" % d)\r\n",
        "    f.write(\"\\n\\n[料理/動物]###############################################################################\\n\")\r\n",
        "    for d in s_p:\r\n",
        "        f.write(\"%s\\n\" % d)\r\n",
        "    f.write(\"\\n\\n[料理/棄却]###############################################################################\\n\")\r\n",
        "    for d in s_ab:\r\n",
        "        f.write(\"%s\\n\" % d)                "
      ],
      "execution_count": 19,
      "outputs": []
    },
    {
      "cell_type": "code",
      "metadata": {
        "id": "9iXs0shoyrTc"
      },
      "source": [
        "#混同分布からテキスト表示（動物）\r\n",
        "s_c =[]\r\n",
        "s_p =[]\r\n",
        "s_ab =[]\r\n",
        "df = pd.read_csv(\"predicted.tsv\",  sep='\\t',engine=\"python\", encoding=\"utf-8\")\r\n",
        "for index, row in df.iterrows():\r\n",
        "    if row['category'] == 2 and row['predict'] == 0:\r\n",
        "        s_c.append(row['content'])\r\n",
        "    if row['category'] == 2 and row['predict'] == 1:\r\n",
        "        s_p.append(row['content'])\r\n",
        "    if row['category'] == 2 and row['predict'] == 3:   \r\n",
        "        s_ab.append(row['content'])   \r\n",
        "\r\n",
        "with open('/content/drive/MyDrive/Google Colab/niconico_dataset_add_smid/TestDate/text/犬食べた.txt', 'w') as f:\r\n",
        "    f.write(\"[動物/政治]###############################################################################\\n\")\r\n",
        "    for d in s_c:\r\n",
        "        f.write(\"%s\\n\" % d)\r\n",
        "    f.write(\"\\n\\n[動物/料理]###############################################################################\\n\")\r\n",
        "    for d in s_p:\r\n",
        "        f.write(\"%s\\n\" % d)\r\n",
        "    f.write(\"\\n\\n[動物/棄却]###############################################################################\\n\")\r\n",
        "    for d in s_ab:\r\n",
        "        f.write(\"%s\\n\" % d)                "
      ],
      "execution_count": 70,
      "outputs": []
    },
    {
      "cell_type": "markdown",
      "metadata": {
        "id": "1Uvzui98ljoY"
      },
      "source": [
        "## **訓練データ作成**"
      ]
    },
    {
      "cell_type": "code",
      "metadata": {
        "colab": {
          "base_uri": "https://localhost:8080/"
        },
        "id": "_ID8nRVMeWN-",
        "outputId": "5f1903d0-42de-47c6-bd03-d9eb05f5c531"
      },
      "source": [
        "#テスト分割無し訓練データの生成\r\n",
        "import pandas as pd\r\n",
        "import glob\r\n",
        "\r\n",
        "path = \"/content/drive/My Drive/Google Colab/niconico_dataset_add_smid/実験\" # use your path\r\n",
        "all_files = glob.glob(path + \"/*.csv\")#csv\r\n",
        "list_dataset = []\r\n",
        " \r\n",
        "for filename in all_files:\r\n",
        "    df2 = pd.read_csv(filename)#csv\r\n",
        "    list_dataset.append(df2)\r\n",
        " \r\n",
        "df = pd.concat(list_dataset, axis=0, ignore_index=True)\r\n",
        "df = df.sample(frac=1, random_state=45).reset_index(drop=True)\r\n",
        "\r\n",
        "# 分割してtsvファイルで保存する\r\n",
        "df.to_csv(\"/content/drive/MyDrive/Google Colab/niconico_dataset_add_smid/TestDate/TRAIN.tsv\", sep='\\t', index=False, header=None)\r\n",
        "print(df.shape)"
      ],
      "execution_count": 4,
      "outputs": [
        {
          "output_type": "stream",
          "text": [
            "(18000, 2)\n"
          ],
          "name": "stdout"
        }
      ]
    }
  ]
}