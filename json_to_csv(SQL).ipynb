{
  "nbformat": 4,
  "nbformat_minor": 0,
  "metadata": {
    "colab": {
      "name": "json to csv(SQL).ipynb",
      "provenance": [],
      "collapsed_sections": [],
      "mount_file_id": "1mo8RgGLr_CsnEGJiBRV4zNGbjC2mod56",
      "authorship_tag": "ABX9TyM/uug/A95gE7U8V0/SILre",
      "include_colab_link": true
    },
    "kernelspec": {
      "name": "python3",
      "display_name": "Python 3"
    }
  },
  "cells": [
    {
      "cell_type": "markdown",
      "metadata": {
        "id": "view-in-github",
        "colab_type": "text"
      },
      "source": [
        "<a href=\"https://colab.research.google.com/github/Arumat546/nico_cls/blob/main/json_to_csv(SQL).ipynb\" target=\"_parent\"><img src=\"https://colab.research.google.com/assets/colab-badge.svg\" alt=\"Open In Colab\"/></a>"
      ]
    },
    {
      "cell_type": "code",
      "metadata": {
        "id": "UsXYzSk-lkfp",
        "colab": {
          "base_uri": "https://localhost:8080/"
        },
        "outputId": "8e983533-fd14-4943-bb8d-a2d5f03c49ac"
      },
      "source": [
        "%cd /content/drive/My Drive/Google Colab/niconico_dataset_add_smid"
      ],
      "execution_count": 1,
      "outputs": [
        {
          "output_type": "stream",
          "text": [
            "/content/drive/My Drive/Google Colab/niconico_dataset_add_smid\n"
          ],
          "name": "stdout"
        }
      ]
    },
    {
      "cell_type": "markdown",
      "metadata": {
        "id": "aOB3-BU212Eu"
      },
      "source": [
        "## **SQLite格納**"
      ]
    },
    {
      "cell_type": "code",
      "metadata": {
        "id": "WqsEmnT3lYue"
      },
      "source": [
        "#jsonの読み込みと一覧表示例\n",
        "import json\n",
        "import gzip\n",
        "\n",
        "with gzip.open(\"3000.json.gz\", 'r') as f\n",
        "     for line in f:\n",
        "        jsn = json.loads(line)\n",
        "        print(jsn)\n"
      ],
      "execution_count": null,
      "outputs": []
    },
    {
      "cell_type": "code",
      "metadata": {
        "id": "WctfntNJCE51"
      },
      "source": [
        "#json→csv変換\n",
        "import pandas as pd\n",
        "import json\n",
        "import glob\n",
        "\n",
        "path = \"/content/drive/My Drive/Google Colab/niconico_dataset_add_smid/video_dst\" # use your path\n",
        "all_files = glob.glob(path + \"/*.json.gz\")\n",
        "\n",
        "li = []\n",
        "\n",
        "for filename in all_files:\n",
        "    df = pd.read_json(filename, compression='infer',lines=True)\n",
        "    li.append(df)\n",
        "\n",
        "frame = pd.concat(li, axis=0, ignore_index=True)\n",
        "\n",
        "frame.to_csv('video.csv', columns=['video_id','category'], index=False)"
      ],
      "execution_count": null,
      "outputs": []
    },
    {
      "cell_type": "code",
      "metadata": {
        "id": "K-aFD8kLfY7S"
      },
      "source": [
        "#sqliteデータベースに格納(動画csvファイル)\n",
        "import pandas as pd\n",
        "import sqlite3\n",
        "import json\n",
        "import glob\n",
        "\n",
        "path = \"/content/drive/My Drive/Google Colab/niconico_dataset_add_smid\" # use your path\n",
        "all_files = glob.glob(path + \"/video3.csv\")\n",
        "\n",
        "li = []\n",
        "\n",
        "for filename in all_files:\n",
        "    df = pd.read_csv(filename)\n",
        "    li.append(df)\n",
        "\n",
        "conn = sqlite3.connect('2525.db')\n",
        "c = conn.cursor()\n",
        "df.to_sql('video', conn, if_exists='append')\n",
        "\n",
        "conn.commit()\n",
        "conn.close()"
      ],
      "execution_count": null,
      "outputs": []
    },
    {
      "cell_type": "code",
      "metadata": {
        "id": "EQmsHPI_0ahv"
      },
      "source": [
        "#sqliteデータベースに格納(コメントjsonファイル)改良版\n",
        "import pandas as pd\n",
        "import sqlite3\n",
        "import json\n",
        "import glob\n",
        "\n",
        "conn = sqlite3.connect('2525.db')\n",
        "c = conn.cursor()\n",
        "\n",
        "path = \"/content/drive/My Drive/Google Colab/niconico_dataset_add_smid/comment_dst\" # use your path\n",
        "all_files = glob.glob(path + \"/333[0-9].json.gz\") #降順でいれること！\n",
        "\n",
        "\n",
        "for filename in all_files:\n",
        "    df = pd.read_json(filename, compression='infer', orient='records',lines=True)\n",
        "    df.to_sql('comment4', conn,if_exists='append')\n",
        "\n",
        "conn.commit()\n",
        "conn.close()"
      ],
      "execution_count": 8,
      "outputs": []
    },
    {
      "cell_type": "code",
      "metadata": {
        "id": "HyxZnFpaBP6a"
      },
      "source": [
        "#commentテーブル結合\r\n",
        "import sqlite3\r\n",
        "\r\n",
        "i=0\r\n",
        "con = sqlite3.connect(\"2525.db\")\r\n",
        "c = con.cursor()\r\n",
        "c.execute(\"INSERT INTO all_comment (content, video_id) SELECT content,video_id FROM comment4\")\r\n",
        "\r\n",
        "con.commit()\r\n",
        "con.close()"
      ],
      "execution_count": 3,
      "outputs": []
    },
    {
      "cell_type": "code",
      "metadata": {
        "id": "SK9kjIXr3Imi"
      },
      "source": [
        "#一つずつ格納(コメントファイル)\n",
        "import pandas as pd\n",
        "import sqlite3\n",
        "import json\n",
        "\n",
        "path = \"/content/drive/My Drive/Google Colab/niconico_dataset_add_smid/comment_dst\" # use your path\n",
        "\n",
        "df = pd.read_json(path + \"/3313.json.gz\", compression='infer',lines=True) #降順でいれること！\n",
        "\n",
        "conn = sqlite3.connect('2525.db')\n",
        "c = conn.cursor()\n",
        "df.to_sql('comment5', conn,if_exists='append')\n",
        "conn.commit()\n",
        "conn.close()"
      ],
      "execution_count": 21,
      "outputs": []
    },
    {
      "cell_type": "markdown",
      "metadata": {
        "id": "sb38Sav0vTo3"
      },
      "source": [
        "## **SQL操作**"
      ]
    },
    {
      "cell_type": "code",
      "metadata": {
        "id": "XejxTokIuWNd"
      },
      "source": [
        "#データの削除（カテゴリーがnullのものをすべて削除）\n",
        "con = sqlite3.connect(\"2525.db\")\n",
        "c = con.cursor()\n",
        "c.execute(\"delete from video where category is null\")\n",
        "\n",
        "con.commit()\n",
        "con.close()"
      ],
      "execution_count": 37,
      "outputs": []
    },
    {
      "cell_type": "code",
      "metadata": {
        "id": "JlwG-BmqrE89"
      },
      "source": [
        "#列の値の種類抽出\n",
        "import sqlite3\n",
        "con = sqlite3.connect(\"2525.db\")\n",
        "c = con.cursor()\n",
        "c.execute(\"select category from video group by category\")\n",
        "for row in c: # rowはtuple\n",
        "    print(row)\n",
        "\n",
        "con.commit()\n",
        "con.close()"
      ],
      "execution_count": null,
      "outputs": []
    },
    {
      "cell_type": "code",
      "metadata": {
        "id": "ufRapyTet5yS",
        "colab": {
          "base_uri": "https://localhost:8080/"
        },
        "outputId": "d350d0be-1261-4554-860b-f27f934098cd"
      },
      "source": [
        "#ロー数確認\n",
        "import sqlite3\n",
        "conn = sqlite3.connect('2525.db')\n",
        "conect = conn.cursor()\n",
        "\n",
        "#SQL 設定　　テーブル名：table_ubuntu\n",
        "sql = 'SELECT count(*) FROM ' + 'comment5'\n",
        "#SQLを実行し、レコード数を得る\n",
        "conect.execute(sql)\n",
        "result = conect.fetchall()\n",
        "#結果は リスト、タプル型で出力される => [(5,)]\n",
        "print (result)\n",
        "\n",
        "record_max = result[0][0]\n",
        "print ('登録されている総レコード数 ==> ', record_max)"
      ],
      "execution_count": 20,
      "outputs": [
        {
          "output_type": "stream",
          "text": [
            "[(6964288,)]\n",
            "登録されている総レコード数 ==>  6964288\n"
          ],
          "name": "stdout"
        }
      ]
    },
    {
      "cell_type": "code",
      "metadata": {
        "id": "6xINh0xnomVE",
        "colab": {
          "base_uri": "https://localhost:8080/"
        },
        "outputId": "75920ffb-d553-472d-f40f-4c1f72eda3df"
      },
      "source": [
        "#テーブル一覧取得\n",
        "import sqlite3\n",
        "con = sqlite3.connect(\"2525.db\")\n",
        "cursor = con.cursor()\n",
        "cursor.execute(\"select * from sqlite_master where type='table'\")\n",
        "for x in cursor.fetchall():\n",
        "    print(x)\n",
        "\n",
        "con.close()"
      ],
      "execution_count": 2,
      "outputs": [
        {
          "output_type": "stream",
          "text": [
            "('table', 'video', 'video', 2, 'CREATE TABLE \"video\" (\\n\"index\" INTEGER,\\n  \"video_id\" TEXT,\\n  \"category\" TEXT\\n)')\n",
            "('table', 'comment', 'comment', 192078, 'CREATE TABLE \"comment\" (\\n\"index\" INTEGER,\\n  \"date\" TIMESTAMP,\\n  \"vpos\" INTEGER,\\n  \"content\" TEXT,\\n  \"command\" TEXT,\\n  \"video_id\" TEXT\\n)')\n",
            "('table', 'comment2', 'comment2', 247673, 'CREATE TABLE \"comment2\" (\\n\"index\" INTEGER,\\n  \"date\" TIMESTAMP,\\n  \"vpos\" INTEGER,\\n  \"content\" TEXT,\\n  \"command\" TEXT,\\n  \"video_id\" TEXT\\n)')\n",
            "('table', 'comment3', 'comment3', 411441, 'CREATE TABLE \"comment3\" (\\n\"index\" INTEGER,\\n  \"date\" TIMESTAMP,\\n  \"vpos\" INTEGER,\\n  \"content\" TEXT,\\n  \"command\" TEXT,\\n  \"video_id\" TEXT\\n)')\n",
            "('table', 'all_comment', 'all_comment', 635050, 'CREATE TABLE all_comment(content, video_id)')\n",
            "('table', 'limcom', 'limcom', 872045, 'CREATE TABLE limcom(content, video_id)')\n",
            "('table', 'comment4', 'comment4', 868241, 'CREATE TABLE \"comment4\" (\\n\"index\" INTEGER,\\n  \"date\" TIMESTAMP,\\n  \"vpos\" INTEGER,\\n  \"content\" TEXT,\\n  \"command\" TEXT,\\n  \"video_id\" TEXT\\n)')\n"
          ],
          "name": "stdout"
        }
      ]
    },
    {
      "cell_type": "code",
      "metadata": {
        "id": "7vlDbxp6hZKf",
        "colab": {
          "base_uri": "https://localhost:8080/"
        },
        "outputId": "21e24ff0-bd32-413e-c29f-56347ab7acf7"
      },
      "source": [
        "#カラム名取得\n",
        "conn = sqlite3.connect(\"2525.db\")\n",
        "c = conn.execute('select * from limi_comment')\n",
        "names = list(map(lambda x: x[0], c.description))\n",
        "print(names)\n",
        "conn.close()"
      ],
      "execution_count": null,
      "outputs": [
        {
          "output_type": "stream",
          "text": [
            "['content', 'video_id', 'count']\n"
          ],
          "name": "stdout"
        }
      ]
    },
    {
      "cell_type": "code",
      "metadata": {
        "id": "LkZa4EB3G3aT"
      },
      "source": [
        "#テーブル削除\n",
        "import sqlite3\n",
        "con = sqlite3.connect('2525.db')\n",
        "cur = con.cursor()\n",
        "\n",
        "sql = \"drop table comment4\"\n",
        "cur.execute(sql)\n",
        " \n",
        "con.close()"
      ],
      "execution_count": 2,
      "outputs": []
    },
    {
      "cell_type": "code",
      "metadata": {
        "id": "unvBq5c-Dy_Z"
      },
      "source": [
        "#内部結合\n",
        "import sqlite3\n",
        "i=0\n",
        "con = sqlite3.connect(\"2525.db\")\n",
        "c = con.cursor()\n",
        "c.execute(\"select content,category from comment inner join video on comment.video_id=video.video_id where length(content)>=10 and length(content)<=20 and (category='アイドルマスター'or category='東方')\")\n",
        "for row in c: # rowはtuple\n",
        "    print(row[0], row[1])\n",
        "    i+=1\n",
        "\n",
        "print(i)\n",
        "con.commit()\n",
        "con.close()"
      ],
      "execution_count": null,
      "outputs": []
    },
    {
      "cell_type": "code",
      "metadata": {
        "id": "glMopV2zFsTm",
        "colab": {
          "base_uri": "https://localhost:8080/"
        },
        "outputId": "c45889b9-74e0-4584-e3c9-196ce5856a3a"
      },
      "source": [
        "# 乱数シードの固定\n",
        "\n",
        "import os\n",
        "import random\n",
        "import numpy as np\n",
        "import torch\n",
        "\n",
        "SEED_VALUE = 1234  # これはなんでも良い\n",
        "os.environ['PYTHONHASHSEED'] = str(SEED_VALUE)\n",
        "random.seed(SEED_VALUE)\n",
        "np.random.seed(SEED_VALUE)\n",
        "torch.manual_seed(SEED_VALUE)  # PyTorchを使う場合"
      ],
      "execution_count": 9,
      "outputs": [
        {
          "output_type": "execute_result",
          "data": {
            "text/plain": [
              "<torch._C.Generator at 0x7f84ac2f6108>"
            ]
          },
          "metadata": {
            "tags": []
          },
          "execution_count": 9
        }
      ]
    },
    {
      "cell_type": "code",
      "metadata": {
        "id": "gyyiFlZ1Wjrl"
      },
      "source": [
        "#tsv出力\n",
        "import pandas as pd\n",
        "import sqlite3\n",
        "\n",
        "i=0\n",
        "df = pd.DataFrame(index=[], columns=['content','category'])\n",
        "\n",
        "con = sqlite3.connect(\"2525.db\")\n",
        "c = con.cursor()\n",
        "c.execute(\"select content,category from comment inner join video on comment.video_id=video.video_id where length(content)>=8 and category='アイドルマスター'\")\n",
        "for row in c: # rowはtuple\n",
        "    #print(row[0], row[1])\n",
        "    df.loc[i]=[row[0], row[1]]\n",
        "    i+=1\n",
        "\n",
        "df.head()\n",
        "#データをシャッフル\n",
        "df = df.sample(frac=1, random_state=121).reset_index(drop=True)\n",
        "\n",
        "\n",
        "#取り出すデータ数指定\n",
        "df[:2000].to_csv('/content/imas2000.tsv', sep='\\t', index=False, header=None)\n",
        "#print(df[:len].shape)\n",
        "#df.to_csv('/content/entame.tsv', sep='\\t', index=False)\n",
        "con.commit()\n",
        "con.close()"
      ],
      "execution_count": null,
      "outputs": []
    },
    {
      "cell_type": "markdown",
      "metadata": {
        "id": "rhk6wbT3brzH"
      },
      "source": [
        "## **実験場**"
      ]
    },
    {
      "cell_type": "code",
      "metadata": {
        "colab": {
          "base_uri": "https://localhost:8080/"
        },
        "id": "eMlIG62xiFiG",
        "outputId": "3b387b0f-1ada-4ba8-959e-b06e8fac29fe"
      },
      "source": [
        "#投稿時刻確認\n",
        "import sqlite3\n",
        "\n",
        "connection = sqlite3.connect('2525.db')\n",
        "cursor = connection.cursor()\n",
        "\n",
        "cursor.execute(\"select max(date), min(date) from comment4\")\n",
        "for row in cursor: # rowはtuple\n",
        "  print(row)\n",
        "connection.commit()\n",
        "connection.close()"
      ],
      "execution_count": 12,
      "outputs": [
        {
          "output_type": "stream",
          "text": [
            "('2018-11-07 19:59:42', '2018-06-01 14:03:59')\n"
          ],
          "name": "stdout"
        }
      ]
    },
    {
      "cell_type": "code",
      "metadata": {
        "id": "MbFvrDrjAZ2A"
      },
      "source": [
        "#各コメント数集計\n",
        "import sqlite3\n",
        "import csv\n",
        "i=0\n",
        "com=[]\n",
        "num=[]\n",
        "\n",
        "connection = sqlite3.connect('2525.db')\n",
        "cursor = connection.cursor()\n",
        "\n",
        "cursor.execute(\"select content, count(*) as namecount from comment group by content having(count(*)>1000) order by content DESC\")\n",
        "for row in cursor: # rowはtuple\n",
        "\n",
        "    print(row[0], row[1])\n",
        "    com[i]=row[0]\n",
        "    num[i]=row[1]\n",
        "    i+=1\n",
        "#print(i)\n",
        "\n",
        "connection.commit()\n",
        "connection.close()"
      ],
      "execution_count": null,
      "outputs": []
    },
    {
      "cell_type": "code",
      "metadata": {
        "id": "RCAS4yeRbFOp",
        "colab": {
          "base_uri": "https://localhost:8080/",
          "height": 35
        },
        "outputId": "0f7bfdc5-a841-44a7-c1ae-b08e472808f0"
      },
      "source": [
        "import sqlite3 \n",
        "#特定カテゴリのデータ数確認\n",
        "i=0\n",
        "con = sqlite3.connect(\"2525.db\")\n",
        "c = con.cursor()\n",
        "c.execute(\"select * from video where category='音楽'\")\n",
        "for row in c: # rowはtuple\n",
        "    #print(row)\n",
        "    i+=1\n",
        "\n",
        "print(i)\n",
        "con.commit()\n",
        "con.close()\n"
      ],
      "execution_count": null,
      "outputs": [
        {
          "output_type": "stream",
          "text": [
            "1083519\n"
          ],
          "name": "stdout"
        }
      ]
    },
    {
      "cell_type": "code",
      "metadata": {
        "colab": {
          "base_uri": "https://localhost:8080/"
        },
        "id": "R7N_1Ud--2lb",
        "outputId": "3dbbb096-617f-4851-a9cc-a74748925627"
      },
      "source": [
        "#動画ごとのコメントを確認\n",
        "import sqlite3\n",
        "\n",
        "con = sqlite3.connect(\"2525.db\")\n",
        "c = con.cursor()\n",
        "c.execute(\"SELECT content FROM all_comment WHERE video_id = 'sm34103741'\")\n",
        "for row in c: # rowはtuple\n",
        "    print(row)\n",
        "con.commit()\n",
        "con.close()"
      ],
      "execution_count": 23,
      "outputs": [
        {
          "output_type": "stream",
          "text": [
            "('うぽつ～',)\n",
            "('うぽつー',)\n",
            "('Gj',)\n",
            "('いいね',)\n",
            "('好き',)\n",
            "('うぽつ',)\n",
            "('萩原さんは才能が開花しつつあるように思える',)\n",
            "('888888888888888888888888',)\n",
            "('「物置」',)\n",
            "('「作詞作曲:萩原九厘」',)\n",
            "('歌:初音ミク',)\n",
            "('ボカロメタルみたいに',)\n",
            "('すんごいエモい',)\n"
          ],
          "name": "stdout"
        }
      ]
    },
    {
      "cell_type": "code",
      "metadata": {
        "id": "aUaVbtGMdFRZ"
      },
      "source": [
        "#selectしてinsert\n",
        "import sqlite3\n",
        "\n",
        "i=0\n",
        "#df = pd.DataFrame(index=[], columns=['num'])\n",
        "con = sqlite3.connect(\"2525.db\")\n",
        "c = con.cursor()\n",
        "#コメント数が10以上100未満の動画データのみ別のテーブルにインサート\n",
        "#c.execute(\"INSERT INTO limi_comment (content, video_id) SELECT content,video_id FROM all_comment GROUP BY video_id HAVING count(video_id)>=11 AND count(video_id)<=38\")\n",
        "c.execute(\"INSERT INTO limcom SELECT content,video_id FROM comment4 WHERE video_id IN (SELECT video_id FROM comment4 GROUP BY video_id HAVING count(*)>=11 AND count(*)<=38)\")\n",
        "for row in c: # rowはtuple\n",
        "    #print(row)\n",
        "    #df.loc[i]=[row[1]]\n",
        "    i+=1\n",
        "\n",
        "#df.to_csv('/content/comment_num.csv', index=False, header=None)\n",
        "con.commit()\n",
        "con.close()"
      ],
      "execution_count": 10,
      "outputs": []
    },
    {
      "cell_type": "code",
      "metadata": {
        "colab": {
          "base_uri": "https://localhost:8080/"
        },
        "id": "kbL5kFVFtwRs",
        "outputId": "e42a14d1-361b-47ad-db4a-1fc431ddb96a"
      },
      "source": [
        "%cd /content/drive/My Drive/Google Colab/niconico_dataset_add_smid"
      ],
      "execution_count": 1,
      "outputs": [
        {
          "output_type": "stream",
          "text": [
            "/content/drive/My Drive/Google Colab/niconico_dataset_add_smid\n"
          ],
          "name": "stdout"
        }
      ]
    },
    {
      "cell_type": "code",
      "metadata": {
        "colab": {
          "base_uri": "https://localhost:8080/"
        },
        "id": "p9nEHBF1whnD",
        "outputId": "001f94a5-c4a8-48cc-ae8b-1cbd94008cac"
      },
      "source": [
        "#動画IDごとのコメント数取得\n",
        "import sqlite3\n",
        "import pandas as pd\n",
        "\n",
        "i=0\n",
        "num1=0\n",
        "num2=0\n",
        "num3=0\n",
        "num4=0\n",
        "num5=0\n",
        "num6=0\n",
        "num7=0\n",
        "num8=0\n",
        "num9=0\n",
        "num10=0\n",
        "numd=0\n",
        "\n",
        "\n",
        "#df = pd.DataFrame(index=[], columns=['num'])\n",
        "con = sqlite3.connect(\"2525.db\")\n",
        "c = con.cursor()\n",
        "c.execute(\"SELECT count(*) AS COUNT FROM all_comment GROUP BY all_comment.video_id ORDER BY COUNT DESC\")\n",
        "print(\"a\")\n",
        "for row in c: # rowはtuple\n",
        "    if row[0] == 31:\n",
        "      num1=num1+1\n",
        "    elif row[0] == 32:\n",
        "      num2=num2+1\n",
        "    elif row[0] == 33:\n",
        "      num3=num3+1\n",
        "    elif row[0] == 34:\n",
        "      num4=num4+1\n",
        "    elif row[0] == 35:\n",
        "      num5=num5+1\n",
        "    elif row[0] == 36:\n",
        "      num6=num6+1\n",
        "    elif row[0] == 37:\n",
        "      num7=num7+1\n",
        "    elif row[0] == 38:\n",
        "      num8=num8+1\n",
        "    elif row[0] == 39:\n",
        "      num9=num9+1\n",
        "    elif row[0] == 40:\n",
        "      num10=num10+1\n",
        "    elif row[0] > 35:\n",
        "      numd=numd+1\n",
        "    \n",
        "    i+=1\n",
        "print(num1)\n",
        "print(num2)\n",
        "print(num3)\n",
        "print(num4)\n",
        "print(num5)\n",
        "print(num6)\n",
        "print(num7)\n",
        "print(num8)\n",
        "print(num9)\n",
        "print(num10)\n",
        "print(numd)\n",
        "#df.to_csv('/content/comment_num.csv', index=False, header=None)\n",
        "con.commit()\n",
        "con.close()"
      ],
      "execution_count": 92,
      "outputs": [
        {
          "output_type": "stream",
          "text": [
            "a\n",
            "1141\n",
            "1012\n",
            "940\n",
            "1024\n",
            "949\n",
            "0\n",
            "0\n",
            "0\n",
            "0\n",
            "0\n",
            "52505\n"
          ],
          "name": "stdout"
        }
      ]
    },
    {
      "cell_type": "code",
      "metadata": {
        "id": "bRyWoL7DaBj4"
      },
      "source": [
        "#特定文字数以上のレコードの取得（select)\n",
        "con = sqlite3.connect(\"nico.db\")\n",
        "c = con.cursor()\n",
        "c.execute(\"select content,video_id from comment where length(content)>=20 and length(content)<=22\")#5文字以上8文字以内\n",
        "for row in c: # rowはtuple\n",
        "    print(row)\n",
        "con.commit()\n",
        "con.close()"
      ],
      "execution_count": null,
      "outputs": []
    },
    {
      "cell_type": "code",
      "metadata": {
        "colab": {
          "base_uri": "https://localhost:8080/"
        },
        "id": "CCbI6aUiwKoi",
        "outputId": "63932d03-e873-4c4d-8f08-c05b09521554"
      },
      "source": [
        "#コメントデータに含まれる動画数\r\n",
        "import sqlite3\r\n",
        "i=0\r\n",
        "connection = sqlite3.connect('2525.db')\r\n",
        "cursor = connection.cursor()\r\n",
        "\r\n",
        "cursor.execute(\"select count(*) AS COUNT from limit_comment group by video_id\")\r\n",
        "for row in cursor: # rowはtuple\r\n",
        "   # print(row)\r\n",
        "   i=i+1\r\n",
        "print(i)\r\n",
        "connection.commit()\r\n",
        "connection.close()"
      ],
      "execution_count": 6,
      "outputs": [
        {
          "output_type": "stream",
          "text": [
            "202486\n"
          ],
          "name": "stdout"
        }
      ]
    },
    {
      "cell_type": "code",
      "metadata": {
        "id": "ZkG51331jcl3",
        "colab": {
          "base_uri": "https://localhost:8080/"
        },
        "outputId": "21a95af5-8e54-42aa-f3e7-5c69ef74c94d"
      },
      "source": [
        "import sqlite3\n",
        "\n",
        "connection = sqlite3.connect('2525.db')\n",
        "cursor = connection.cursor()\n",
        "\n",
        "i=0\n",
        "cursor.execute(\"select count(*) as COUNT from limcom group by video_id\")\n",
        "for row in cursor:\n",
        "  i=i+1\n",
        "\n",
        "print(i+1)\n",
        "\n",
        "connection.commit()\n",
        "connection.close()"
      ],
      "execution_count": 20,
      "outputs": [
        {
          "output_type": "stream",
          "text": [
            "50242\n"
          ],
          "name": "stdout"
        }
      ]
    },
    {
      "cell_type": "code",
      "metadata": {
        "id": "5uIbt3vDkkto"
      },
      "source": [
        "#テーブル作成\n",
        "import sqlite3\n",
        "\n",
        "connection = sqlite3.connect('2525.db')\n",
        "cursor = connection.cursor()\n",
        "\n",
        "cursor.execute(\"create table limcom(content, video_id);\")\n",
        "\n",
        "connection.commit()\n",
        "connection.close()"
      ],
      "execution_count": 11,
      "outputs": []
    }
  ]
}