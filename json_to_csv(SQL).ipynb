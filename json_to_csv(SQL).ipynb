{
  "nbformat": 4,
  "nbformat_minor": 0,
  "metadata": {
    "colab": {
      "name": "json to csv(SQL).ipynb",
      "provenance": [],
      "collapsed_sections": [],
      "toc_visible": true,
      "mount_file_id": "1mo8RgGLr_CsnEGJiBRV4zNGbjC2mod56",
      "authorship_tag": "ABX9TyNXFmQlCcHgHNNYYFxZaaER",
      "include_colab_link": true
    },
    "kernelspec": {
      "name": "python3",
      "display_name": "Python 3"
    }
  },
  "cells": [
    {
      "cell_type": "markdown",
      "metadata": {
        "id": "view-in-github",
        "colab_type": "text"
      },
      "source": [
        "<a href=\"https://colab.research.google.com/github/Arumat546/nico_cls/blob/main/json_to_csv(SQL).ipynb\" target=\"_parent\"><img src=\"https://colab.research.google.com/assets/colab-badge.svg\" alt=\"Open In Colab\"/></a>"
      ]
    },
    {
      "cell_type": "code",
      "metadata": {
        "id": "UsXYzSk-lkfp",
        "colab": {
          "base_uri": "https://localhost:8080/"
        },
        "outputId": "06898d57-91c2-402c-a88b-cf622774ee84"
      },
      "source": [
        "%cd /content/drive/My Drive/Google Colab/niconico_dataset_add_smid"
      ],
      "execution_count": 1,
      "outputs": [
        {
          "output_type": "stream",
          "text": [
            "/content/drive/My Drive/Google Colab/niconico_dataset_add_smid\n"
          ],
          "name": "stdout"
        }
      ]
    },
    {
      "cell_type": "markdown",
      "metadata": {
        "id": "aOB3-BU212Eu"
      },
      "source": [
        "## **SQLite格納**"
      ]
    },
    {
      "cell_type": "code",
      "metadata": {
        "id": "WqsEmnT3lYue"
      },
      "source": [
        "#jsonの読み込みと一覧表示例\n",
        "import json\n",
        "import gzip\n",
        "\n",
        "with gzip.open(\"3000.json.gz\", 'r') as f\n",
        "     for line in f:\n",
        "        jsn = json.loads(line)\n",
        "        print(jsn)\n"
      ],
      "execution_count": null,
      "outputs": []
    },
    {
      "cell_type": "code",
      "metadata": {
        "id": "WctfntNJCE51"
      },
      "source": [
        "#json→csv変換\n",
        "import pandas as pd\n",
        "import json\n",
        "import glob\n",
        "\n",
        "path = \"/content/drive/My Drive/Google Colab/niconico_dataset_add_smid/video_dst\" # use your path\n",
        "all_files = glob.glob(path + \"/*.json.gz\")\n",
        "\n",
        "li = []\n",
        "\n",
        "for filename in all_files:\n",
        "    df = pd.read_json(filename, compression='infer',lines=True)\n",
        "    li.append(df)\n",
        "\n",
        "frame = pd.concat(li, axis=0, ignore_index=True)\n",
        "\n",
        "frame.to_csv('video.csv', columns=['video_id','category'], index=False)"
      ],
      "execution_count": null,
      "outputs": []
    },
    {
      "cell_type": "code",
      "metadata": {
        "id": "K-aFD8kLfY7S"
      },
      "source": [
        "#sqliteデータベースに格納(動画csvファイル)\n",
        "import pandas as pd\n",
        "import sqlite3\n",
        "import json\n",
        "import glob\n",
        "\n",
        "path = \"/content/drive/My Drive/Google Colab/niconico_dataset_add_smid\" # use your path\n",
        "all_files = glob.glob(path + \"/video3.csv\")\n",
        "\n",
        "li = []\n",
        "\n",
        "for filename in all_files:\n",
        "    df = pd.read_csv(filename)\n",
        "    li.append(df)\n",
        "\n",
        "conn = sqlite3.connect('2525.db')\n",
        "c = conn.cursor()\n",
        "df.to_sql('video', conn, if_exists='append')\n",
        "\n",
        "conn.commit()\n",
        "conn.close()"
      ],
      "execution_count": null,
      "outputs": []
    },
    {
      "cell_type": "code",
      "metadata": {
        "id": "EQmsHPI_0ahv"
      },
      "source": [
        "#sqliteデータベースに格納(コメントjsonファイル)改良版\n",
        "import pandas as pd\n",
        "import sqlite3\n",
        "import json\n",
        "import glob\n",
        "\n",
        "conn = sqlite3.connect('2525.db')\n",
        "c = conn.cursor()\n",
        "\n",
        "path = \"/content/drive/My Drive/Google Colab/niconico_dataset_add_smid/comment_dst\" # use your path\n",
        "all_files = glob.glob(path + \"/340[0-3].json.gz\")\n",
        "\n",
        "\n",
        "for filename in all_files:\n",
        "    df = pd.read_json(filename, compression='infer', orient='records',lines=True)\n",
        "    df.to_sql('comment', conn,if_exists='append')\n",
        "\n",
        "conn.commit()\n",
        "conn.close()"
      ],
      "execution_count": null,
      "outputs": []
    },
    {
      "cell_type": "code",
      "metadata": {
        "id": "SK9kjIXr3Imi"
      },
      "source": [
        "#一つずつ格納(コメントファイル)\n",
        "import pandas as pd\n",
        "import sqlite3\n",
        "import json\n",
        "\n",
        "path = \"/content/drive/My Drive/Google Colab/niconico_dataset_add_smid/comment_dst\" # use your path\n",
        "\n",
        "df = pd.read_json(path + \"/3410.json.gz\", compression='infer',lines=True) #昇順でいれること！\n",
        "\n",
        "conn = sqlite3.connect('2525.db')\n",
        "c = conn.cursor()\n",
        "df.to_sql('comment', conn,if_exists='append')\n",
        "conn.commit()\n",
        "conn.close()"
      ],
      "execution_count": null,
      "outputs": []
    },
    {
      "cell_type": "markdown",
      "metadata": {
        "id": "sb38Sav0vTo3"
      },
      "source": [
        "## **SQL操作**"
      ]
    },
    {
      "cell_type": "code",
      "metadata": {
        "id": "XejxTokIuWNd"
      },
      "source": [
        "#データの削除（カテゴリーがnullのものをすべて削除）\n",
        "con = sqlite3.connect(\"2525.db\")\n",
        "c = con.cursor()\n",
        "c.execute(\"delete from video where category is null\")\n",
        "\n",
        "con.commit()\n",
        "con.close()"
      ],
      "execution_count": null,
      "outputs": []
    },
    {
      "cell_type": "code",
      "metadata": {
        "id": "JlwG-BmqrE89"
      },
      "source": [
        "#列の値の種類抽出\n",
        "import sqlite3\n",
        "con = sqlite3.connect(\"2525.db\")\n",
        "c = con.cursor()\n",
        "c.execute(\"select category from video group by category\")\n",
        "for row in c: # rowはtuple\n",
        "    print(row)\n",
        "\n",
        "con.commit()\n",
        "con.close()"
      ],
      "execution_count": null,
      "outputs": []
    },
    {
      "cell_type": "code",
      "metadata": {
        "id": "ufRapyTet5yS",
        "colab": {
          "base_uri": "https://localhost:8080/"
        },
        "outputId": "9e82102a-6a0f-4ec4-b8f7-308befdd095a"
      },
      "source": [
        "#ロー数確認\n",
        "import sqlite3\n",
        "conn = sqlite3.connect('2525.db')\n",
        "conect = conn.cursor()\n",
        "\n",
        "#SQL 設定　　テーブル名：table_ubuntu\n",
        "sql = 'SELECT count(*) FROM ' + 'comment'\n",
        "#SQLを実行し、レコード数を得る\n",
        "conect.execute(sql)\n",
        "result = conect.fetchall()\n",
        "#結果は リスト、タプル型で出力される => [(5,)]\n",
        "print (result)\n",
        "\n",
        "record_max = result[0][0]\n",
        "print ('登録されている総レコード数 ==> ', record_max)"
      ],
      "execution_count": 13,
      "outputs": [
        {
          "output_type": "stream",
          "text": [
            "[(4544786,)]\n",
            "登録されている総レコード数 ==>  4544786\n"
          ],
          "name": "stdout"
        }
      ]
    },
    {
      "cell_type": "code",
      "metadata": {
        "id": "6xINh0xnomVE",
        "colab": {
          "base_uri": "https://localhost:8080/"
        },
        "outputId": "f4d73cbb-7c6e-48a4-a5bc-7320ce65219f"
      },
      "source": [
        "#テーブル一覧取得\n",
        "import sqlite3\n",
        "con = sqlite3.connect(\"2525.db\")\n",
        "cursor = con.cursor()\n",
        "cursor.execute(\"select * from sqlite_master where type='table'\")\n",
        "for x in cursor.fetchall():\n",
        "    print(x)\n",
        "\n",
        "con.close()"
      ],
      "execution_count": null,
      "outputs": [
        {
          "output_type": "stream",
          "text": [
            "('table', 'video', 'video', 2, 'CREATE TABLE \"video\" (\\n\"index\" INTEGER,\\n  \"video_id\" TEXT,\\n  \"category\" TEXT\\n)')\n",
            "('table', 'comment', 'comment', 192078, 'CREATE TABLE \"comment\" (\\n\"index\" INTEGER,\\n  \"date\" TIMESTAMP,\\n  \"vpos\" INTEGER,\\n  \"content\" TEXT,\\n  \"command\" TEXT,\\n  \"video_id\" TEXT\\n)')\n"
          ],
          "name": "stdout"
        }
      ]
    },
    {
      "cell_type": "code",
      "metadata": {
        "id": "7vlDbxp6hZKf",
        "colab": {
          "base_uri": "https://localhost:8080/"
        },
        "outputId": "ff557c78-1b14-4826-87b9-18105e95cd22"
      },
      "source": [
        "#カラム名取得\n",
        "conn = sqlite3.connect(\"2525.db\")\n",
        "c = conn.execute('select * from comment')\n",
        "names = list(map(lambda x: x[0], c.description))\n",
        "print(names)\n",
        "conn.close()"
      ],
      "execution_count": null,
      "outputs": [
        {
          "output_type": "stream",
          "text": [
            "['index', 'date', 'vpos', 'content', 'command', 'video_id']\n"
          ],
          "name": "stdout"
        }
      ]
    },
    {
      "cell_type": "code",
      "metadata": {
        "id": "LkZa4EB3G3aT"
      },
      "source": [
        "#テーブル削除\n",
        "import sqlite3\n",
        "con = sqlite3.connect('2525.db')\n",
        "cur = con.cursor()\n",
        "\n",
        "#sql = \"drop table comment_test;\"\n",
        "cur.execute(sql)\n",
        " \n",
        "con.close()"
      ],
      "execution_count": null,
      "outputs": []
    },
    {
      "cell_type": "code",
      "metadata": {
        "id": "unvBq5c-Dy_Z"
      },
      "source": [
        "#内部結合\n",
        "import sqlite3\n",
        "i=0\n",
        "con = sqlite3.connect(\"2525.db\")\n",
        "c = con.cursor()\n",
        "c.execute(\"select content,category from comment inner join video on comment.video_id=video.video_id where length(content)>=10 and length(content)<=20 and (category='アイドルマスター'or category='東方')\")\n",
        "for row in c: # rowはtuple\n",
        "    print(row[0], row[1])\n",
        "    i+=1\n",
        "\n",
        "print(i)\n",
        "con.commit()\n",
        "con.close()"
      ],
      "execution_count": null,
      "outputs": []
    },
    {
      "cell_type": "code",
      "metadata": {
        "id": "v0-jJXSEOUK8",
        "colab": {
          "base_uri": "https://localhost:8080/",
          "height": 34
        },
        "outputId": "a307c0cb-cd56-4ef6-f74c-90ef91df68c0"
      },
      "source": [
        "%cd /content"
      ],
      "execution_count": null,
      "outputs": [
        {
          "output_type": "stream",
          "text": [
            "/content\n"
          ],
          "name": "stdout"
        }
      ]
    },
    {
      "cell_type": "code",
      "metadata": {
        "id": "glMopV2zFsTm",
        "colab": {
          "base_uri": "https://localhost:8080/"
        },
        "outputId": "8745c280-d0a3-4bfa-eaf4-1ba36f9482da"
      },
      "source": [
        "# 乱数シードの固定\n",
        "\n",
        "import os\n",
        "import random\n",
        "import numpy as np\n",
        "import torch\n",
        "\n",
        "SEED_VALUE = 1234  # これはなんでも良い\n",
        "os.environ['PYTHONHASHSEED'] = str(SEED_VALUE)\n",
        "random.seed(SEED_VALUE)\n",
        "np.random.seed(SEED_VALUE)\n",
        "torch.manual_seed(SEED_VALUE)  # PyTorchを使う場合"
      ],
      "execution_count": null,
      "outputs": [
        {
          "output_type": "execute_result",
          "data": {
            "text/plain": [
              "<torch._C.Generator at 0x7f8927301be8>"
            ]
          },
          "metadata": {
            "tags": []
          },
          "execution_count": 17
        }
      ]
    },
    {
      "cell_type": "code",
      "metadata": {
        "id": "gyyiFlZ1Wjrl"
      },
      "source": [
        "#tsv出力\n",
        "import pandas as pd\n",
        "import sqlite3\n",
        "\n",
        "i=0\n",
        "df = pd.DataFrame(index=[], columns=['content','category'])\n",
        "\n",
        "con = sqlite3.connect(\"2525.db\")\n",
        "c = con.cursor()\n",
        "c.execute(\"select content,category from comment inner join video on comment.video_id=video.video_id where length(content)>=8 and category='アイドルマスター'\")\n",
        "for row in c: # rowはtuple\n",
        "    #print(row[0], row[1])\n",
        "    df.loc[i]=[row[0], row[1]]\n",
        "    i+=1\n",
        "\n",
        "df.head()\n",
        "#データをシャッフル\n",
        "df = df.sample(frac=1, random_state=121).reset_index(drop=True)\n",
        "\n",
        "\n",
        "#取り出すデータ数指定\n",
        "df[:2000].to_csv('/content/imas2000.tsv', sep='\\t', index=False, header=None)\n",
        "#print(df[:len].shape)\n",
        "#df.to_csv('/content/entame.tsv', sep='\\t', index=False)\n",
        "con.commit()\n",
        "con.close()"
      ],
      "execution_count": null,
      "outputs": []
    },
    {
      "cell_type": "code",
      "metadata": {
        "id": "nChMloKJFc9i"
      },
      "source": [
        ""
      ],
      "execution_count": null,
      "outputs": []
    },
    {
      "cell_type": "markdown",
      "metadata": {
        "id": "rhk6wbT3brzH"
      },
      "source": [
        "## **実験場**"
      ]
    },
    {
      "cell_type": "code",
      "metadata": {
        "id": "MbFvrDrjAZ2A",
        "colab": {
          "base_uri": "https://localhost:8080/"
        },
        "outputId": "b990ac4a-c43a-4716-c52a-2803f7dfbda7"
      },
      "source": [
        "#各コメント数集計\n",
        "import sqlite3\n",
        "import csv\n",
        "i=0\n",
        "com=[]\n",
        "num=[]\n",
        "\n",
        "connection = sqlite3.connect('2525.db')\n",
        "cursor = connection.cursor()\n",
        "\n",
        "cursor.execute(\"select content, count(*) as namecount from comment group by content having(count(*)>1000) order by content DESC\")\n",
        "for row in cursor: # rowはtuple\n",
        "\n",
        "    print(row[0], row[1])\n",
        "    com[i]=row[0]\n",
        "    num[i]=row[1]\n",
        "    i+=1\n",
        "#print(i)\n",
        "\n",
        "connection.commit()\n",
        "connection.close()"
      ],
      "execution_count": 12,
      "outputs": [
        {
          "output_type": "stream",
          "text": [
            "ﾋｴｯ 1195\n",
            "ｗｗｗｗｗｗｗｗｗｗｗ 1244\n",
            "ｗｗｗｗｗｗｗｗｗｗ 1494\n",
            "ｗｗｗｗｗｗｗｗｗ 1892\n",
            "ｗｗｗｗｗｗｗｗ 2248\n",
            "ｗｗｗｗｗｗｗ 2628\n",
            "ｗｗｗｗｗｗ 4164\n",
            "ｗｗｗｗｗ 6001\n",
            "ｗｗｗｗ 7702\n",
            "ｗｗｗ 12516\n",
            "ｗｗ 4427\n",
            "ｗ 2699\n",
            "？？？ 1591\n",
            "？ 5079\n",
            "！？ 19685\n",
            "誰？ 1164\n",
            "草 82727\n",
            "知ってた 1443\n",
            "生きがい 2036\n",
            "有能 2030\n",
            "最高 1253\n",
            "待ってた 1624\n",
            "好き 1611\n",
            "可愛い 2740\n",
            "乙 4085\n",
            "ファッ！？ 1604\n",
            "ん？ 10164\n",
            "わかる 3711\n",
            "やりますねぇ！ 1289\n",
            "やったぜ。 3000\n",
            "やったぜ 3243\n",
            "やさしい 1978\n",
            "みえ 1262\n",
            "ほんへ 1369\n",
            "ほんとぉ？ 1267\n",
            "へー 1720\n",
            "は？ 15177\n",
            "はい 1732\n",
            "なるほど 1506\n",
            "でかい 2054\n",
            "つよい 2796\n",
            "それな 1528\n",
            "そうはならんやろ 1475\n",
            "そうだよ 1903\n",
            "せやな 4749\n",
            "すごい 1433\n",
            "すこ 2199\n",
            "すき 4776\n",
            "こわい 2799\n",
            "こわ 1187\n",
            "これすき 1293\n",
            "ここ好き 1001\n",
            "ここすこ 1154\n",
            "ここすき 7383\n",
            "ぐへへ 2414\n",
            "かわいそう 1290\n",
            "かわいい 32762\n",
            "かっこいい 3433\n",
            "お？ 1012\n",
            "お誕生日おめでとうございます！ 1048\n",
            "おー 1284\n",
            "おまどうま！ 2037\n",
            "おまどうま 1002\n",
            "おまかわ 1074\n",
            "おつー 4379\n",
            "おつです 2190\n",
            "おつでした 1485\n",
            "おつおつ 2223\n",
            "おつ 19962\n",
            "おおおお 1032\n",
            "おおお 1799\n",
            "おお 4439\n",
            "おい 1267\n",
            "お 3445\n",
            "え？ 3309\n",
            "えっ 1349\n",
            "ええんやで 1210\n",
            "ええやん 1503\n",
            "えぇ・・・ 3017\n",
            "えぇ… 3361\n",
            "え 3903\n",
            "うん 1243\n",
            "うまい 1409\n",
            "うぽーつ 1042\n",
            "うぽつ～ 1507\n",
            "うぽつ！！ 1696\n",
            "うぽつ！ 7953\n",
            "うぽつー 8745\n",
            "うぽつです！！！ 1082\n",
            "うぽつです！！ 3340\n",
            "うぽつです！ 15110\n",
            "うぽつですー 1398\n",
            "うぽつです 12909\n",
            "うぽつ 77735\n",
            "うぽ 2615\n",
            "いつもの 2759\n",
            "いいね 2468\n",
            "あーあ 1082\n",
            "あー 1520\n",
            "ありがとう 1252\n",
            "あら＾～ 3067\n",
            "あば＾～ 1335\n",
            "あっ… 1215\n",
            "あっ 6287\n",
            "あ 14846\n",
            "wwwwwwwwww 1040\n",
            "wwwwwwwww 1589\n",
            "wwwwwwww 1759\n",
            "wwwwwww 2014\n",
            "wwwwww 3521\n",
            "wwwww 4191\n",
            "wwww 5143\n",
            "www 8675\n",
            "ww 3350\n",
            "w 3295\n",
            "upotu 1184\n",
            "GJ 1308\n",
            "888888888888888888888888888888888888888888888888888888888888888888888888888 1319\n",
            "888888888888888888888888888888 1149\n",
            "88888888888888888888 1046\n",
            "888888888888888888 1135\n",
            "8888888888888888 1547\n",
            "888888888888888 1153\n",
            "88888888888888 1215\n",
            "8888888888888 1329\n",
            "888888888888 1389\n",
            "88888888888 1296\n",
            "8888888888 1384\n",
            "888888888 1067\n",
            "88888888 1444\n",
            "1 2413\n",
            "!? 1423\n"
          ],
          "name": "stdout"
        }
      ]
    },
    {
      "cell_type": "code",
      "metadata": {
        "id": "bl-adTyvqsTm"
      },
      "source": [
        "SELECT Type, COUNT(*) AS NameCount\n",
        "FROM LIST\n",
        "GROUP BY Type\n",
        "HAVING (COUNT(*) > 1)\n",
        "ORDER BY Type"
      ],
      "execution_count": null,
      "outputs": []
    },
    {
      "cell_type": "code",
      "metadata": {
        "id": "RCAS4yeRbFOp",
        "colab": {
          "base_uri": "https://localhost:8080/",
          "height": 35
        },
        "outputId": "0f7bfdc5-a841-44a7-c1ae-b08e472808f0"
      },
      "source": [
        "import sqlite3 \n",
        "#特定カテゴリのデータ数確認\n",
        "i=0\n",
        "con = sqlite3.connect(\"nico.db\")\n",
        "c = con.cursor()\n",
        "c.execute(\"select * from video where category='音楽'\")\n",
        "for row in c: # rowはtuple\n",
        "    #print(row)\n",
        "    i+=1\n",
        "\n",
        "print(i)\n",
        "con.commit()\n",
        "con.close()\n"
      ],
      "execution_count": null,
      "outputs": [
        {
          "output_type": "stream",
          "text": [
            "1083519\n"
          ],
          "name": "stdout"
        }
      ]
    },
    {
      "cell_type": "code",
      "metadata": {
        "id": "bRyWoL7DaBj4"
      },
      "source": [
        "#特定文字数以上のレコードの取得（select)\n",
        "con = sqlite3.connect(\"nico.db\")\n",
        "c = con.cursor()\n",
        "c.execute(\"select content,video_id from comment where length(content)>=20 and length(content)<=22\")#5文字以上8文字以内\n",
        "for row in c: # rowはtuple\n",
        "    print(row)\n",
        "con.commit()\n",
        "con.close()"
      ],
      "execution_count": null,
      "outputs": []
    }
  ]
}