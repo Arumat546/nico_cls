{
  "nbformat": 4,
  "nbformat_minor": 0,
  "metadata": {
    "colab": {
      "name": "mecab百科改.ipynb",
      "provenance": [],
      "collapsed_sections": [],
      "mount_file_id": "17bwtNPOSOP0eS14iXqQlsmBvUTwGTqyq",
      "authorship_tag": "ABX9TyO91YC8bhVsuAgBcq6th65i",
      "include_colab_link": true
    },
    "kernelspec": {
      "name": "python3",
      "display_name": "Python 3"
    }
  },
  "cells": [
    {
      "cell_type": "markdown",
      "metadata": {
        "id": "view-in-github",
        "colab_type": "text"
      },
      "source": [
        "<a href=\"https://colab.research.google.com/github/Arumat546/nico_cls/blob/main/mecab%E7%99%BE%E7%A7%91%E6%94%B9.ipynb\" target=\"_parent\"><img src=\"https://colab.research.google.com/assets/colab-badge.svg\" alt=\"Open In Colab\"/></a>"
      ]
    },
    {
      "cell_type": "code",
      "metadata": {
        "id": "8Bt1AThMowic"
      },
      "source": [
        "# install MeCab\r\n",
        "!apt install aptitude\r\n",
        "!aptitude install mecab libmecab-dev mecab-ipadic-utf8 git make curl xz-utils file -y\r\n",
        "!pip install mecab-python3==0.7\r\n",
        "!git clone --depth 1 https://github.com/neologd/mecab-ipadic-neologd.git\r\n",
        "%cd mecab-ipadic-neologd/\r\n",
        "!sudo ./bin/install-mecab-ipadic-neologd -n -a\r\n",
        "\r\n",
        "# 追加辞書の場所\r\n",
        "!echo `mecab-config --dicdir`\"/mecab-ipadic-neologd\""
      ],
      "execution_count": null,
      "outputs": []
    },
    {
      "cell_type": "code",
      "metadata": {
        "id": "HCX8Hr7aoyUE"
      },
      "source": [
        "import MeCab\r\n",
        "wakati = MeCab.Tagger()    #分かち書き\r\n",
        "neo_wakati = MeCab.Tagger('-d /usr/lib/x86_64-linux-gnu/mecab/dic/mecab-ipadic-neologd') #追加辞書を適用\r\n",
        "word = input(\"分かち書き：\")\r\n",
        "wakati = wakati.parse(word).strip()\r\n",
        "neo_wakati = neo_wakati.parse(word).strip()\r\n",
        "\r\n",
        "print('通常辞書：' + wakati)\r\n",
        "print('追加辞書：' + neo_wakati)"
      ],
      "execution_count": null,
      "outputs": []
    },
    {
      "cell_type": "code",
      "metadata": {
        "colab": {
          "base_uri": "https://localhost:8080/"
        },
        "id": "L0x-nwPdzP89",
        "outputId": "6fbbf577-8c03-40aa-9991-d3d4b381c498"
      },
      "source": [
        "%cd /content/drive/MyDrive/Google Colab/niconico_dataset_add_smid/mecab"
      ],
      "execution_count": 45,
      "outputs": [
        {
          "output_type": "stream",
          "text": [
            "/content/drive/MyDrive/Google Colab/niconico_dataset_add_smid/mecab\n"
          ],
          "name": "stdout"
        }
      ]
    },
    {
      "cell_type": "code",
      "metadata": {
        "colab": {
          "base_uri": "https://localhost:8080/"
        },
        "id": "LoNSGipSzJVi",
        "outputId": "31117677-7104-4ea6-c7cb-900d83ca714f"
      },
      "source": [
        "#ユーザー辞書追加\r\n",
        "! /usr/lib/mecab/mecab-dict-index -d/usr/lib/x86_64-linux-gnu/mecab/dic/mecab-ipadic-neologd/ \\\r\n",
        "-u user.dic -f utf8 -t utf8 ncnc.csv"
      ],
      "execution_count": 17,
      "outputs": [
        {
          "output_type": "stream",
          "text": [
            "reading ncnc.csv ... 144079\n",
            "emitting double-array: 100% |###########################################| \n",
            "\n",
            "done!\n"
          ],
          "name": "stdout"
        }
      ]
    },
    {
      "cell_type": "code",
      "metadata": {
        "colab": {
          "base_uri": "https://localhost:8080/"
        },
        "id": "yro_V6V8zfo5",
        "outputId": "164cb37d-8222-40cc-f010-89d3723850f5"
      },
      "source": [
        "m = MeCab.Tagger()\r\n",
        "sample_txt = \"博麗霊夢は初音ミクを連れて、東方ニコニコ新年祭に参加した。\"\r\n",
        "print(\"Mecab:\\n\", m.parse(sample_txt))\r\n",
        "\r\n",
        "path = \"-d /usr/lib/x86_64-linux-gnu/mecab/dic/mecab-ipadic-neologd\"\r\n",
        "m2 = MeCab.Tagger(path)\r\n",
        "print(\"Mecab ipadic NEologd:\\n\",m2.parse(sample_txt))\r\n",
        "\r\n",
        "path2=\"-u user.dic\"\r\n",
        "m3 = MeCab.Tagger(path2)\r\n",
        "print(\"Mecab user dic:\\n\",m3.parse(sample_txt))"
      ],
      "execution_count": 54,
      "outputs": [
        {
          "output_type": "stream",
          "text": [
            "Mecab:\n",
            " 博\t名詞,固有名詞,人名,名,*,*,博,ヒロシ,ヒロシ\n",
            "麗\t名詞,固有名詞,人名,名,*,*,麗,ウララ,ウララ\n",
            "霊夢\t名詞,一般,*,*,*,*,霊夢,レイム,レイム\n",
            "は\t助詞,係助詞,*,*,*,*,は,ハ,ワ\n",
            "初音\t名詞,一般,*,*,*,*,初音,ハツネ,ハツネ\n",
            "ミク\t名詞,固有名詞,人名,名,*,*,ミク,ミク,ミク\n",
            "を\t助詞,格助詞,一般,*,*,*,を,ヲ,ヲ\n",
            "連れ\t動詞,自立,*,*,一段,連用形,連れる,ツレ,ツレ\n",
            "て\t助詞,接続助詞,*,*,*,*,て,テ,テ\n",
            "、\t記号,読点,*,*,*,*,、,、,、\n",
            "東方\t名詞,一般,*,*,*,*,東方,トウホウ,トーホー\n",
            "ニコニコ\t副詞,助詞類接続,*,*,*,*,ニコニコ,ニコニコ,ニコニコ\n",
            "新年\t名詞,副詞可能,*,*,*,*,新年,シンネン,シンネン\n",
            "祭\t名詞,接尾,一般,*,*,*,祭,サイ,サイ\n",
            "に\t助詞,格助詞,一般,*,*,*,に,ニ,ニ\n",
            "参加\t名詞,サ変接続,*,*,*,*,参加,サンカ,サンカ\n",
            "し\t動詞,自立,*,*,サ変・スル,連用形,する,シ,シ\n",
            "た\t助動詞,*,*,*,特殊・タ,基本形,た,タ,タ\n",
            "が\t助詞,接続助詞,*,*,*,*,が,ガ,ガ\n",
            "(◉◞\t名詞,サ変接続,*,*,*,*,*\n",
            "౪\t記号,一般,*,*,*,*,*\n",
            "◟◉`)\t名詞,サ変接続,*,*,*,*,*\n",
            "に\t助詞,格助詞,一般,*,*,*,に,ニ,ニ\n",
            "取り上げ\t動詞,自立,*,*,一段,未然形,取り上げる,トリアゲ,トリアゲ\n",
            "られ\t動詞,接尾,*,*,一段,連用形,られる,ラレ,ラレ\n",
            "た\t助動詞,*,*,*,特殊・タ,基本形,た,タ,タ\n",
            "EOS\n",
            "\n",
            "Mecab ipadic NEologd:\n",
            " 博麗霊夢\t名詞,固有名詞,人名,一般,*,*,博麗霊夢,ハクレイレイム,ハクレイレイム\n",
            "は\t助詞,係助詞,*,*,*,*,は,ハ,ワ\n",
            "初音ミク\t名詞,固有名詞,人名,一般,*,*,初音ミク,ハツネミク,ハツネミク\n",
            "を\t助詞,格助詞,一般,*,*,*,を,ヲ,ヲ\n",
            "連れ\t動詞,自立,*,*,一段,連用形,連れる,ツレ,ツレ\n",
            "て\t助詞,接続助詞,*,*,*,*,て,テ,テ\n",
            "、\t記号,読点,*,*,*,*,、,、,、\n",
            "東方\t名詞,一般,*,*,*,*,東方,トウホウ,トーホー\n",
            "ニコニコ\t副詞,助詞類接続,*,*,*,*,ニコニコ,ニコニコ,ニコニコ\n",
            "新年\t名詞,副詞可能,*,*,*,*,新年,シンネン,シンネン\n",
            "祭\t名詞,接尾,一般,*,*,*,祭,サイ,サイ\n",
            "に\t助詞,格助詞,一般,*,*,*,に,ニ,ニ\n",
            "参加\t名詞,サ変接続,*,*,*,*,参加,サンカ,サンカ\n",
            "し\t動詞,自立,*,*,サ変・スル,連用形,する,シ,シ\n",
            "た\t助動詞,*,*,*,特殊・タ,基本形,た,タ,タ\n",
            "が\t助詞,接続助詞,*,*,*,*,が,ガ,ガ\n",
            "(◉◞\t記号,一般,*,*,*,*,*\n",
            "౪\t記号,一般,*,*,*,*,*\n",
            "◟◉`)\t記号,一般,*,*,*,*,*\n",
            "に\t助詞,格助詞,一般,*,*,*,に,ニ,ニ\n",
            "取り上げ\t動詞,自立,*,*,一段,未然形,取り上げる,トリアゲ,トリアゲ\n",
            "られ\t動詞,接尾,*,*,一段,連用形,られる,ラレ,ラレ\n",
            "た\t助動詞,*,*,*,特殊・タ,基本形,た,タ,タ\n",
            "EOS\n",
            "\n",
            "Mecab user dic:\n",
            " 博麗霊夢\t名詞,一般,*,*,*,*,博麗霊夢,ハクレイレイム,ハクレイレイム,ニコニコ大百科\r\n",
            "は\t助詞,係助詞,*,*,*,*,は,ハ,ワ\n",
            "初音ミク\t名詞,一般,*,*,*,*,初音ミク,ハツネミク,ハツネミク,ニコニコ大百科\r\n",
            "を\t助詞,格助詞,一般,*,*,*,を,ヲ,ヲ\n",
            "連れ\t動詞,自立,*,*,一段,連用形,連れる,ツレ,ツレ\n",
            "て\t助詞,接続助詞,*,*,*,*,て,テ,テ\n",
            "、\t記号,読点,*,*,*,*,、,、,、\n",
            "東方ニコニコ新年祭\t名詞,一般,*,*,*,*,東方ニコニコ新年祭,トウホウニコニコシンネンサイ,トウホウニコニコシンネンサイ,ニコニコ大百科\r\n",
            "に\t助詞,格助詞,一般,*,*,*,に,ニ,ニ\n",
            "参加\t名詞,サ変接続,*,*,*,*,参加,サンカ,サンカ\n",
            "し\t動詞,自立,*,*,サ変・スル,連用形,する,シ,シ\n",
            "た\t助動詞,*,*,*,特殊・タ,基本形,た,タ,タ\n",
            "が\t助詞,接続助詞,*,*,*,*,が,ガ,ガ\n",
            "(◉◞\t名詞,サ変接続,*,*,*,*,*\n",
            "౪\t記号,一般,*,*,*,*,*\n",
            "◟◉`)\t名詞,サ変接続,*,*,*,*,*\n",
            "に\t助詞,格助詞,一般,*,*,*,に,ニ,ニ\n",
            "取り上げ\t動詞,自立,*,*,一段,未然形,取り上げる,トリアゲ,トリアゲ\n",
            "られ\t動詞,接尾,*,*,一段,連用形,られる,ラレ,ラレ\n",
            "た\t助動詞,*,*,*,特殊・タ,基本形,た,タ,タ\n",
            "EOS\n",
            "\n"
          ],
          "name": "stdout"
        }
      ]
    },
    {
      "cell_type": "code",
      "metadata": {
        "colab": {
          "base_uri": "https://localhost:8080/"
        },
        "id": "ehqFfcY5z5i_",
        "outputId": "e821833d-d9c6-41d6-929a-9ecdf24cd906"
      },
      "source": [
        "!pip install -q gwpy\r\n",
        "%cd /content/drive/My Drive/Google Colab/niconico_dataset_add_smid/\r\n",
        "\r\n",
        "# 乱数シードの固定\r\n",
        "import os\r\n",
        "import random\r\n",
        "import numpy as np\r\n",
        "\r\n",
        "SEED_VALUE = 123  # これはなんでも良い\r\n",
        "os.environ['PYTHONHASHSEED'] = str(SEED_VALUE)\r\n",
        "random.seed(SEED_VALUE)\r\n",
        "np.random.seed(SEED_VALUE)"
      ],
      "execution_count": 10,
      "outputs": [
        {
          "output_type": "stream",
          "text": [
            "\u001b[K     |████████████████████████████████| 1.4MB 8.9MB/s \n",
            "\u001b[K     |████████████████████████████████| 51kB 5.4MB/s \n",
            "\u001b[K     |████████████████████████████████| 61kB 6.5MB/s \n",
            "\u001b[K     |████████████████████████████████| 2.6MB 23.6MB/s \n",
            "\u001b[?25h  Building wheel for ligo-segments (setup.py) ... \u001b[?25l\u001b[?25hdone\n",
            "/content/drive/My Drive/Google Colab/niconico_dataset_add_smid\n"
          ],
          "name": "stdout"
        }
      ]
    },
    {
      "cell_type": "code",
      "metadata": {
        "id": "GKmfhy310N0B"
      },
      "source": [
        "%%capture\r\n",
        "!pip install fasttext\r\n",
        "# fasttext\r\n",
        "import fasttext as ft\r\n",
        "import pandas as pd\r\n",
        "import numpy as np\r\n",
        "# 正規表現\r\n",
        "import re\r\n",
        "# グラフ描画\r\n",
        "import seaborn as sns\r\n",
        "# 混同行列\r\n",
        "from sklearn.metrics import confusion_matrix\r\n",
        "# 画像表示\r\n",
        "import itertools\r\n",
        "\r\n",
        "import matplotlib.pyplot as plt\r\n",
        "import matplotlib.pyplot as plt\r\n",
        "!pip install japanize_matplotlib\r\n",
        "import japanize_matplotlib\r\n",
        "from sklearn.model_selection import train_test_split\r\n",
        "from sklearn import preprocessing\r\n",
        "from sklearn.decomposition import PCA"
      ],
      "execution_count": 11,
      "outputs": []
    },
    {
      "cell_type": "code",
      "metadata": {
        "colab": {
          "base_uri": "https://localhost:8080/"
        },
        "id": "OzPNsBzT0Oso",
        "outputId": "48abd707-9cab-4370-ee32-53b29e7221d9"
      },
      "source": [
        "%cd /content/drive/MyDrive/Google Colab/niconico_dataset_add_smid\r\n",
        "#import MeCab\r\n",
        "#mecab = MeCab.Tagger(\"-Owakati\")\r\n",
        "# 学習データを加工\r\n",
        "with open('trainASa.tsv', 'r') as f_in, open('train_fasttext.txt', 'w') as f_out:\r\n",
        "    for row in f_in:\r\n",
        "        content, category = row.strip().split('\\t')\r\n",
        "        content=m.parse(content)\r\n",
        "        f_out.write('__label__{} {}\\n'.format(category, content))\r\n",
        "\r\n",
        "# テストデータを加工\r\n",
        "with open('testASa.tsv', 'r') as f_in, open('test_fasttext.txt', 'w') as f_out:\r\n",
        "    for row in f_in:\r\n",
        "        content, category = row.strip().split('\\t')\r\n",
        "        content=m.parse(content)\r\n",
        "        f_out.write('__label__{} {}\\n'.format(category, content))"
      ],
      "execution_count": 43,
      "outputs": [
        {
          "output_type": "stream",
          "text": [
            "/content/drive/MyDrive/Google Colab/niconico_dataset_add_smid\n"
          ],
          "name": "stdout"
        }
      ]
    },
    {
      "cell_type": "code",
      "metadata": {
        "colab": {
          "base_uri": "https://localhost:8080/"
        },
        "id": "NwkOaszQ01Hv",
        "outputId": "04e4c8da-b879-408d-ea4f-1e2ed1d085fb"
      },
      "source": [
        "model = ft.train_supervised(input=\"train_fasttext.txt\", epoch=50, loss=\"hs\")\r\n",
        "#model.save_model(\"fasttext.model\")\r\n",
        "#results = model.test(\"test_fasttext.txt\")\r\n",
        "print(\"TrainData:\", model.test('train_fasttext.txt'))\r\n",
        "print(\"Valid\", model.test('test_fasttext.txt'))"
      ],
      "execution_count": 44,
      "outputs": [
        {
          "output_type": "stream",
          "text": [
            "TrainData: (4799, 0.9995832465096895, 0.9995832465096895)\n",
            "Valid (1199, 0.8448707256046706, 0.8448707256046706)\n"
          ],
          "name": "stdout"
        }
      ]
    }
  ]
}