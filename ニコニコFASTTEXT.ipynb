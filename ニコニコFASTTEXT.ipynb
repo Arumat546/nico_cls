{
  "nbformat": 4,
  "nbformat_minor": 0,
  "metadata": {
    "colab": {
      "name": "ニコニコFASTTEXT.ipynb",
      "provenance": [],
      "mount_file_id": "1VeUtXsn9AVUypMIOQg2qnnuczPqss22X",
      "authorship_tag": "ABX9TyN6k8tItNBDge195b0O7OtU",
      "include_colab_link": true
    },
    "kernelspec": {
      "name": "python3",
      "display_name": "Python 3"
    }
  },
  "cells": [
    {
      "cell_type": "markdown",
      "metadata": {
        "id": "view-in-github",
        "colab_type": "text"
      },
      "source": [
        "<a href=\"https://colab.research.google.com/github/Arumat546/nico_cls/blob/main/%E3%83%8B%E3%82%B3%E3%83%8B%E3%82%B3FASTTEXT.ipynb\" target=\"_parent\"><img src=\"https://colab.research.google.com/assets/colab-badge.svg\" alt=\"Open In Colab\"/></a>"
      ]
    },
    {
      "cell_type": "code",
      "metadata": {
        "colab": {
          "base_uri": "https://localhost:8080/"
        },
        "id": "xhiZ2Tpek-iU",
        "outputId": "9559bd17-3c67-4c09-d143-e366f7cbbd4d"
      },
      "source": [
        "!pip install -q gwpy\n",
        "%cd /content/drive/My Drive/Google Colab/niconico_dataset_add_smid/\n",
        "\n",
        "# 乱数シードの固定\n",
        "import os\n",
        "import random\n",
        "import numpy as np\n",
        "\n",
        "SEED_VALUE = 123  # これはなんでも良い\n",
        "os.environ['PYTHONHASHSEED'] = str(SEED_VALUE)\n",
        "random.seed(SEED_VALUE)\n",
        "np.random.seed(SEED_VALUE)"
      ],
      "execution_count": 1,
      "outputs": [
        {
          "output_type": "stream",
          "text": [
            "\u001b[K     |████████████████████████████████| 1.4MB 5.7MB/s \n",
            "\u001b[K     |████████████████████████████████| 51kB 5.6MB/s \n",
            "\u001b[K     |████████████████████████████████| 61kB 7.3MB/s \n",
            "\u001b[K     |████████████████████████████████| 2.6MB 25.6MB/s \n",
            "\u001b[?25h  Building wheel for ligo-segments (setup.py) ... \u001b[?25l\u001b[?25hdone\n",
            "/content/drive/My Drive/Google Colab/niconico_dataset_add_smid\n"
          ],
          "name": "stdout"
        }
      ]
    },
    {
      "cell_type": "code",
      "metadata": {
        "id": "TTrZyYPQlQk-"
      },
      "source": [
        "%%capture\n",
        "!pip install fasttext\n",
        "# fasttext\n",
        "import fasttext as ft\n",
        "import pandas as pd\n",
        "import numpy as np\n",
        "# 正規表現\n",
        "import re\n",
        "# グラフ描画\n",
        "import seaborn as sns\n",
        "# 混同行列\n",
        "from sklearn.metrics import confusion_matrix\n",
        "# 画像表示\n",
        "import itertools\n",
        "\n",
        "import matplotlib.pyplot as plt\n",
        "import matplotlib.pyplot as plt\n",
        "!pip install japanize_matplotlib\n",
        "import japanize_matplotlib\n",
        "from sklearn.model_selection import train_test_split\n",
        "from sklearn import preprocessing\n",
        "from sklearn.decomposition import PCA"
      ],
      "execution_count": 2,
      "outputs": []
    },
    {
      "cell_type": "code",
      "metadata": {
        "id": "IPaTUR0GXPZz"
      },
      "source": [
        "# MeCabの用意\n",
        "%%capture\n",
        "!apt install aptitude swig\n",
        "!aptitude install mecab libmecab-dev mecab-ipadic-utf8 git make curl xz-utils file -y\n",
        "!pip install mecab-python3==0.996.5\n",
        "!pip install unidic-lite\n",
        "!pip install fugashi\n",
        "!pip install ipadic\n",
        "import ipadic"
      ],
      "execution_count": 3,
      "outputs": []
    },
    {
      "cell_type": "markdown",
      "metadata": {
        "id": "eb-yxvZUq_Gb"
      },
      "source": [
        "## **データのロードと分かち書き**"
      ]
    },
    {
      "cell_type": "code",
      "metadata": {
        "id": "ljPjhLLeS1fE"
      },
      "source": [
        "%cd /content/drive/MyDrive/Google Colab/niconico_dataset_add_smid/TestDate\n",
        "import MeCab\n",
        "mecab = MeCab.Tagger(\"-Owakati\")\n",
        "i=0\n",
        "# 学習データを加工\n",
        "with open('TRAIN.tsv', 'r') as f_in, open('TRAINFT.txt', 'w') as f_out:\n",
        "    for row in f_in:\n",
        "        print(i)\n",
        "        content, category = row.strip().split('\\t')\n",
        "        content=mecab.parse(content)\n",
        "        f_out.write('__label__{} {}\\n'.format(category, content))\n",
        "        i=i+1"
      ],
      "execution_count": null,
      "outputs": []
    },
    {
      "cell_type": "code",
      "metadata": {
        "id": "l6nUc0dM19KO",
        "colab": {
          "base_uri": "https://localhost:8080/"
        },
        "outputId": "1e0f4040-8c00-4e86-ce56-e7eb9d905670"
      },
      "source": [
        "# テストデータを加工\r\n",
        "i=0\r\n",
        "with open('/content/drive/MyDrive/Google Colab/niconico_dataset_add_smid/TestDate/動物/雀.tsv', 'r') as f_in, open('test_.txt', 'w') as f_out:\r\n",
        "    for row in f_in:\r\n",
        "        #print(i)\r\n",
        "        content, category = row.strip().split('\\t')\r\n",
        "        content=mecab.parse(content)\r\n",
        "        f_out.write('__label__{} {}\\n'.format(category, content))\r\n",
        "        #i=i+1\r\n",
        "\r\n",
        "print(\"Valid\", model.test('test_.txt'))"
      ],
      "execution_count": 78,
      "outputs": [
        {
          "output_type": "stream",
          "text": [
            "Valid (273, 0.6923076923076923, 0.6923076923076923)\n"
          ],
          "name": "stdout"
        }
      ]
    },
    {
      "cell_type": "markdown",
      "metadata": {
        "id": "x4R5vmKG-j9s"
      },
      "source": [
        "## **訓練**"
      ]
    },
    {
      "cell_type": "code",
      "metadata": {
        "id": "UJ56vRTh-i4N"
      },
      "source": [
        "model = ft.train_supervised(input=\"TRAINFT.txt\", epoch=50,loss=\"hs\")\n",
        "#model.save_model(\"fasttext.model\")\n",
        "#results = model.test(\"test_fasttext.txt\")\n",
        "print(\"TrainData:\", model.test('TRAINFT.txt'))\n",
        "print(\"Valid\", model.test('test_ft1.txt'))"
      ],
      "execution_count": null,
      "outputs": []
    },
    {
      "cell_type": "code",
      "metadata": {
        "id": "gC_J4vRmDylG"
      },
      "source": [
        "#他引数例\n",
        "\"\"\"\n",
        "input             # training file path (required)\n",
        "lr                # learning rate [0.1]\n",
        "dim               # size of word vectors [100]\n",
        "ws                # size of the context window [5]\n",
        "epoch             # number of epochs [5]\n",
        "minCount          # minimal number of word occurences [1]\n",
        "minCountLabel     # minimal number of label occurences [1]\n",
        "minn              # min length of char ngram [0]\n",
        "maxn              # max length of char ngram [0]\n",
        "neg               # number of negatives sampled [5]\n",
        "wordNgrams        # max length of word ngram [1]\n",
        "loss              # loss function {ns, hs, softmax, ova} [softmax]\n",
        "bucket            # number of buckets [2000000]\n",
        "thread            # number of threads [number of cpus]\n",
        "lrUpdateRate      # change the rate of updates for the learning rate [100]\n",
        "t                 # sampling threshold [0.0001]\n",
        "label             # label prefix ['__label__']\n",
        "verbose           # verbose [2]\n",
        "pretrainedVectors # pretrained word vectors (.vec file) for supervised learning []\n",
        "\"\"\""
      ],
      "execution_count": null,
      "outputs": []
    },
    {
      "cell_type": "markdown",
      "metadata": {
        "id": "NP4L2g_JgxbO"
      },
      "source": [
        "## **推論**"
      ]
    },
    {
      "cell_type": "code",
      "metadata": {
        "colab": {
          "base_uri": "https://localhost:8080/"
        },
        "id": "7Rl7YTqmEn7D",
        "outputId": "39439bb0-fff6-439e-82fd-0db437f70cc7"
      },
      "source": [
        "#文章ごとに推測\n",
        "import MeCab\n",
        "mecab = MeCab.Tagger(\"-Owakati\")\n",
        "pdtext=\"うっうー\"\n",
        "pdtext_w=mecab.parse(pdtext)\n",
        "print(pdtext_w)\n",
        "\n",
        "ret=model.predict(\"うっ う ー \")\n",
        "\n",
        "print(ret)\n",
        "\n",
        "#0 政治　1 動物\n",
        "#0ボカロ　1アイマス　2東方"
      ],
      "execution_count": null,
      "outputs": [
        {
          "output_type": "stream",
          "text": [
            "うっ う ー \n",
            "\n",
            "(('__label__0',), array([0.64758641]))\n"
          ],
          "name": "stdout"
        }
      ]
    },
    {
      "cell_type": "code",
      "metadata": {
        "colab": {
          "base_uri": "https://localhost:8080/"
        },
        "id": "lv77R2HfG4QW",
        "outputId": "2badb2bc-30a9-4ae3-8d32-bbbb2c3f0a89"
      },
      "source": [
        "#validデータを用いた精度確認\n",
        "with open(\"test_ft1.txt\") as f:\n",
        "    l_strip = [s.strip() for s in f.readlines()] # strip()を利用することにより改行文字除去\n",
        "\n",
        "labels = []\n",
        "texts = []\n",
        "sizes = []\n",
        "count=0\n",
        "for t in l_strip:\n",
        "  if count %2 == 0:\n",
        "    labels.append(re.findall('__label__[012] ', t)[0])###################カテゴリ数\n",
        "    texts.append(re.findall(' (.*)', t)[0])\n",
        "    sizes.append(model.predict(re.findall(' (.*)', t))[1][0][0])\n",
        "  count += 1\n",
        "\n",
        "#適当な例で実験\n",
        "print(\"正解ラベル:{}\".format(labels[10]))\n",
        "print(texts[10])\n",
        "print(model.predict(texts[10], k=2))##########################kはカテゴリ数の表示上位設定"
      ],
      "execution_count": 51,
      "outputs": [
        {
          "output_type": "stream",
          "text": [
            "正解ラベル:__label__2 \n",
            "今日 よく ねれる わ ー\n",
            "(('__label__1', '__label__2'), array([0.86884075, 0.13118929]))\n"
          ],
          "name": "stdout"
        }
      ]
    },
    {
      "cell_type": "code",
      "metadata": {
        "id": "cWApoS6kuO-u",
        "colab": {
          "base_uri": "https://localhost:8080/"
        },
        "outputId": "15073b78-9e94-4f38-ed82-21ed2d7993ed"
      },
      "source": [
        "#個々のベクトル表現を得るには\n",
        "t=\"猫 と 犬 で 迷う\"\n",
        "www=model.get_sentence_vector(t)\n",
        "print(www)"
      ],
      "execution_count": null,
      "outputs": [
        {
          "output_type": "stream",
          "text": [
            "[ 0.03007362  0.2512151  -0.12106111 -0.00531235  0.03077674  0.066675\n",
            "  0.00041888  0.09424168  0.23226961  0.11951847 -0.10660466  0.07933319\n",
            "  0.11024874  0.14864552 -0.07352811  0.01166525  0.08676912  0.07460886\n",
            "  0.11611976 -0.02872017 -0.06746415  0.097922    0.09137966 -0.06484094\n",
            "  0.00649568 -0.08607326 -0.00401859 -0.05223466 -0.1105269   0.01379815\n",
            " -0.09770624  0.02468904 -0.06235808 -0.07005125 -0.1976748  -0.05978104\n",
            " -0.00325327 -0.16362235 -0.08141939  0.00552259  0.12513053  0.32528028\n",
            " -0.00528302  0.01822162 -0.07007137 -0.00867076 -0.02285658 -0.07134865\n",
            " -0.14660299  0.02627513 -0.19286822  0.16546327 -0.0888906   0.10733052\n",
            " -0.06300815 -0.05933408 -0.02477273  0.07744361  0.05110376  0.04309278\n",
            " -0.04112717  0.12894048  0.13177407  0.14409125 -0.08642536  0.01995401\n",
            " -0.13080347  0.062452    0.10866918  0.02402759 -0.20970088  0.11803745\n",
            " -0.07867465  0.02675954 -0.03045872  0.10061269  0.28069192  0.13386345\n",
            " -0.03248847 -0.05386184  0.03434476  0.04817072  0.13822845 -0.0369167\n",
            "  0.0588944  -0.01652372  0.00553767  0.10315876 -0.02915378 -0.12668246\n",
            "  0.15693492  0.15115112  0.19362855 -0.16253549 -0.00637066 -0.12570453\n",
            "  0.10790832  0.01589814 -0.05237692 -0.10555296]\n"
          ],
          "name": "stdout"
        }
      ]
    },
    {
      "cell_type": "markdown",
      "metadata": {
        "id": "oS434oLmnhtQ"
      },
      "source": [
        "## **可視化**"
      ]
    },
    {
      "cell_type": "code",
      "metadata": {
        "id": "Jbt_l_k3nhWI"
      },
      "source": [
        "#記事一つ一つに対してベクトルを取得し、リストに格納\n",
        "vectors = []\n",
        "for t in texts:\n",
        "  texvec=model.get_sentence_vector(t)\n",
        "  vectors.append(texvec)\n",
        "\n",
        "#numpy配列に変更\n",
        "vectors = np.array(vectors)\n",
        "labels = np.array(labels)\n",
        "sizes = np.array(sizes)\n",
        "\n",
        "\n",
        "#StandardScalerを用いてベクトルを標準化\n",
        "ss = preprocessing.StandardScaler()\n",
        "vectors_std = ss.fit_transform(vectors)\n",
        "                                                  \n",
        "#主成分分析器PCAを用いて次元削減\n",
        "pca = PCA()\n",
        "pca.fit(vectors_std)\n",
        "feature = pca.transform(vectors_std)\n",
        "feature = feature[:, :2]#2次元ベクトルに変換"
      ],
      "execution_count": 52,
      "outputs": []
    },
    {
      "cell_type": "code",
      "metadata": {
        "id": "QegnBJszTwiN"
      },
      "source": [
        "print(sizes)"
      ],
      "execution_count": null,
      "outputs": []
    },
    {
      "cell_type": "code",
      "metadata": {
        "colab": {
          "base_uri": "https://localhost:8080/"
        },
        "id": "sX5MAsPtqf7p",
        "outputId": "62da75ab-72de-4c25-f0ff-da1b1746b474"
      },
      "source": [
        "#cos類似度計算\n",
        "def cos_sim(v1, v2):\n",
        "    return np.dot(v1, v2) / (np.linalg.norm(v1) * np.linalg.norm(v2))\n",
        "\n",
        "print(\"<{}><{}>\".format(labels[0], labels[5]))\n",
        "cos_sim(vectors[0], vectors[5])"
      ],
      "execution_count": 39,
      "outputs": [
        {
          "output_type": "stream",
          "text": [
            "<__label__1 ><__label__1 >\n"
          ],
          "name": "stdout"
        },
        {
          "output_type": "execute_result",
          "data": {
            "text/plain": [
              "0.9362151"
            ]
          },
          "metadata": {
            "tags": []
          },
          "execution_count": 39
        }
      ]
    },
    {
      "cell_type": "code",
      "metadata": {
        "colab": {
          "base_uri": "https://localhost:8080/",
          "height": 584
        },
        "id": "L6oD-cH0rDkd",
        "outputId": "82082c87-12d7-4103-b0d7-528151f3d302"
      },
      "source": [
        "#ベクトルを2次元プロット(sizesの数値によって点の大きさが変化)\n",
        "x0=[]\n",
        "x1=[]\n",
        "x2=[]\n",
        "y0=[]\n",
        "y1=[]\n",
        "y2=[]\n",
        "z0=[]\n",
        "z1=[]\n",
        "z2=[]\n",
        "\n",
        "#正解ラベルごとのベクトル値を格納\n",
        "x0, y0, z0 = feature[labels=='__label__0 ', 0], feature[labels=='__label__0 ', 1], sizes[labels=='__label__0 ']*10\n",
        "x1, y1, z1 = feature[labels=='__label__1 ', 0], feature[labels=='__label__1 ', 1], sizes[labels=='__label__1 ']*10\n",
        "x2, y2, z2 = feature[labels=='__label__2 ', 0], feature[labels=='__label__2 ', 1], sizes[labels=='__label__2 ']*10\n",
        "\n",
        "#x2, y2, z2 = feature[labels=='ライフ', 0], feature[labels=='ライフ', 1], sizes[labels=='ライフ']*1000\n",
        "#x3, y3, z3 = feature[labels=='国内', 0], feature[labels=='国内', 1], sizes[labels=='国内']*1000\n",
        "#x4, y4, z4 = feature[labels=='国際', 0], feature[labels=='国際', 1], sizes[labels=='国際']*1000\n",
        "#x5, y5, z5 = feature[labels=='地域', 0], feature[labels=='地域', 1], sizes[labels=='地域']*1000\n",
        "#x6, y6, z6 = feature[labels=='経済', 0], feature[labels=='経済', 1], sizes[labels=='経済']*1000\n",
        "\n",
        "\"\"\"\n",
        "count=0\n",
        "for ftr in feature:\n",
        "  if labels[count] == '__label__0 ':\n",
        "    x0.append(ftr[0])\n",
        "    y0.append(ftr[1])\n",
        "    z0.append(sizes[count]*100)\n",
        "  elif labels[count] == '__label__1 ':\n",
        "    x1.append(ftr[0])\n",
        "    y1.append(ftr[1])\n",
        "    z1.append(sizes[count]*100)\n",
        "  elif labels[count] == '__label__2 ':\n",
        "    x2.append(ftr[0])\n",
        "    y2.append(ftr[1])\n",
        "    z2.append(sizes[count]*100)\n",
        "  count += 1  \n",
        "\"\"\"\n",
        "\n",
        "plt.figure(figsize=(14, 10))\n",
        "plt.rcParams[\"font.size\"]=25\n",
        "plt.scatter(x0, y0, label=\"政治\", s=z0)\n",
        "plt.scatter(x1, y1, label=\"料理\", s=z1)\n",
        "plt.scatter(x2, y2, label=\"動物\", s=z2)\n",
        "#plt.scatter(x2, y2, label=\"ライフ\", s=z2)\n",
        "#plt.scatter(x3, y3, label=\"国内\", s=z3)\n",
        "#plt.scatter(x4, y4, label=\"国際\", s=z4)\n",
        "#plt.scatter(x5, y5, label=\"地域\", s=z5)\n",
        "#plt.scatter(x6, y6, label=\"経済\", s=z6)\n",
        "plt.title(\"ニコニコ動画コメント分類\")\n",
        "plt.xlabel('1st dimension')\n",
        "plt.ylabel('2nd dimension')\n",
        "plt.legend(title=\"category\")\n",
        "plt.show()"
      ],
      "execution_count": 53,
      "outputs": [
        {
          "output_type": "display_data",
          "data": {
            "image/png": "[encoded data removed]",
            "text/plain": [
              "<Figure size 1008x720 with 1 Axes>"
            ]
          },
          "metadata": {
            "tags": [],
            "needs_background": "light"
          }
        }
      ]
    },
    {
      "cell_type": "markdown",
      "metadata": {
        "id": "6wZtpKbPXceI"
      },
      "source": [
        "## **不要**"
      ]
    },
    {
      "cell_type": "code",
      "metadata": {
        "colab": {
          "base_uri": "https://localhost:8080/"
        },
        "id": "b5FLhn9CuwEe",
        "outputId": "ad37ca98-60f5-4051-b1bf-70e416f12c70"
      },
      "source": [
        "%cd /content/drive/My Drive/Google Colab/niconico_dataset_add_smid/fasttext\n",
        "import MeCab\n",
        "import csv\n",
        "import re\n",
        "mecab = MeCab.Tagger(\"-Owakati\")\n",
        "\n",
        "wakati = []\n",
        "\n",
        "#入力ファイル\n",
        "with open('Sfast.csv') as f:\n",
        "    reader = csv.reader(f)\n",
        "    for row in reader:\n",
        "      row[1]=mecab.parse(row[1])\n",
        "      mecab.parse('')\n",
        "      wakati.append(row)\n",
        "\n",
        "#出力ファイル\n",
        "with open('./fast/Sfast_w.csv', 'w') as f:\n",
        "  writer = csv.writer(f)\n",
        "  writer.writerows(wakati)"
      ],
      "execution_count": null,
      "outputs": [
        {
          "output_type": "stream",
          "text": [
            "/content/drive/My Drive/Google Colab/niconico_dataset_add_smid/fasttext\n"
          ],
          "name": "stdout"
        }
      ]
    },
    {
      "cell_type": "code",
      "metadata": {
        "colab": {
          "base_uri": "https://localhost:8080/"
        },
        "id": "owN8iPB-pRf5",
        "outputId": "cfe41c56-e6f9-45c0-e819-32e2b394f96c"
      },
      "source": [
        "#データラベルの置換\n",
        "%cd /content/drive/My Drive/Google Colab/niconico_dataset_add_smid/fasttext\n",
        "\n",
        "rep=[]\n",
        "\n",
        "with open('Sfast.csv') as f:\n",
        "    reader = csv.reader(f)\n",
        "    for row in reader:\n",
        "      row[0]=row[0].replace(\"政治\", \"__label__0\")\n",
        "      rep.append(row)\n",
        "\n",
        "#出力ファイル\n",
        "with open('Sfast.csv', 'w') as f:\n",
        "  writer = csv.writer(f)\n",
        "  writer.writerows(rep)"
      ],
      "execution_count": null,
      "outputs": [
        {
          "output_type": "stream",
          "text": [
            "/content/drive/My Drive/Google Colab/niconico_dataset_add_smid/fasttext\n"
          ],
          "name": "stdout"
        }
      ]
    },
    {
      "cell_type": "code",
      "metadata": {
        "id": "DFRazxQFnHjj"
      },
      "source": [
        "#csv出力\n",
        "%cd /content/drive/My Drive/Google Colab/niconico_dataset_add_smid/\n",
        "import pandas as pd\n",
        "import sqlite3\n",
        "\n",
        "i=0\n",
        "df = pd.DataFrame(index=[], columns=['category','content'])\n",
        "\n",
        "con = sqlite3.connect(\"2525.db\")\n",
        "c = con.cursor()\n",
        "c.execute(\"select content,category from comment inner join video on comment.video_id=video.video_id where length(content)>=8 and category='政治'\")\n",
        "for row in c: # rowはtuple\n",
        "    #print(row[0], row[1])\n",
        "    df.loc[i]=[row[1], row[0]]\n",
        "    i+=1\n",
        "\n",
        "#df.head()\n",
        "#データをシャッフル\n",
        "df = df.sample(frac=1, random_state=121).reset_index(drop=True)\n",
        "\n",
        "\n",
        "#取り出すデータ数指定\n",
        "df[:1000].to_csv('/content/drive/MyDrive/Google Colab/niconico_dataset_add_smid/fasttext/Sfast.csv', index=False, header=None)\n",
        "\n",
        "#print(df[:len].shape)\n",
        "#df.to_csv('/content/entame.tsv', sep='\\t', index=False)\n",
        "con.commit()\n",
        "con.close()"
      ],
      "execution_count": null,
      "outputs": []
    },
    {
      "cell_type": "code",
      "metadata": {
        "colab": {
          "base_uri": "https://localhost:8080/"
        },
        "id": "yj_x8q0rWP24",
        "outputId": "a4886eab-9d26-4f32-c783-57396b49cb14"
      },
      "source": [
        "%cd /content/drive/MyDrive/Google Colab/niconico_dataset_add_smid\n",
        "#分かち書き\n",
        "import MeCab\n",
        "import csv\n",
        "import re\n",
        "mecab = MeCab.Tagger(\"-Owakati\")\n",
        "\n",
        "wakati = []\n",
        "wakati_test = []\n",
        "\n",
        "#訓練######################\n",
        "#入力ファイル\n",
        "with open('train.tsv') as f:\n",
        "    reader = csv.reader(f,delimiter='\\t')\n",
        "    for row in reader:\n",
        "      row[0]=mecab.parse(row[0])\n",
        "      #mecab.parse('')\n",
        "      wakati.append(row)\n",
        "\n",
        "#出力ファイル\n",
        "with open('/content/drive/MyDrive/Google Colab/niconico_dataset_add_smid/fasttext/train_w.tsv', 'w') as f:\n",
        "  writer = csv.writer(f,delimiter='\\t', lineterminator='\\n')\n",
        "  writer.writerows(wakati)\n",
        "\n",
        "#テスト#####################\n",
        "#入力ファイル\n",
        "with open('test.tsv') as f:\n",
        "    reader = csv.reader(f,delimiter='\\t')\n",
        "    for row in reader:\n",
        "      row[0]=mecab.parse(row[0])\n",
        "      #mecab.parse('')\n",
        "      wakati_test.append(row)\n",
        "\n",
        "#出力ファイル\n",
        "with open('/content/drive/MyDrive/Google Colab/niconico_dataset_add_smid/fasttext/test_w.tsv','w') as f:\n",
        "  writer = csv.writer(f,delimiter='\\t', lineterminator='\\n')\n",
        "  writer.writerows(wakati_test)\n"
      ],
      "execution_count": null,
      "outputs": [
        {
          "output_type": "stream",
          "text": [
            "/content/drive/MyDrive/Google Colab/niconico_dataset_add_smid\n"
          ],
          "name": "stdout"
        }
      ]
    }
  ]
}